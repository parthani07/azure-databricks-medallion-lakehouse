{
 "cells": [
  {
   "cell_type": "code",
   "execution_count": 0,
   "metadata": {
    "application/vnd.databricks.v1+cell": {
     "cellMetadata": {
      "byteLimit": 2048000,
      "rowLimit": 10000
     },
     "inputWidgets": {},
     "nuid": "58d43937-bd76-4a2e-8cb3-be7bd727b35a",
     "showTitle": false,
     "tableResultSettingsMap": {},
     "title": ""
    }
   },
   "outputs": [],
   "source": [
    "from pyspark.sql.functions import *\n",
    "from pyspark.sql.types import *"
   ]
  },
  {
   "cell_type": "code",
   "execution_count": 0,
   "metadata": {
    "application/vnd.databricks.v1+cell": {
     "cellMetadata": {
      "byteLimit": 2048000,
      "rowLimit": 10000
     },
     "inputWidgets": {},
     "nuid": "da3a9617-67ef-4069-9cd2-e85091b96726",
     "showTitle": false,
     "tableResultSettingsMap": {},
     "title": ""
    }
   },
   "outputs": [],
   "source": [
    "init_load_flag=int(dbutils.widgets.get(\"init_load_flag\"))"
   ]
  },
  {
   "cell_type": "markdown",
   "metadata": {
    "application/vnd.databricks.v1+cell": {
     "cellMetadata": {
      "byteLimit": 2048000,
      "rowLimit": 10000
     },
     "inputWidgets": {},
     "nuid": "3213a00c-1d96-4619-a0dc-3d855b360d1c",
     "showTitle": false,
     "tableResultSettingsMap": {},
     "title": ""
    }
   },
   "source": [
    "### **Data Reading from source**"
   ]
  },
  {
   "cell_type": "code",
   "execution_count": 0,
   "metadata": {
    "application/vnd.databricks.v1+cell": {
     "cellMetadata": {
      "byteLimit": 2048000,
      "rowLimit": 10000
     },
     "inputWidgets": {},
     "nuid": "f9c91f49-8208-4e11-a1b0-cd69df7ac954",
     "showTitle": false,
     "tableResultSettingsMap": {},
     "title": ""
    }
   },
   "outputs": [],
   "source": [
    "df=spark.sql(\"select * from databricks_cata.silver.customers_silver\")"
   ]
  },
  {
   "cell_type": "markdown",
   "metadata": {
    "application/vnd.databricks.v1+cell": {
     "cellMetadata": {
      "byteLimit": 2048000,
      "rowLimit": 10000
     },
     "inputWidgets": {},
     "nuid": "b95a6163-d1c4-479f-a741-51cabbfda8d8",
     "showTitle": false,
     "tableResultSettingsMap": {},
     "title": ""
    }
   },
   "source": [
    "**Removing Duplicates**"
   ]
  },
  {
   "cell_type": "code",
   "execution_count": 0,
   "metadata": {
    "application/vnd.databricks.v1+cell": {
     "cellMetadata": {
      "byteLimit": 2048000,
      "rowLimit": 10000
     },
     "inputWidgets": {},
     "nuid": "187f0f73-d012-4a86-8735-44ed50370db7",
     "showTitle": false,
     "tableResultSettingsMap": {},
     "title": ""
    }
   },
   "outputs": [],
   "source": [
    "df=df.dropDuplicates(subset=[\"customer_id\"])"
   ]
  },
  {
   "cell_type": "markdown",
   "metadata": {
    "application/vnd.databricks.v1+cell": {
     "cellMetadata": {
      "byteLimit": 2048000,
      "rowLimit": 10000
     },
     "inputWidgets": {},
     "nuid": "6f9bcef2-3360-4743-81a1-5d581b91102e",
     "showTitle": false,
     "tableResultSettingsMap": {},
     "title": ""
    }
   },
   "source": [
    "**Surrogate keys - All the Values**"
   ]
  },
  {
   "cell_type": "code",
   "execution_count": 0,
   "metadata": {
    "application/vnd.databricks.v1+cell": {
     "cellMetadata": {
      "byteLimit": 2048000,
      "rowLimit": 10000
     },
     "inputWidgets": {},
     "nuid": "c1abdb5b-0cd9-4899-91ee-a55091b4152d",
     "showTitle": false,
     "tableResultSettingsMap": {},
     "title": ""
    }
   },
   "outputs": [],
   "source": [
    "df=df.withColumn(\"DimCustomerKey\",monotonically_increasing_id()+lit(1))"
   ]
  },
  {
   "cell_type": "code",
   "execution_count": 0,
   "metadata": {
    "application/vnd.databricks.v1+cell": {
     "cellMetadata": {
      "byteLimit": 2048000,
      "rowLimit": 10000
     },
     "inputWidgets": {},
     "nuid": "79a84faf-a77f-4739-a8cb-2ce3263da788",
     "showTitle": false,
     "tableResultSettingsMap": {},
     "title": ""
    }
   },
   "outputs": [
    {
     "output_type": "display_data",
     "data": {
      "text/html": [
       "<style scoped>\n",
       "  .table-result-container {\n",
       "    max-height: 300px;\n",
       "    overflow: auto;\n",
       "  }\n",
       "  table, th, td {\n",
       "    border: 1px solid black;\n",
       "    border-collapse: collapse;\n",
       "  }\n",
       "  th, td {\n",
       "    padding: 5px;\n",
       "  }\n",
       "  th {\n",
       "    text-align: left;\n",
       "  }\n",
       "</style><div class='table-result-container'><table class='table-result'><thead style='background-color: white'><tr><th>customer_id</th><th>email</th><th>city</th><th>state</th><th>domains</th><th>full_name</th><th>DimCustomerKey</th></tr></thead><tbody><tr><td>C00001</td><td>rushjeff@ryan.org</td><td>Johnsonmouth</td><td>MS</td><td>ryan.org</td><td>Emily Mooney</td><td>1</td></tr><tr><td>C00002</td><td>mccoykiara@kelly.com</td><td>Stephenfort</td><td>WY</td><td>kelly.com</td><td>Andrea Sellers</td><td>2</td></tr><tr><td>C00003</td><td>rebeccamiller@yahoo.com</td><td>South Stephenshire</td><td>LA</td><td>yahoo.com</td><td>Craig Hayes</td><td>3</td></tr><tr><td>C00004</td><td>lawrence05@campbell.info</td><td>Chrisland</td><td>ND</td><td>campbell.info</td><td>Bryan Scott</td><td>4</td></tr><tr><td>C00005</td><td>carrie45@yahoo.com</td><td>East Dennistown</td><td>RI</td><td>yahoo.com</td><td>Sean Vasquez</td><td>5</td></tr><tr><td>C00006</td><td>traceyramos@gmail.com</td><td>North Matthew</td><td>IN</td><td>gmail.com</td><td>Kevin Mccarthy</td><td>6</td></tr><tr><td>C00007</td><td>scottallen@gmail.com</td><td>Joneshaven</td><td>VA</td><td>gmail.com</td><td>Amanda Doyle</td><td>7</td></tr><tr><td>C00008</td><td>sullivanjeremy@horton-adams.com</td><td>South Nathanfurt</td><td>CT</td><td>horton-adams.com</td><td>Paul Campos</td><td>8</td></tr><tr><td>C00009</td><td>dennis03@yahoo.com</td><td>Kimberlyview</td><td>MD</td><td>yahoo.com</td><td>Mary Green</td><td>9</td></tr><tr><td>C00010</td><td>charles58@murillo.net</td><td>West Hector</td><td>OK</td><td>murillo.net</td><td>James Myers</td><td>10</td></tr></tbody></table></div>"
      ]
     },
     "metadata": {
      "application/vnd.databricks.v1+output": {
       "addedWidgets": {},
       "aggData": [],
       "aggError": "",
       "aggOverflow": false,
       "aggSchema": [],
       "aggSeriesLimitReached": false,
       "aggType": "",
       "arguments": {},
       "columnCustomDisplayInfos": {},
       "data": [
        [
         "C00001",
         "rushjeff@ryan.org",
         "Johnsonmouth",
         "MS",
         "ryan.org",
         "Emily Mooney",
         1
        ],
        [
         "C00002",
         "mccoykiara@kelly.com",
         "Stephenfort",
         "WY",
         "kelly.com",
         "Andrea Sellers",
         2
        ],
        [
         "C00003",
         "rebeccamiller@yahoo.com",
         "South Stephenshire",
         "LA",
         "yahoo.com",
         "Craig Hayes",
         3
        ],
        [
         "C00004",
         "lawrence05@campbell.info",
         "Chrisland",
         "ND",
         "campbell.info",
         "Bryan Scott",
         4
        ],
        [
         "C00005",
         "carrie45@yahoo.com",
         "East Dennistown",
         "RI",
         "yahoo.com",
         "Sean Vasquez",
         5
        ],
        [
         "C00006",
         "traceyramos@gmail.com",
         "North Matthew",
         "IN",
         "gmail.com",
         "Kevin Mccarthy",
         6
        ],
        [
         "C00007",
         "scottallen@gmail.com",
         "Joneshaven",
         "VA",
         "gmail.com",
         "Amanda Doyle",
         7
        ],
        [
         "C00008",
         "sullivanjeremy@horton-adams.com",
         "South Nathanfurt",
         "CT",
         "horton-adams.com",
         "Paul Campos",
         8
        ],
        [
         "C00009",
         "dennis03@yahoo.com",
         "Kimberlyview",
         "MD",
         "yahoo.com",
         "Mary Green",
         9
        ],
        [
         "C00010",
         "charles58@murillo.net",
         "West Hector",
         "OK",
         "murillo.net",
         "James Myers",
         10
        ]
       ],
       "datasetInfos": [],
       "dbfsResultPath": null,
       "isJsonSchema": true,
       "metadata": {},
       "overflow": false,
       "plotOptions": {
        "customPlotOptions": {},
        "displayType": "table",
        "pivotAggregation": null,
        "pivotColumns": null,
        "xColumns": null,
        "yColumns": null
       },
       "removedWidgets": [],
       "schema": [
        {
         "metadata": "{}",
         "name": "customer_id",
         "type": "\"string\""
        },
        {
         "metadata": "{}",
         "name": "email",
         "type": "\"string\""
        },
        {
         "metadata": "{}",
         "name": "city",
         "type": "\"string\""
        },
        {
         "metadata": "{}",
         "name": "state",
         "type": "\"string\""
        },
        {
         "metadata": "{}",
         "name": "domains",
         "type": "\"string\""
        },
        {
         "metadata": "{}",
         "name": "full_name",
         "type": "\"string\""
        },
        {
         "metadata": "{}",
         "name": "DimCustomerKey",
         "type": "\"long\""
        }
       ],
       "type": "table"
      }
     },
     "output_type": "display_data"
    }
   ],
   "source": [
    "df.limit(10).display()"
   ]
  },
  {
   "cell_type": "markdown",
   "metadata": {
    "application/vnd.databricks.v1+cell": {
     "cellMetadata": {
      "byteLimit": 2048000,
      "rowLimit": 10000
     },
     "inputWidgets": {},
     "nuid": "e69434ee-df2f-4892-b918-316d75f51c1c",
     "showTitle": false,
     "tableResultSettingsMap": {},
     "title": ""
    }
   },
   "source": [
    "# **Dividing New vs Old Records**"
   ]
  },
  {
   "cell_type": "code",
   "execution_count": 0,
   "metadata": {
    "application/vnd.databricks.v1+cell": {
     "cellMetadata": {
      "byteLimit": 2048000,
      "rowLimit": 10000
     },
     "inputWidgets": {},
     "nuid": "dfc4b4c9-b079-4190-9b33-624398d79ac3",
     "showTitle": false,
     "tableResultSettingsMap": {},
     "title": ""
    }
   },
   "outputs": [],
   "source": [
    "if init_load_flag==0:\n",
    "    df_old=spark.sql(\"select DimCustomerKey, customer_id, create_date, update_date from databricks_cata.gold.DimCustomers\")\n",
    "else:\n",
    "    df_old=spark.sql(\"select 0 DimCustomerKey, 0 customer_id, 0 create_date, 0 update_date from databricks_cata.silver.customers_silver where 1=0\")"
   ]
  },
  {
   "cell_type": "code",
   "execution_count": 0,
   "metadata": {
    "application/vnd.databricks.v1+cell": {
     "cellMetadata": {
      "byteLimit": 2048000,
      "rowLimit": 10000
     },
     "inputWidgets": {},
     "nuid": "2d96049b-aa06-4861-b149-5465fdfe0dbb",
     "showTitle": false,
     "tableResultSettingsMap": {},
     "title": ""
    }
   },
   "outputs": [
    {
     "output_type": "display_data",
     "data": {
      "text/html": [
       "<style scoped>\n",
       "  .table-result-container {\n",
       "    max-height: 300px;\n",
       "    overflow: auto;\n",
       "  }\n",
       "  table, th, td {\n",
       "    border: 1px solid black;\n",
       "    border-collapse: collapse;\n",
       "  }\n",
       "  th, td {\n",
       "    padding: 5px;\n",
       "  }\n",
       "  th {\n",
       "    text-align: left;\n",
       "  }\n",
       "</style><div class='table-result-container'><table class='table-result'><thead style='background-color: white'><tr><th>DimCustomerKey</th><th>customer_id</th><th>create_date</th><th>update_date</th></tr></thead><tbody><tr><td>1150</td><td>C00001</td><td>2025-09-12T20:25:23.833Z</td><td>2025-09-12T20:25:23.833Z</td></tr><tr><td>916</td><td>C00002</td><td>2025-09-12T20:25:23.833Z</td><td>2025-09-12T20:25:23.833Z</td></tr><tr><td>1777</td><td>C00003</td><td>2025-09-12T20:25:23.833Z</td><td>2025-09-12T20:25:23.833Z</td></tr><tr><td>435</td><td>C00004</td><td>2025-09-12T20:25:23.833Z</td><td>2025-09-12T20:25:23.833Z</td></tr><tr><td>511</td><td>C00005</td><td>2025-09-12T20:25:23.833Z</td><td>2025-09-12T20:25:23.833Z</td></tr><tr><td>454</td><td>C00006</td><td>2025-09-12T20:25:23.833Z</td><td>2025-09-12T20:25:23.833Z</td></tr><tr><td>166</td><td>C00007</td><td>2025-09-12T20:25:23.833Z</td><td>2025-09-12T20:25:23.833Z</td></tr><tr><td>861</td><td>C00008</td><td>2025-09-12T20:25:23.833Z</td><td>2025-09-12T20:25:23.833Z</td></tr><tr><td>1051</td><td>C00009</td><td>2025-09-12T20:25:23.833Z</td><td>2025-09-12T20:25:23.833Z</td></tr><tr><td>1561</td><td>C00010</td><td>2025-09-12T20:25:23.833Z</td><td>2025-09-12T20:25:23.833Z</td></tr></tbody></table></div>"
      ]
     },
     "metadata": {
      "application/vnd.databricks.v1+output": {
       "addedWidgets": {},
       "aggData": [],
       "aggError": "",
       "aggOverflow": false,
       "aggSchema": [],
       "aggSeriesLimitReached": false,
       "aggType": "",
       "arguments": {},
       "columnCustomDisplayInfos": {},
       "data": [
        [
         1150,
         "C00001",
         "2025-09-12T20:25:23.833Z",
         "2025-09-12T20:25:23.833Z"
        ],
        [
         916,
         "C00002",
         "2025-09-12T20:25:23.833Z",
         "2025-09-12T20:25:23.833Z"
        ],
        [
         1777,
         "C00003",
         "2025-09-12T20:25:23.833Z",
         "2025-09-12T20:25:23.833Z"
        ],
        [
         435,
         "C00004",
         "2025-09-12T20:25:23.833Z",
         "2025-09-12T20:25:23.833Z"
        ],
        [
         511,
         "C00005",
         "2025-09-12T20:25:23.833Z",
         "2025-09-12T20:25:23.833Z"
        ],
        [
         454,
         "C00006",
         "2025-09-12T20:25:23.833Z",
         "2025-09-12T20:25:23.833Z"
        ],
        [
         166,
         "C00007",
         "2025-09-12T20:25:23.833Z",
         "2025-09-12T20:25:23.833Z"
        ],
        [
         861,
         "C00008",
         "2025-09-12T20:25:23.833Z",
         "2025-09-12T20:25:23.833Z"
        ],
        [
         1051,
         "C00009",
         "2025-09-12T20:25:23.833Z",
         "2025-09-12T20:25:23.833Z"
        ],
        [
         1561,
         "C00010",
         "2025-09-12T20:25:23.833Z",
         "2025-09-12T20:25:23.833Z"
        ]
       ],
       "datasetInfos": [],
       "dbfsResultPath": null,
       "isJsonSchema": true,
       "metadata": {},
       "overflow": false,
       "plotOptions": {
        "customPlotOptions": {},
        "displayType": "table",
        "pivotAggregation": null,
        "pivotColumns": null,
        "xColumns": null,
        "yColumns": null
       },
       "removedWidgets": [],
       "schema": [
        {
         "metadata": "{}",
         "name": "DimCustomerKey",
         "type": "\"long\""
        },
        {
         "metadata": "{}",
         "name": "customer_id",
         "type": "\"string\""
        },
        {
         "metadata": "{}",
         "name": "create_date",
         "type": "\"timestamp\""
        },
        {
         "metadata": "{}",
         "name": "update_date",
         "type": "\"timestamp\""
        }
       ],
       "type": "table"
      }
     },
     "output_type": "display_data"
    }
   ],
   "source": [
    "df_old.limit(10).display()"
   ]
  },
  {
   "cell_type": "markdown",
   "metadata": {
    "application/vnd.databricks.v1+cell": {
     "cellMetadata": {
      "byteLimit": 2048000,
      "rowLimit": 10000
     },
     "inputWidgets": {},
     "nuid": "d761bb4a-d645-49f5-8968-7ca493c37c65",
     "showTitle": false,
     "tableResultSettingsMap": {},
     "title": ""
    }
   },
   "source": [
    "**Renaming columns of df_old**"
   ]
  },
  {
   "cell_type": "code",
   "execution_count": 0,
   "metadata": {
    "application/vnd.databricks.v1+cell": {
     "cellMetadata": {
      "byteLimit": 2048000,
      "rowLimit": 10000
     },
     "inputWidgets": {},
     "nuid": "f05e38a8-a50a-472d-8826-75a71f592ff4",
     "showTitle": false,
     "tableResultSettingsMap": {},
     "title": ""
    }
   },
   "outputs": [],
   "source": [
    "df_old=df_old.withColumnRenamed(\"DimCustomerKey\",\"Old_DimCustomerKey\")\\\n",
    "    .withColumnRenamed(\"customer_id\",\"Old_customer_id\")\\\n",
    "    .withColumnRenamed(\"create_date\",\"Old_create_date\")\\\n",
    "    .withColumnRenamed(\"update_date\",\"Old_update_date\")"
   ]
  },
  {
   "cell_type": "markdown",
   "metadata": {
    "application/vnd.databricks.v1+cell": {
     "cellMetadata": {
      "byteLimit": 2048000,
      "rowLimit": 10000
     },
     "inputWidgets": {},
     "nuid": "b44584c1-f1e9-4a1b-b164-c3c5b1e33068",
     "showTitle": false,
     "tableResultSettingsMap": {},
     "title": ""
    }
   },
   "source": [
    "**Applying Join with old records**"
   ]
  },
  {
   "cell_type": "code",
   "execution_count": 0,
   "metadata": {
    "application/vnd.databricks.v1+cell": {
     "cellMetadata": {
      "byteLimit": 2048000,
      "rowLimit": 10000
     },
     "inputWidgets": {},
     "nuid": "017c65ff-79a1-4b99-b5c0-1cb65d6e1430",
     "showTitle": false,
     "tableResultSettingsMap": {},
     "title": ""
    }
   },
   "outputs": [],
   "source": [
    "df_join=df.join(df_old,df['customer_id']==df_old['old_customer_id'],'left')"
   ]
  },
  {
   "cell_type": "code",
   "execution_count": 0,
   "metadata": {
    "application/vnd.databricks.v1+cell": {
     "cellMetadata": {
      "byteLimit": 2048000,
      "rowLimit": 10000
     },
     "inputWidgets": {},
     "nuid": "10e7ea39-a37c-4103-92fe-d92fae9487b1",
     "showTitle": false,
     "tableResultSettingsMap": {
      "0": {
       "dataGridStateBlob": "{\"version\":1,\"tableState\":{\"columnPinning\":{\"left\":[\"#row_number#\"],\"right\":[]},\"columnSizing\":{},\"columnVisibility\":{}},\"settings\":{\"columns\":{}},\"syncTimestamp\":1757357670385}",
       "filterBlob": null,
       "queryPlanFiltersBlob": null,
       "tableResultIndex": 0
      }
     },
     "title": ""
    }
   },
   "outputs": [
    {
     "output_type": "display_data",
     "data": {
      "text/html": [
       "<style scoped>\n",
       "  .table-result-container {\n",
       "    max-height: 300px;\n",
       "    overflow: auto;\n",
       "  }\n",
       "  table, th, td {\n",
       "    border: 1px solid black;\n",
       "    border-collapse: collapse;\n",
       "  }\n",
       "  th, td {\n",
       "    padding: 5px;\n",
       "  }\n",
       "  th {\n",
       "    text-align: left;\n",
       "  }\n",
       "</style><div class='table-result-container'><table class='table-result'><thead style='background-color: white'><tr><th>customer_id</th><th>email</th><th>city</th><th>state</th><th>domains</th><th>full_name</th><th>DimCustomerKey</th><th>Old_DimCustomerKey</th><th>Old_customer_id</th><th>Old_create_date</th><th>Old_update_date</th></tr></thead><tbody><tr><td>C01220</td><td>matthew01@yahoo.com</td><td>New Andrewhaven</td><td>WA</td><td>yahoo.com</td><td>Thomas Fitzgerald</td><td>1</td><td>1</td><td>C01220</td><td>2025-09-12T20:25:23.833Z</td><td>2025-09-12T20:25:23.833Z</td></tr><tr><td>C01579</td><td>nathancastro@gmail.com</td><td>South Amanda</td><td>FL</td><td>gmail.com</td><td>Brittany Schmidt</td><td>2</td><td>2</td><td>C01579</td><td>2025-09-12T20:25:23.833Z</td><td>2025-09-12T20:25:23.833Z</td></tr><tr><td>C01155</td><td>cynthia51@lewis-dixon.com</td><td>East Theresa</td><td>FL</td><td>lewis-dixon.com</td><td>Latasha Phelps</td><td>3</td><td>3</td><td>C01155</td><td>2025-09-12T20:25:23.833Z</td><td>2025-09-12T20:25:23.833Z</td></tr><tr><td>C01943</td><td>rodriguezzachary@hotmail.com</td><td>East Timothy</td><td>PA</td><td>hotmail.com</td><td>David Cooper</td><td>4</td><td>4</td><td>C01943</td><td>2025-09-12T20:25:23.833Z</td><td>2025-09-12T20:25:23.833Z</td></tr><tr><td>C01554</td><td>sthompson@harding.com</td><td>New Leefurt</td><td>ME</td><td>harding.com</td><td>Gavin Lindsey</td><td>5</td><td>5</td><td>C01554</td><td>2025-09-12T20:25:23.833Z</td><td>2025-09-12T20:25:23.833Z</td></tr><tr><td>C00767</td><td>rsmith@pruitt-hodges.net</td><td>Heatherton</td><td>IL</td><td>pruitt-hodges.net</td><td>Pam Watts</td><td>6</td><td>6</td><td>C00767</td><td>2025-09-12T20:25:23.833Z</td><td>2025-09-12T20:25:23.833Z</td></tr><tr><td>C01097</td><td>joel22@stone-holmes.com</td><td>Davidhaven</td><td>LA</td><td>stone-holmes.com</td><td>James Martinez</td><td>7</td><td>7</td><td>C01097</td><td>2025-09-12T20:25:23.833Z</td><td>2025-09-12T20:25:23.833Z</td></tr><tr><td>C01674</td><td>crystalraymond@keller.com</td><td>Hoborough</td><td>ME</td><td>keller.com</td><td>Nicole Johnston</td><td>8</td><td>8</td><td>C01674</td><td>2025-09-12T20:25:23.833Z</td><td>2025-09-12T20:25:23.833Z</td></tr><tr><td>C00215</td><td>petersonthomas@yahoo.com</td><td>South Andrea</td><td>OK</td><td>yahoo.com</td><td>Danielle Huerta</td><td>9</td><td>9</td><td>C00215</td><td>2025-09-12T20:25:23.833Z</td><td>2025-09-12T20:25:23.833Z</td></tr><tr><td>C00587</td><td>phillipsstephanie@gmail.com</td><td>New Ronaldmouth</td><td>OR</td><td>gmail.com</td><td>Michael Bailey</td><td>10</td><td>10</td><td>C00587</td><td>2025-09-12T20:25:23.833Z</td><td>2025-09-12T20:25:23.833Z</td></tr></tbody></table></div>"
      ]
     },
     "metadata": {
      "application/vnd.databricks.v1+output": {
       "addedWidgets": {},
       "aggData": [],
       "aggError": "",
       "aggOverflow": false,
       "aggSchema": [],
       "aggSeriesLimitReached": false,
       "aggType": "",
       "arguments": {},
       "columnCustomDisplayInfos": {},
       "data": [
        [
         "C01220",
         "matthew01@yahoo.com",
         "New Andrewhaven",
         "WA",
         "yahoo.com",
         "Thomas Fitzgerald",
         1,
         1,
         "C01220",
         "2025-09-12T20:25:23.833Z",
         "2025-09-12T20:25:23.833Z"
        ],
        [
         "C01579",
         "nathancastro@gmail.com",
         "South Amanda",
         "FL",
         "gmail.com",
         "Brittany Schmidt",
         2,
         2,
         "C01579",
         "2025-09-12T20:25:23.833Z",
         "2025-09-12T20:25:23.833Z"
        ],
        [
         "C01155",
         "cynthia51@lewis-dixon.com",
         "East Theresa",
         "FL",
         "lewis-dixon.com",
         "Latasha Phelps",
         3,
         3,
         "C01155",
         "2025-09-12T20:25:23.833Z",
         "2025-09-12T20:25:23.833Z"
        ],
        [
         "C01943",
         "rodriguezzachary@hotmail.com",
         "East Timothy",
         "PA",
         "hotmail.com",
         "David Cooper",
         4,
         4,
         "C01943",
         "2025-09-12T20:25:23.833Z",
         "2025-09-12T20:25:23.833Z"
        ],
        [
         "C01554",
         "sthompson@harding.com",
         "New Leefurt",
         "ME",
         "harding.com",
         "Gavin Lindsey",
         5,
         5,
         "C01554",
         "2025-09-12T20:25:23.833Z",
         "2025-09-12T20:25:23.833Z"
        ],
        [
         "C00767",
         "rsmith@pruitt-hodges.net",
         "Heatherton",
         "IL",
         "pruitt-hodges.net",
         "Pam Watts",
         6,
         6,
         "C00767",
         "2025-09-12T20:25:23.833Z",
         "2025-09-12T20:25:23.833Z"
        ],
        [
         "C01097",
         "joel22@stone-holmes.com",
         "Davidhaven",
         "LA",
         "stone-holmes.com",
         "James Martinez",
         7,
         7,
         "C01097",
         "2025-09-12T20:25:23.833Z",
         "2025-09-12T20:25:23.833Z"
        ],
        [
         "C01674",
         "crystalraymond@keller.com",
         "Hoborough",
         "ME",
         "keller.com",
         "Nicole Johnston",
         8,
         8,
         "C01674",
         "2025-09-12T20:25:23.833Z",
         "2025-09-12T20:25:23.833Z"
        ],
        [
         "C00215",
         "petersonthomas@yahoo.com",
         "South Andrea",
         "OK",
         "yahoo.com",
         "Danielle Huerta",
         9,
         9,
         "C00215",
         "2025-09-12T20:25:23.833Z",
         "2025-09-12T20:25:23.833Z"
        ],
        [
         "C00587",
         "phillipsstephanie@gmail.com",
         "New Ronaldmouth",
         "OR",
         "gmail.com",
         "Michael Bailey",
         10,
         10,
         "C00587",
         "2025-09-12T20:25:23.833Z",
         "2025-09-12T20:25:23.833Z"
        ]
       ],
       "datasetInfos": [],
       "dbfsResultPath": null,
       "isJsonSchema": true,
       "metadata": {},
       "overflow": false,
       "plotOptions": {
        "customPlotOptions": {},
        "displayType": "table",
        "pivotAggregation": null,
        "pivotColumns": null,
        "xColumns": null,
        "yColumns": null
       },
       "removedWidgets": [],
       "schema": [
        {
         "metadata": "{}",
         "name": "customer_id",
         "type": "\"string\""
        },
        {
         "metadata": "{}",
         "name": "email",
         "type": "\"string\""
        },
        {
         "metadata": "{}",
         "name": "city",
         "type": "\"string\""
        },
        {
         "metadata": "{}",
         "name": "state",
         "type": "\"string\""
        },
        {
         "metadata": "{}",
         "name": "domains",
         "type": "\"string\""
        },
        {
         "metadata": "{}",
         "name": "full_name",
         "type": "\"string\""
        },
        {
         "metadata": "{}",
         "name": "DimCustomerKey",
         "type": "\"long\""
        },
        {
         "metadata": "{}",
         "name": "Old_DimCustomerKey",
         "type": "\"long\""
        },
        {
         "metadata": "{}",
         "name": "Old_customer_id",
         "type": "\"string\""
        },
        {
         "metadata": "{}",
         "name": "Old_create_date",
         "type": "\"timestamp\""
        },
        {
         "metadata": "{}",
         "name": "Old_update_date",
         "type": "\"timestamp\""
        }
       ],
       "type": "table"
      }
     },
     "output_type": "display_data"
    }
   ],
   "source": [
    "df_join.limit(10).display()"
   ]
  },
  {
   "cell_type": "markdown",
   "metadata": {
    "application/vnd.databricks.v1+cell": {
     "cellMetadata": {
      "byteLimit": 2048000,
      "rowLimit": 10000
     },
     "inputWidgets": {},
     "nuid": "d2b453bd-ba94-4c8e-a18e-dcae7eb175bc",
     "showTitle": false,
     "tableResultSettingsMap": {},
     "title": ""
    }
   },
   "source": [
    "**Separating old vs new records**"
   ]
  },
  {
   "cell_type": "code",
   "execution_count": 0,
   "metadata": {
    "application/vnd.databricks.v1+cell": {
     "cellMetadata": {
      "byteLimit": 2048000,
      "rowLimit": 10000
     },
     "inputWidgets": {},
     "nuid": "b95cf8d8-2af5-413f-8e42-a7f4e7659ce6",
     "showTitle": false,
     "tableResultSettingsMap": {},
     "title": ""
    }
   },
   "outputs": [],
   "source": [
    "df_new=df_join.filter(df_join['Old_DimCustomerKey'].isNull())"
   ]
  },
  {
   "cell_type": "code",
   "execution_count": 0,
   "metadata": {
    "application/vnd.databricks.v1+cell": {
     "cellMetadata": {
      "byteLimit": 2048000,
      "rowLimit": 10000
     },
     "inputWidgets": {},
     "nuid": "a751b71e-9edb-4412-9292-58a12da027eb",
     "showTitle": false,
     "tableResultSettingsMap": {},
     "title": ""
    }
   },
   "outputs": [],
   "source": [
    "df_old=df_join.filter(df_join['Old_DimCustomerKey'].isNotNull())"
   ]
  },
  {
   "cell_type": "markdown",
   "metadata": {
    "application/vnd.databricks.v1+cell": {
     "cellMetadata": {
      "byteLimit": 2048000,
      "rowLimit": 10000
     },
     "inputWidgets": {},
     "nuid": "104d9fe7-f58a-4cc6-aa88-00b9ab6a6cd1",
     "showTitle": false,
     "tableResultSettingsMap": {},
     "title": ""
    }
   },
   "source": [
    "**Preparing df_old**"
   ]
  },
  {
   "cell_type": "code",
   "execution_count": 0,
   "metadata": {
    "application/vnd.databricks.v1+cell": {
     "cellMetadata": {
      "byteLimit": 2048000,
      "rowLimit": 10000
     },
     "inputWidgets": {},
     "nuid": "03a69dfd-688f-4c17-b48c-3cf487a3da90",
     "showTitle": false,
     "tableResultSettingsMap": {},
     "title": ""
    }
   },
   "outputs": [],
   "source": [
    "#dropping all the columns which are not required\n",
    "df_old=df_old.drop('Old_DimCustomerKey','Old_customer_id','Old_update_date')\n",
    "\n",
    "#renaming 'Old_create_date' column to 'create_date'\n",
    "df_old=df_old.withColumnRenamed(\"Old_create_date\",\"create_date\")\n",
    "df_old=df_old.withColumn(\"create_date\",to_timestamp(col(\"create_date\")))\n",
    "\n",
    "#recreating 'update_date' column with current timestamp\n",
    "df_old=df_old.withColumn(\"update_date\",current_timestamp())"
   ]
  },
  {
   "cell_type": "code",
   "execution_count": 0,
   "metadata": {
    "application/vnd.databricks.v1+cell": {
     "cellMetadata": {
      "byteLimit": 2048000,
      "rowLimit": 10000
     },
     "inputWidgets": {},
     "nuid": "2711950c-5c02-4c09-8e6a-3c953e2e023e",
     "showTitle": false,
     "tableResultSettingsMap": {
      "0": {
       "dataGridStateBlob": "{\"version\":1,\"tableState\":{\"columnPinning\":{\"left\":[\"#row_number#\"],\"right\":[]},\"columnSizing\":{},\"columnVisibility\":{}},\"settings\":{\"columns\":{}},\"syncTimestamp\":1757357419556}",
       "filterBlob": null,
       "queryPlanFiltersBlob": null,
       "tableResultIndex": 0
      }
     },
     "title": ""
    }
   },
   "outputs": [
    {
     "output_type": "display_data",
     "data": {
      "text/html": [
       "<style scoped>\n",
       "  .table-result-container {\n",
       "    max-height: 300px;\n",
       "    overflow: auto;\n",
       "  }\n",
       "  table, th, td {\n",
       "    border: 1px solid black;\n",
       "    border-collapse: collapse;\n",
       "  }\n",
       "  th, td {\n",
       "    padding: 5px;\n",
       "  }\n",
       "  th {\n",
       "    text-align: left;\n",
       "  }\n",
       "</style><div class='table-result-container'><table class='table-result'><thead style='background-color: white'><tr><th>customer_id</th><th>email</th><th>city</th><th>state</th><th>domains</th><th>full_name</th><th>DimCustomerKey</th><th>create_date</th><th>update_date</th></tr></thead><tbody><tr><td>C01220</td><td>matthew01@yahoo.com</td><td>New Andrewhaven</td><td>WA</td><td>yahoo.com</td><td>Thomas Fitzgerald</td><td>1</td><td>2025-09-12T20:25:23.833Z</td><td>2025-09-12T20:27:42.175Z</td></tr><tr><td>C01579</td><td>nathancastro@gmail.com</td><td>South Amanda</td><td>FL</td><td>gmail.com</td><td>Brittany Schmidt</td><td>2</td><td>2025-09-12T20:25:23.833Z</td><td>2025-09-12T20:27:42.175Z</td></tr><tr><td>C01155</td><td>cynthia51@lewis-dixon.com</td><td>East Theresa</td><td>FL</td><td>lewis-dixon.com</td><td>Latasha Phelps</td><td>3</td><td>2025-09-12T20:25:23.833Z</td><td>2025-09-12T20:27:42.175Z</td></tr><tr><td>C01943</td><td>rodriguezzachary@hotmail.com</td><td>East Timothy</td><td>PA</td><td>hotmail.com</td><td>David Cooper</td><td>4</td><td>2025-09-12T20:25:23.833Z</td><td>2025-09-12T20:27:42.175Z</td></tr><tr><td>C01554</td><td>sthompson@harding.com</td><td>New Leefurt</td><td>ME</td><td>harding.com</td><td>Gavin Lindsey</td><td>5</td><td>2025-09-12T20:25:23.833Z</td><td>2025-09-12T20:27:42.175Z</td></tr><tr><td>C00767</td><td>rsmith@pruitt-hodges.net</td><td>Heatherton</td><td>IL</td><td>pruitt-hodges.net</td><td>Pam Watts</td><td>6</td><td>2025-09-12T20:25:23.833Z</td><td>2025-09-12T20:27:42.175Z</td></tr><tr><td>C01097</td><td>joel22@stone-holmes.com</td><td>Davidhaven</td><td>LA</td><td>stone-holmes.com</td><td>James Martinez</td><td>7</td><td>2025-09-12T20:25:23.833Z</td><td>2025-09-12T20:27:42.175Z</td></tr><tr><td>C01674</td><td>crystalraymond@keller.com</td><td>Hoborough</td><td>ME</td><td>keller.com</td><td>Nicole Johnston</td><td>8</td><td>2025-09-12T20:25:23.833Z</td><td>2025-09-12T20:27:42.175Z</td></tr><tr><td>C00215</td><td>petersonthomas@yahoo.com</td><td>South Andrea</td><td>OK</td><td>yahoo.com</td><td>Danielle Huerta</td><td>9</td><td>2025-09-12T20:25:23.833Z</td><td>2025-09-12T20:27:42.175Z</td></tr><tr><td>C00587</td><td>phillipsstephanie@gmail.com</td><td>New Ronaldmouth</td><td>OR</td><td>gmail.com</td><td>Michael Bailey</td><td>10</td><td>2025-09-12T20:25:23.833Z</td><td>2025-09-12T20:27:42.175Z</td></tr></tbody></table></div>"
      ]
     },
     "metadata": {
      "application/vnd.databricks.v1+output": {
       "addedWidgets": {},
       "aggData": [],
       "aggError": "",
       "aggOverflow": false,
       "aggSchema": [],
       "aggSeriesLimitReached": false,
       "aggType": "",
       "arguments": {},
       "columnCustomDisplayInfos": {},
       "data": [
        [
         "C01220",
         "matthew01@yahoo.com",
         "New Andrewhaven",
         "WA",
         "yahoo.com",
         "Thomas Fitzgerald",
         1,
         "2025-09-12T20:25:23.833Z",
         "2025-09-12T20:27:42.175Z"
        ],
        [
         "C01579",
         "nathancastro@gmail.com",
         "South Amanda",
         "FL",
         "gmail.com",
         "Brittany Schmidt",
         2,
         "2025-09-12T20:25:23.833Z",
         "2025-09-12T20:27:42.175Z"
        ],
        [
         "C01155",
         "cynthia51@lewis-dixon.com",
         "East Theresa",
         "FL",
         "lewis-dixon.com",
         "Latasha Phelps",
         3,
         "2025-09-12T20:25:23.833Z",
         "2025-09-12T20:27:42.175Z"
        ],
        [
         "C01943",
         "rodriguezzachary@hotmail.com",
         "East Timothy",
         "PA",
         "hotmail.com",
         "David Cooper",
         4,
         "2025-09-12T20:25:23.833Z",
         "2025-09-12T20:27:42.175Z"
        ],
        [
         "C01554",
         "sthompson@harding.com",
         "New Leefurt",
         "ME",
         "harding.com",
         "Gavin Lindsey",
         5,
         "2025-09-12T20:25:23.833Z",
         "2025-09-12T20:27:42.175Z"
        ],
        [
         "C00767",
         "rsmith@pruitt-hodges.net",
         "Heatherton",
         "IL",
         "pruitt-hodges.net",
         "Pam Watts",
         6,
         "2025-09-12T20:25:23.833Z",
         "2025-09-12T20:27:42.175Z"
        ],
        [
         "C01097",
         "joel22@stone-holmes.com",
         "Davidhaven",
         "LA",
         "stone-holmes.com",
         "James Martinez",
         7,
         "2025-09-12T20:25:23.833Z",
         "2025-09-12T20:27:42.175Z"
        ],
        [
         "C01674",
         "crystalraymond@keller.com",
         "Hoborough",
         "ME",
         "keller.com",
         "Nicole Johnston",
         8,
         "2025-09-12T20:25:23.833Z",
         "2025-09-12T20:27:42.175Z"
        ],
        [
         "C00215",
         "petersonthomas@yahoo.com",
         "South Andrea",
         "OK",
         "yahoo.com",
         "Danielle Huerta",
         9,
         "2025-09-12T20:25:23.833Z",
         "2025-09-12T20:27:42.175Z"
        ],
        [
         "C00587",
         "phillipsstephanie@gmail.com",
         "New Ronaldmouth",
         "OR",
         "gmail.com",
         "Michael Bailey",
         10,
         "2025-09-12T20:25:23.833Z",
         "2025-09-12T20:27:42.175Z"
        ]
       ],
       "datasetInfos": [],
       "dbfsResultPath": null,
       "isJsonSchema": true,
       "metadata": {},
       "overflow": false,
       "plotOptions": {
        "customPlotOptions": {},
        "displayType": "table",
        "pivotAggregation": null,
        "pivotColumns": null,
        "xColumns": null,
        "yColumns": null
       },
       "removedWidgets": [],
       "schema": [
        {
         "metadata": "{}",
         "name": "customer_id",
         "type": "\"string\""
        },
        {
         "metadata": "{}",
         "name": "email",
         "type": "\"string\""
        },
        {
         "metadata": "{}",
         "name": "city",
         "type": "\"string\""
        },
        {
         "metadata": "{}",
         "name": "state",
         "type": "\"string\""
        },
        {
         "metadata": "{}",
         "name": "domains",
         "type": "\"string\""
        },
        {
         "metadata": "{}",
         "name": "full_name",
         "type": "\"string\""
        },
        {
         "metadata": "{}",
         "name": "DimCustomerKey",
         "type": "\"long\""
        },
        {
         "metadata": "{}",
         "name": "create_date",
         "type": "\"timestamp\""
        },
        {
         "metadata": "{}",
         "name": "update_date",
         "type": "\"timestamp\""
        }
       ],
       "type": "table"
      }
     },
     "output_type": "display_data"
    }
   ],
   "source": [
    "df_old.limit(10).display()"
   ]
  },
  {
   "cell_type": "markdown",
   "metadata": {
    "application/vnd.databricks.v1+cell": {
     "cellMetadata": {
      "byteLimit": 2048000,
      "rowLimit": 10000
     },
     "inputWidgets": {},
     "nuid": "d381b6ff-2c84-4597-9faf-e4c603416e49",
     "showTitle": false,
     "tableResultSettingsMap": {},
     "title": ""
    }
   },
   "source": [
    "**Preparing df_new**"
   ]
  },
  {
   "cell_type": "code",
   "execution_count": 0,
   "metadata": {
    "application/vnd.databricks.v1+cell": {
     "cellMetadata": {
      "byteLimit": 2048000,
      "rowLimit": 10000
     },
     "inputWidgets": {},
     "nuid": "be312940-ca4d-413e-8a74-25ae7121f642",
     "showTitle": false,
     "tableResultSettingsMap": {},
     "title": ""
    }
   },
   "outputs": [],
   "source": [
    "#dropping all the columns which are not required\n",
    "df_new=df_new.drop('Old_DimCustomerKey','Old_customer_id','Old_update_date','Old_create_date')\n",
    "\n",
    "#recreating 'update_date','current_date' column with current timestamp\n",
    "df_new=df_new.withColumn(\"update_date\",current_timestamp())\n",
    "df_new=df_new.withColumn(\"create_date\",current_timestamp())"
   ]
  },
  {
   "cell_type": "code",
   "execution_count": 0,
   "metadata": {
    "application/vnd.databricks.v1+cell": {
     "cellMetadata": {
      "byteLimit": 2048000,
      "rowLimit": 10000
     },
     "inputWidgets": {},
     "nuid": "a6809794-db86-4804-b246-c18c50e29ab8",
     "showTitle": false,
     "tableResultSettingsMap": {},
     "title": ""
    }
   },
   "outputs": [
    {
     "output_type": "display_data",
     "data": {
      "text/html": [
       "<style scoped>\n",
       "  .table-result-container {\n",
       "    max-height: 300px;\n",
       "    overflow: auto;\n",
       "  }\n",
       "  table, th, td {\n",
       "    border: 1px solid black;\n",
       "    border-collapse: collapse;\n",
       "  }\n",
       "  th, td {\n",
       "    padding: 5px;\n",
       "  }\n",
       "  th {\n",
       "    text-align: left;\n",
       "  }\n",
       "</style><div class='table-result-container'><table class='table-result'><thead style='background-color: white'><tr><th>customer_id</th><th>email</th><th>city</th><th>state</th><th>domains</th><th>full_name</th><th>DimCustomerKey</th><th>update_date</th><th>create_date</th></tr></thead><tbody></tbody></table></div>"
      ]
     },
     "metadata": {
      "application/vnd.databricks.v1+output": {
       "addedWidgets": {},
       "aggData": [],
       "aggError": "",
       "aggOverflow": false,
       "aggSchema": [],
       "aggSeriesLimitReached": false,
       "aggType": "",
       "arguments": {},
       "columnCustomDisplayInfos": {},
       "data": [],
       "datasetInfos": [],
       "dbfsResultPath": null,
       "isJsonSchema": true,
       "metadata": {},
       "overflow": false,
       "plotOptions": {
        "customPlotOptions": {},
        "displayType": "table",
        "pivotAggregation": null,
        "pivotColumns": null,
        "xColumns": null,
        "yColumns": null
       },
       "removedWidgets": [],
       "schema": [
        {
         "metadata": "{}",
         "name": "customer_id",
         "type": "\"string\""
        },
        {
         "metadata": "{}",
         "name": "email",
         "type": "\"string\""
        },
        {
         "metadata": "{}",
         "name": "city",
         "type": "\"string\""
        },
        {
         "metadata": "{}",
         "name": "state",
         "type": "\"string\""
        },
        {
         "metadata": "{}",
         "name": "domains",
         "type": "\"string\""
        },
        {
         "metadata": "{}",
         "name": "full_name",
         "type": "\"string\""
        },
        {
         "metadata": "{}",
         "name": "DimCustomerKey",
         "type": "\"long\""
        },
        {
         "metadata": "{}",
         "name": "update_date",
         "type": "\"timestamp\""
        },
        {
         "metadata": "{}",
         "name": "create_date",
         "type": "\"timestamp\""
        }
       ],
       "type": "table"
      }
     },
     "output_type": "display_data"
    }
   ],
   "source": [
    "df_new.limit(10).display()"
   ]
  },
  {
   "cell_type": "markdown",
   "metadata": {
    "application/vnd.databricks.v1+cell": {
     "cellMetadata": {
      "byteLimit": 2048000,
      "rowLimit": 10000
     },
     "inputWidgets": {},
     "nuid": "23f6f712-d385-4dfe-8cb9-24ad828c3ed0",
     "showTitle": false,
     "tableResultSettingsMap": {},
     "title": ""
    }
   },
   "source": [
    "**Surrogate key - from 1**"
   ]
  },
  {
   "cell_type": "code",
   "execution_count": 0,
   "metadata": {
    "application/vnd.databricks.v1+cell": {
     "cellMetadata": {
      "byteLimit": 2048000,
      "rowLimit": 10000
     },
     "inputWidgets": {},
     "nuid": "552e90bf-d6ca-4a5a-8d36-4348403dbd4b",
     "showTitle": false,
     "tableResultSettingsMap": {},
     "title": ""
    }
   },
   "outputs": [],
   "source": [
    "df_new=df_new.withColumn(\"DimCustomerKey\",monotonically_increasing_id()+lit(1))"
   ]
  },
  {
   "cell_type": "code",
   "execution_count": 0,
   "metadata": {
    "application/vnd.databricks.v1+cell": {
     "cellMetadata": {
      "byteLimit": 2048000,
      "rowLimit": 10000
     },
     "inputWidgets": {},
     "nuid": "5640ea92-572b-43fb-a2a2-a9250a9d72ee",
     "showTitle": false,
     "tableResultSettingsMap": {},
     "title": ""
    }
   },
   "outputs": [
    {
     "output_type": "display_data",
     "data": {
      "text/html": [
       "<style scoped>\n",
       "  .table-result-container {\n",
       "    max-height: 300px;\n",
       "    overflow: auto;\n",
       "  }\n",
       "  table, th, td {\n",
       "    border: 1px solid black;\n",
       "    border-collapse: collapse;\n",
       "  }\n",
       "  th, td {\n",
       "    padding: 5px;\n",
       "  }\n",
       "  th {\n",
       "    text-align: left;\n",
       "  }\n",
       "</style><div class='table-result-container'><table class='table-result'><thead style='background-color: white'><tr><th>customer_id</th><th>email</th><th>city</th><th>state</th><th>domains</th><th>full_name</th><th>DimCustomerKey</th><th>update_date</th><th>create_date</th></tr></thead><tbody></tbody></table></div>"
      ]
     },
     "metadata": {
      "application/vnd.databricks.v1+output": {
       "addedWidgets": {},
       "aggData": [],
       "aggError": "",
       "aggOverflow": false,
       "aggSchema": [],
       "aggSeriesLimitReached": false,
       "aggType": "",
       "arguments": {},
       "columnCustomDisplayInfos": {},
       "data": [],
       "datasetInfos": [],
       "dbfsResultPath": null,
       "isJsonSchema": true,
       "metadata": {},
       "overflow": false,
       "plotOptions": {
        "customPlotOptions": {},
        "displayType": "table",
        "pivotAggregation": null,
        "pivotColumns": null,
        "xColumns": null,
        "yColumns": null
       },
       "removedWidgets": [],
       "schema": [
        {
         "metadata": "{}",
         "name": "customer_id",
         "type": "\"string\""
        },
        {
         "metadata": "{}",
         "name": "email",
         "type": "\"string\""
        },
        {
         "metadata": "{}",
         "name": "city",
         "type": "\"string\""
        },
        {
         "metadata": "{}",
         "name": "state",
         "type": "\"string\""
        },
        {
         "metadata": "{}",
         "name": "domains",
         "type": "\"string\""
        },
        {
         "metadata": "{}",
         "name": "full_name",
         "type": "\"string\""
        },
        {
         "metadata": "{}",
         "name": "DimCustomerKey",
         "type": "\"long\""
        },
        {
         "metadata": "{}",
         "name": "update_date",
         "type": "\"timestamp\""
        },
        {
         "metadata": "{}",
         "name": "create_date",
         "type": "\"timestamp\""
        }
       ],
       "type": "table"
      }
     },
     "output_type": "display_data"
    }
   ],
   "source": [
    "df_new.limit(10).display()"
   ]
  },
  {
   "cell_type": "markdown",
   "metadata": {
    "application/vnd.databricks.v1+cell": {
     "cellMetadata": {
      "byteLimit": 2048000,
      "rowLimit": 10000
     },
     "inputWidgets": {},
     "nuid": "e86059c5-c8e2-4061-b0ee-f12f68c1ab1a",
     "showTitle": false,
     "tableResultSettingsMap": {},
     "title": ""
    }
   },
   "source": [
    "**Adding max surrogate key**"
   ]
  },
  {
   "cell_type": "code",
   "execution_count": 0,
   "metadata": {
    "application/vnd.databricks.v1+cell": {
     "cellMetadata": {
      "byteLimit": 2048000,
      "rowLimit": 10000
     },
     "inputWidgets": {},
     "nuid": "188e9a0c-9e10-4df9-8e00-fa81a3b148fd",
     "showTitle": false,
     "tableResultSettingsMap": {},
     "title": ""
    }
   },
   "outputs": [],
   "source": [
    "if init_load_flag==1:\n",
    "    max_surrogate_key=0\n",
    "else:\n",
    "    df_maxsur=spark.sql(\"select max(DimCustomerKey) as max_surrogate_key from databricks_cata.gold.DimCustomers\")\n",
    "    #Converting df_maxsur to max_surrogate_key variable\n",
    "    max_surrogate_key=df_maxsur.collect()[0]['max_surrogate_key']\n"
   ]
  },
  {
   "cell_type": "code",
   "execution_count": 0,
   "metadata": {
    "application/vnd.databricks.v1+cell": {
     "cellMetadata": {
      "byteLimit": 2048000,
      "rowLimit": 10000
     },
     "inputWidgets": {},
     "nuid": "7780245b-2132-459e-96c5-ccfd6f865640",
     "showTitle": false,
     "tableResultSettingsMap": {},
     "title": ""
    }
   },
   "outputs": [],
   "source": [
    "df_new=df_new.withColumn(\"DimCustomerKey\",lit(max_surrogate_key)+col(\"DimCustomerKey\"))"
   ]
  },
  {
   "cell_type": "markdown",
   "metadata": {
    "application/vnd.databricks.v1+cell": {
     "cellMetadata": {
      "byteLimit": 2048000,
      "rowLimit": 10000
     },
     "inputWidgets": {},
     "nuid": "b91d7529-a9b8-4f47-a6a9-67b493d8b59b",
     "showTitle": false,
     "tableResultSettingsMap": {},
     "title": ""
    }
   },
   "source": [
    "**Union of df_old and df_new**"
   ]
  },
  {
   "cell_type": "code",
   "execution_count": 0,
   "metadata": {
    "application/vnd.databricks.v1+cell": {
     "cellMetadata": {
      "byteLimit": 2048000,
      "rowLimit": 10000
     },
     "inputWidgets": {},
     "nuid": "0d9eb42f-1157-42d3-9811-8f0a517e6e21",
     "showTitle": false,
     "tableResultSettingsMap": {},
     "title": ""
    }
   },
   "outputs": [],
   "source": [
    "df_final=df_old.unionByName(df_new)"
   ]
  },
  {
   "cell_type": "code",
   "execution_count": 0,
   "metadata": {
    "application/vnd.databricks.v1+cell": {
     "cellMetadata": {
      "byteLimit": 2048000,
      "rowLimit": 10000
     },
     "inputWidgets": {},
     "nuid": "a2820925-895a-4ca4-a4a8-1d2894e5d643",
     "showTitle": false,
     "tableResultSettingsMap": {
      "0": {
       "dataGridStateBlob": "{\"version\":1,\"tableState\":{\"columnPinning\":{\"left\":[\"#row_number#\"],\"right\":[]},\"columnSizing\":{},\"columnVisibility\":{}},\"settings\":{\"columns\":{}},\"syncTimestamp\":1757539749552}",
       "filterBlob": null,
       "queryPlanFiltersBlob": null,
       "tableResultIndex": 0
      }
     },
     "title": ""
    }
   },
   "outputs": [
    {
     "output_type": "display_data",
     "data": {
      "text/html": [
       "<style scoped>\n",
       "  .table-result-container {\n",
       "    max-height: 300px;\n",
       "    overflow: auto;\n",
       "  }\n",
       "  table, th, td {\n",
       "    border: 1px solid black;\n",
       "    border-collapse: collapse;\n",
       "  }\n",
       "  th, td {\n",
       "    padding: 5px;\n",
       "  }\n",
       "  th {\n",
       "    text-align: left;\n",
       "  }\n",
       "</style><div class='table-result-container'><table class='table-result'><thead style='background-color: white'><tr><th>customer_id</th><th>email</th><th>city</th><th>state</th><th>domains</th><th>full_name</th><th>DimCustomerKey</th><th>create_date</th><th>update_date</th></tr></thead><tbody><tr><td>C01220</td><td>matthew01@yahoo.com</td><td>New Andrewhaven</td><td>WA</td><td>yahoo.com</td><td>Thomas Fitzgerald</td><td>1</td><td>2025-09-12T20:25:23.833Z</td><td>2025-09-12T20:27:46.445Z</td></tr><tr><td>C01579</td><td>nathancastro@gmail.com</td><td>South Amanda</td><td>FL</td><td>gmail.com</td><td>Brittany Schmidt</td><td>2</td><td>2025-09-12T20:25:23.833Z</td><td>2025-09-12T20:27:46.445Z</td></tr><tr><td>C01155</td><td>cynthia51@lewis-dixon.com</td><td>East Theresa</td><td>FL</td><td>lewis-dixon.com</td><td>Latasha Phelps</td><td>3</td><td>2025-09-12T20:25:23.833Z</td><td>2025-09-12T20:27:46.445Z</td></tr><tr><td>C01943</td><td>rodriguezzachary@hotmail.com</td><td>East Timothy</td><td>PA</td><td>hotmail.com</td><td>David Cooper</td><td>4</td><td>2025-09-12T20:25:23.833Z</td><td>2025-09-12T20:27:46.445Z</td></tr><tr><td>C01554</td><td>sthompson@harding.com</td><td>New Leefurt</td><td>ME</td><td>harding.com</td><td>Gavin Lindsey</td><td>5</td><td>2025-09-12T20:25:23.833Z</td><td>2025-09-12T20:27:46.445Z</td></tr><tr><td>C00767</td><td>rsmith@pruitt-hodges.net</td><td>Heatherton</td><td>IL</td><td>pruitt-hodges.net</td><td>Pam Watts</td><td>6</td><td>2025-09-12T20:25:23.833Z</td><td>2025-09-12T20:27:46.445Z</td></tr><tr><td>C01097</td><td>joel22@stone-holmes.com</td><td>Davidhaven</td><td>LA</td><td>stone-holmes.com</td><td>James Martinez</td><td>7</td><td>2025-09-12T20:25:23.833Z</td><td>2025-09-12T20:27:46.445Z</td></tr><tr><td>C01674</td><td>crystalraymond@keller.com</td><td>Hoborough</td><td>ME</td><td>keller.com</td><td>Nicole Johnston</td><td>8</td><td>2025-09-12T20:25:23.833Z</td><td>2025-09-12T20:27:46.445Z</td></tr><tr><td>C00215</td><td>petersonthomas@yahoo.com</td><td>South Andrea</td><td>OK</td><td>yahoo.com</td><td>Danielle Huerta</td><td>9</td><td>2025-09-12T20:25:23.833Z</td><td>2025-09-12T20:27:46.445Z</td></tr><tr><td>C00587</td><td>phillipsstephanie@gmail.com</td><td>New Ronaldmouth</td><td>OR</td><td>gmail.com</td><td>Michael Bailey</td><td>10</td><td>2025-09-12T20:25:23.833Z</td><td>2025-09-12T20:27:46.445Z</td></tr></tbody></table></div>"
      ]
     },
     "metadata": {
      "application/vnd.databricks.v1+output": {
       "addedWidgets": {},
       "aggData": [],
       "aggError": "",
       "aggOverflow": false,
       "aggSchema": [],
       "aggSeriesLimitReached": false,
       "aggType": "",
       "arguments": {},
       "columnCustomDisplayInfos": {},
       "data": [
        [
         "C01220",
         "matthew01@yahoo.com",
         "New Andrewhaven",
         "WA",
         "yahoo.com",
         "Thomas Fitzgerald",
         1,
         "2025-09-12T20:25:23.833Z",
         "2025-09-12T20:27:46.445Z"
        ],
        [
         "C01579",
         "nathancastro@gmail.com",
         "South Amanda",
         "FL",
         "gmail.com",
         "Brittany Schmidt",
         2,
         "2025-09-12T20:25:23.833Z",
         "2025-09-12T20:27:46.445Z"
        ],
        [
         "C01155",
         "cynthia51@lewis-dixon.com",
         "East Theresa",
         "FL",
         "lewis-dixon.com",
         "Latasha Phelps",
         3,
         "2025-09-12T20:25:23.833Z",
         "2025-09-12T20:27:46.445Z"
        ],
        [
         "C01943",
         "rodriguezzachary@hotmail.com",
         "East Timothy",
         "PA",
         "hotmail.com",
         "David Cooper",
         4,
         "2025-09-12T20:25:23.833Z",
         "2025-09-12T20:27:46.445Z"
        ],
        [
         "C01554",
         "sthompson@harding.com",
         "New Leefurt",
         "ME",
         "harding.com",
         "Gavin Lindsey",
         5,
         "2025-09-12T20:25:23.833Z",
         "2025-09-12T20:27:46.445Z"
        ],
        [
         "C00767",
         "rsmith@pruitt-hodges.net",
         "Heatherton",
         "IL",
         "pruitt-hodges.net",
         "Pam Watts",
         6,
         "2025-09-12T20:25:23.833Z",
         "2025-09-12T20:27:46.445Z"
        ],
        [
         "C01097",
         "joel22@stone-holmes.com",
         "Davidhaven",
         "LA",
         "stone-holmes.com",
         "James Martinez",
         7,
         "2025-09-12T20:25:23.833Z",
         "2025-09-12T20:27:46.445Z"
        ],
        [
         "C01674",
         "crystalraymond@keller.com",
         "Hoborough",
         "ME",
         "keller.com",
         "Nicole Johnston",
         8,
         "2025-09-12T20:25:23.833Z",
         "2025-09-12T20:27:46.445Z"
        ],
        [
         "C00215",
         "petersonthomas@yahoo.com",
         "South Andrea",
         "OK",
         "yahoo.com",
         "Danielle Huerta",
         9,
         "2025-09-12T20:25:23.833Z",
         "2025-09-12T20:27:46.445Z"
        ],
        [
         "C00587",
         "phillipsstephanie@gmail.com",
         "New Ronaldmouth",
         "OR",
         "gmail.com",
         "Michael Bailey",
         10,
         "2025-09-12T20:25:23.833Z",
         "2025-09-12T20:27:46.445Z"
        ]
       ],
       "datasetInfos": [],
       "dbfsResultPath": null,
       "isJsonSchema": true,
       "metadata": {},
       "overflow": false,
       "plotOptions": {
        "customPlotOptions": {},
        "displayType": "table",
        "pivotAggregation": null,
        "pivotColumns": null,
        "xColumns": null,
        "yColumns": null
       },
       "removedWidgets": [],
       "schema": [
        {
         "metadata": "{}",
         "name": "customer_id",
         "type": "\"string\""
        },
        {
         "metadata": "{}",
         "name": "email",
         "type": "\"string\""
        },
        {
         "metadata": "{}",
         "name": "city",
         "type": "\"string\""
        },
        {
         "metadata": "{}",
         "name": "state",
         "type": "\"string\""
        },
        {
         "metadata": "{}",
         "name": "domains",
         "type": "\"string\""
        },
        {
         "metadata": "{}",
         "name": "full_name",
         "type": "\"string\""
        },
        {
         "metadata": "{}",
         "name": "DimCustomerKey",
         "type": "\"long\""
        },
        {
         "metadata": "{}",
         "name": "create_date",
         "type": "\"timestamp\""
        },
        {
         "metadata": "{}",
         "name": "update_date",
         "type": "\"timestamp\""
        }
       ],
       "type": "table"
      }
     },
     "output_type": "display_data"
    }
   ],
   "source": [
    "df_final.limit(10).display()"
   ]
  },
  {
   "cell_type": "markdown",
   "metadata": {
    "application/vnd.databricks.v1+cell": {
     "cellMetadata": {
      "byteLimit": 2048000,
      "rowLimit": 10000
     },
     "inputWidgets": {},
     "nuid": "8db86d41-2e8e-461e-83ed-720e87997fe7",
     "showTitle": false,
     "tableResultSettingsMap": {},
     "title": ""
    }
   },
   "source": [
    "### **SCD Type - 1**"
   ]
  },
  {
   "cell_type": "code",
   "execution_count": 0,
   "metadata": {
    "application/vnd.databricks.v1+cell": {
     "cellMetadata": {
      "byteLimit": 2048000,
      "rowLimit": 10000
     },
     "inputWidgets": {},
     "nuid": "ac2e4252-680a-492b-ae23-d1c54b30ad4e",
     "showTitle": false,
     "tableResultSettingsMap": {},
     "title": ""
    }
   },
   "outputs": [],
   "source": [
    "from delta.tables import DeltaTable"
   ]
  },
  {
   "cell_type": "code",
   "execution_count": 0,
   "metadata": {
    "application/vnd.databricks.v1+cell": {
     "cellMetadata": {
      "byteLimit": 2048000,
      "rowLimit": 10000
     },
     "inputWidgets": {},
     "nuid": "d542edae-1f74-434a-a318-98c5c5c952d1",
     "showTitle": false,
     "tableResultSettingsMap": {},
     "title": ""
    }
   },
   "outputs": [],
   "source": [
    "if (spark.catalog.tableExists(\"databricks_cata.gold.DimCustomers\")):\n",
    "    dlt_obj=DeltaTable.forPath(spark,\"abfss://gold@databricksaniete.dfs.core.windows.net/DimCustomers\")\n",
    "    \n",
    "    dlt_obj.alias(\"trg\").merge(df_final.alias(\"src\"),\"trg.DimCustomerKey=src.DimCustomerKey\")\\\n",
    "    .whenMatchedUpdateAll()\\\n",
    "    .whenNotMatchedInsertAll()\\\n",
    "    .execute()\n",
    "else:\n",
    "    df_final.write.mode(\"overWrite\")\\\n",
    "    .option(\"path\",\"abfss://gold@databricksaniete.dfs.core.windows.net/DimCustomers\")\\\n",
    "    .saveAsTable(\"databricks_cata.gold.DimCustomers\")\n",
    "    "
   ]
  },
  {
   "cell_type": "code",
   "execution_count": 0,
   "metadata": {
    "application/vnd.databricks.v1+cell": {
     "cellMetadata": {
      "byteLimit": 2048000,
      "implicitDf": true,
      "rowLimit": 10000
     },
     "inputWidgets": {},
     "nuid": "be093db2-3dd3-4e9f-927d-cc1367c4569a",
     "showTitle": false,
     "tableResultSettingsMap": {},
     "title": ""
    }
   },
   "outputs": [
    {
     "output_type": "display_data",
     "data": {
      "text/html": [
       "<style scoped>\n",
       "  .table-result-container {\n",
       "    max-height: 300px;\n",
       "    overflow: auto;\n",
       "  }\n",
       "  table, th, td {\n",
       "    border: 1px solid black;\n",
       "    border-collapse: collapse;\n",
       "  }\n",
       "  th, td {\n",
       "    padding: 5px;\n",
       "  }\n",
       "  th {\n",
       "    text-align: left;\n",
       "  }\n",
       "</style><div class='table-result-container'><table class='table-result'><thead style='background-color: white'><tr><th>customer_id</th><th>email</th><th>city</th><th>state</th><th>domains</th><th>full_name</th><th>DimCustomerKey</th><th>update_date</th><th>create_date</th></tr></thead><tbody><tr><td>C01220</td><td>matthew01@yahoo.com</td><td>New Andrewhaven</td><td>WA</td><td>yahoo.com</td><td>Thomas Fitzgerald</td><td>1</td><td>2025-09-12T20:27:48.350Z</td><td>2025-09-12T20:25:23.833Z</td></tr><tr><td>C01579</td><td>nathancastro@gmail.com</td><td>South Amanda</td><td>FL</td><td>gmail.com</td><td>Brittany Schmidt</td><td>2</td><td>2025-09-12T20:27:48.350Z</td><td>2025-09-12T20:25:23.833Z</td></tr><tr><td>C01155</td><td>cynthia51@lewis-dixon.com</td><td>East Theresa</td><td>FL</td><td>lewis-dixon.com</td><td>Latasha Phelps</td><td>3</td><td>2025-09-12T20:27:48.350Z</td><td>2025-09-12T20:25:23.833Z</td></tr><tr><td>C01943</td><td>rodriguezzachary@hotmail.com</td><td>East Timothy</td><td>PA</td><td>hotmail.com</td><td>David Cooper</td><td>4</td><td>2025-09-12T20:27:48.350Z</td><td>2025-09-12T20:25:23.833Z</td></tr><tr><td>C01554</td><td>sthompson@harding.com</td><td>New Leefurt</td><td>ME</td><td>harding.com</td><td>Gavin Lindsey</td><td>5</td><td>2025-09-12T20:27:48.350Z</td><td>2025-09-12T20:25:23.833Z</td></tr><tr><td>C00767</td><td>rsmith@pruitt-hodges.net</td><td>Heatherton</td><td>IL</td><td>pruitt-hodges.net</td><td>Pam Watts</td><td>6</td><td>2025-09-12T20:27:48.350Z</td><td>2025-09-12T20:25:23.833Z</td></tr><tr><td>C01097</td><td>joel22@stone-holmes.com</td><td>Davidhaven</td><td>LA</td><td>stone-holmes.com</td><td>James Martinez</td><td>7</td><td>2025-09-12T20:27:48.350Z</td><td>2025-09-12T20:25:23.833Z</td></tr><tr><td>C01674</td><td>crystalraymond@keller.com</td><td>Hoborough</td><td>ME</td><td>keller.com</td><td>Nicole Johnston</td><td>8</td><td>2025-09-12T20:27:48.350Z</td><td>2025-09-12T20:25:23.833Z</td></tr><tr><td>C00215</td><td>petersonthomas@yahoo.com</td><td>South Andrea</td><td>OK</td><td>yahoo.com</td><td>Danielle Huerta</td><td>9</td><td>2025-09-12T20:27:48.350Z</td><td>2025-09-12T20:25:23.833Z</td></tr><tr><td>C00587</td><td>phillipsstephanie@gmail.com</td><td>New Ronaldmouth</td><td>OR</td><td>gmail.com</td><td>Michael Bailey</td><td>10</td><td>2025-09-12T20:27:48.350Z</td><td>2025-09-12T20:25:23.833Z</td></tr></tbody></table></div>"
      ]
     },
     "metadata": {
      "application/vnd.databricks.v1+output": {
       "addedWidgets": {},
       "aggData": [],
       "aggError": "",
       "aggOverflow": false,
       "aggSchema": [],
       "aggSeriesLimitReached": false,
       "aggType": "",
       "arguments": {},
       "columnCustomDisplayInfos": {},
       "data": [
        [
         "C01220",
         "matthew01@yahoo.com",
         "New Andrewhaven",
         "WA",
         "yahoo.com",
         "Thomas Fitzgerald",
         1,
         "2025-09-12T20:27:48.350Z",
         "2025-09-12T20:25:23.833Z"
        ],
        [
         "C01579",
         "nathancastro@gmail.com",
         "South Amanda",
         "FL",
         "gmail.com",
         "Brittany Schmidt",
         2,
         "2025-09-12T20:27:48.350Z",
         "2025-09-12T20:25:23.833Z"
        ],
        [
         "C01155",
         "cynthia51@lewis-dixon.com",
         "East Theresa",
         "FL",
         "lewis-dixon.com",
         "Latasha Phelps",
         3,
         "2025-09-12T20:27:48.350Z",
         "2025-09-12T20:25:23.833Z"
        ],
        [
         "C01943",
         "rodriguezzachary@hotmail.com",
         "East Timothy",
         "PA",
         "hotmail.com",
         "David Cooper",
         4,
         "2025-09-12T20:27:48.350Z",
         "2025-09-12T20:25:23.833Z"
        ],
        [
         "C01554",
         "sthompson@harding.com",
         "New Leefurt",
         "ME",
         "harding.com",
         "Gavin Lindsey",
         5,
         "2025-09-12T20:27:48.350Z",
         "2025-09-12T20:25:23.833Z"
        ],
        [
         "C00767",
         "rsmith@pruitt-hodges.net",
         "Heatherton",
         "IL",
         "pruitt-hodges.net",
         "Pam Watts",
         6,
         "2025-09-12T20:27:48.350Z",
         "2025-09-12T20:25:23.833Z"
        ],
        [
         "C01097",
         "joel22@stone-holmes.com",
         "Davidhaven",
         "LA",
         "stone-holmes.com",
         "James Martinez",
         7,
         "2025-09-12T20:27:48.350Z",
         "2025-09-12T20:25:23.833Z"
        ],
        [
         "C01674",
         "crystalraymond@keller.com",
         "Hoborough",
         "ME",
         "keller.com",
         "Nicole Johnston",
         8,
         "2025-09-12T20:27:48.350Z",
         "2025-09-12T20:25:23.833Z"
        ],
        [
         "C00215",
         "petersonthomas@yahoo.com",
         "South Andrea",
         "OK",
         "yahoo.com",
         "Danielle Huerta",
         9,
         "2025-09-12T20:27:48.350Z",
         "2025-09-12T20:25:23.833Z"
        ],
        [
         "C00587",
         "phillipsstephanie@gmail.com",
         "New Ronaldmouth",
         "OR",
         "gmail.com",
         "Michael Bailey",
         10,
         "2025-09-12T20:27:48.350Z",
         "2025-09-12T20:25:23.833Z"
        ]
       ],
       "datasetInfos": [
        {
         "name": "_sqldf",
         "schema": {
          "fields": [
           {
            "metadata": {},
            "name": "customer_id",
            "nullable": true,
            "type": "string"
           },
           {
            "metadata": {},
            "name": "email",
            "nullable": true,
            "type": "string"
           },
           {
            "metadata": {},
            "name": "city",
            "nullable": true,
            "type": "string"
           },
           {
            "metadata": {},
            "name": "state",
            "nullable": true,
            "type": "string"
           },
           {
            "metadata": {},
            "name": "domains",
            "nullable": true,
            "type": "string"
           },
           {
            "metadata": {},
            "name": "full_name",
            "nullable": true,
            "type": "string"
           },
           {
            "metadata": {},
            "name": "DimCustomerKey",
            "nullable": true,
            "type": "long"
           },
           {
            "metadata": {},
            "name": "update_date",
            "nullable": true,
            "type": "timestamp"
           },
           {
            "metadata": {},
            "name": "create_date",
            "nullable": true,
            "type": "timestamp"
           }
          ],
          "type": "struct"
         },
         "tableIdentifier": null,
         "typeStr": "pyspark.sql.connect.dataframe.DataFrame"
        }
       ],
       "dbfsResultPath": null,
       "isJsonSchema": true,
       "metadata": {
        "createTempViewForImplicitDf": true,
        "dataframeName": "_sqldf",
        "executionCount": 84
       },
       "overflow": false,
       "plotOptions": {
        "customPlotOptions": {},
        "displayType": "table",
        "pivotAggregation": null,
        "pivotColumns": null,
        "xColumns": null,
        "yColumns": null
       },
       "removedWidgets": [],
       "schema": [
        {
         "metadata": "{}",
         "name": "customer_id",
         "type": "\"string\""
        },
        {
         "metadata": "{}",
         "name": "email",
         "type": "\"string\""
        },
        {
         "metadata": "{}",
         "name": "city",
         "type": "\"string\""
        },
        {
         "metadata": "{}",
         "name": "state",
         "type": "\"string\""
        },
        {
         "metadata": "{}",
         "name": "domains",
         "type": "\"string\""
        },
        {
         "metadata": "{}",
         "name": "full_name",
         "type": "\"string\""
        },
        {
         "metadata": "{}",
         "name": "DimCustomerKey",
         "type": "\"long\""
        },
        {
         "metadata": "{}",
         "name": "update_date",
         "type": "\"timestamp\""
        },
        {
         "metadata": "{}",
         "name": "create_date",
         "type": "\"timestamp\""
        }
       ],
       "type": "table"
      }
     },
     "output_type": "display_data"
    }
   ],
   "source": [
    "%sql\n",
    "select * from databricks_cata.gold.dimcustomers limit 10"
   ]
  },
  {
   "cell_type": "code",
   "execution_count": 0,
   "metadata": {
    "application/vnd.databricks.v1+cell": {
     "cellMetadata": {
      "byteLimit": 2048000,
      "rowLimit": 10000
     },
     "inputWidgets": {},
     "nuid": "dbe44a0f-9bf0-4ccc-a607-1c934d605894",
     "showTitle": false,
     "tableResultSettingsMap": {},
     "title": ""
    }
   },
   "outputs": [
    {
     "output_type": "stream",
     "name": "stdout",
     "output_type": "stream",
     "text": [
      "root\n |-- customer_id: string (nullable = true)\n |-- email: string (nullable = true)\n |-- city: string (nullable = true)\n |-- state: string (nullable = true)\n |-- domains: string (nullable = true)\n |-- full_name: string (nullable = true)\n |-- DimCustomerKey: long (nullable = false)\n |-- create_date: timestamp (nullable = true)\n |-- update_date: timestamp (nullable = false)\n\n"
     ]
    }
   ],
   "source": [
    "df_final.printSchema()"
   ]
  }
 ],
 "metadata": {
  "application/vnd.databricks.v1+notebook": {
   "computePreferences": {
    "hardware": {
     "accelerator": null,
     "gpuPoolId": null,
     "memory": null
    }
   },
   "dashboards": [],
   "environmentMetadata": {
    "base_environment": "",
    "environment_version": "3"
   },
   "inputWidgetPreferences": null,
   "language": "python",
   "notebookMetadata": {
    "mostRecentlyExecutedCommandWithImplicitDF": {
     "commandId": 6775532264950110,
     "dataframes": [
      "_sqldf"
     ]
    },
    "pythonIndentUnit": 4
   },
   "notebookName": "Gold_Customers",
   "widgets": {
    "init_load_flag": {
     "currentValue": "0",
     "nuid": "988165d0-5e9e-439f-a97e-e5b9e7abd645",
     "typedWidgetInfo": {
      "autoCreated": false,
      "defaultValue": "",
      "label": "",
      "name": "init_load_flag",
      "options": {
       "widgetDisplayType": "Text",
       "validationRegex": null
      },
      "parameterDataType": "String"
     },
     "widgetInfo": {
      "widgetType": "text",
      "defaultValue": "",
      "label": "",
      "name": "init_load_flag",
      "options": {
       "widgetType": "text",
       "autoCreated": false,
       "validationRegex": null
      }
     }
    }
   }
  },
  "language_info": {
   "name": "python"
  }
 },
 "nbformat": 4,
 "nbformat_minor": 0
}
