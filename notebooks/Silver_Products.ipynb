{
 "cells": [
  {
   "cell_type": "code",
   "execution_count": 0,
   "metadata": {
    "application/vnd.databricks.v1+cell": {
     "cellMetadata": {
      "byteLimit": 2048000,
      "rowLimit": 10000
     },
     "inputWidgets": {},
     "nuid": "e5fe0a40-51e0-4384-81d1-36da7e82b506",
     "showTitle": false,
     "tableResultSettingsMap": {},
     "title": ""
    }
   },
   "outputs": [],
   "source": [
    "from pyspark.sql.functions import *\n",
    "from pyspark.sql.types import *\n",
    "from pyspark.sql.window import Window"
   ]
  },
  {
   "cell_type": "markdown",
   "metadata": {
    "application/vnd.databricks.v1+cell": {
     "cellMetadata": {
      "byteLimit": 2048000,
      "rowLimit": 10000
     },
     "inputWidgets": {},
     "nuid": "a3860ae6-0c93-4656-b410-c5ba039704e1",
     "showTitle": false,
     "tableResultSettingsMap": {},
     "title": ""
    }
   },
   "source": [
    "### **Data Reading**"
   ]
  },
  {
   "cell_type": "code",
   "execution_count": 0,
   "metadata": {
    "application/vnd.databricks.v1+cell": {
     "cellMetadata": {
      "byteLimit": 2048000,
      "rowLimit": 10000
     },
     "inputWidgets": {},
     "nuid": "73bb876c-3bf2-41cc-953b-17b3e1a4d3ce",
     "showTitle": false,
     "tableResultSettingsMap": {},
     "title": ""
    }
   },
   "outputs": [],
   "source": [
    "df=spark.read.format(\"parquet\")\\\n",
    "   .load(\"abfss://bronze@databricksaniete.dfs.core.windows.net/products\")"
   ]
  },
  {
   "cell_type": "code",
   "execution_count": 0,
   "metadata": {
    "application/vnd.databricks.v1+cell": {
     "cellMetadata": {
      "byteLimit": 2048000,
      "rowLimit": 10000
     },
     "inputWidgets": {},
     "nuid": "a60f6d1e-8c7e-4bc4-80bb-2b1b19cee188",
     "showTitle": false,
     "tableResultSettingsMap": {},
     "title": ""
    }
   },
   "outputs": [
    {
     "output_type": "display_data",
     "data": {
      "text/html": [
       "<style scoped>\n",
       "  .table-result-container {\n",
       "    max-height: 300px;\n",
       "    overflow: auto;\n",
       "  }\n",
       "  table, th, td {\n",
       "    border: 1px solid black;\n",
       "    border-collapse: collapse;\n",
       "  }\n",
       "  th, td {\n",
       "    padding: 5px;\n",
       "  }\n",
       "  th {\n",
       "    text-align: left;\n",
       "  }\n",
       "</style><div class='table-result-container'><table class='table-result'><thead style='background-color: white'><tr><th>product_id</th><th>product_name</th><th>category</th><th>brand</th><th>price</th><th>_rescued_data</th></tr></thead><tbody><tr><td>P0001</td><td>Clearly Its</td><td>Beauty</td><td>Nike</td><td>1868.54</td><td>null</td></tr><tr><td>P0002</td><td>Production Clear</td><td>Beauty</td><td>Apple</td><td>587.13</td><td>null</td></tr><tr><td>P0003</td><td>Culture Coach</td><td>Home</td><td>Revlon</td><td>1599.24</td><td>null</td></tr><tr><td>P0004</td><td>Movement Part</td><td>Sports</td><td>LG</td><td>651.71</td><td>null</td></tr><tr><td>P0005</td><td>Fact Name</td><td>Clothing</td><td>Samsung</td><td>1861.78</td><td>null</td></tr><tr><td>P0006</td><td>Usually Stop</td><td>Toys</td><td>Adidas</td><td>936.36</td><td>null</td></tr><tr><td>P0007</td><td>Reveal Current</td><td>Sports</td><td>Adidas</td><td>1954.02</td><td>null</td></tr><tr><td>P0008</td><td>Force Language</td><td>Beauty</td><td>Puma</td><td>1251.26</td><td>null</td></tr><tr><td>P0009</td><td>Stage Leg</td><td>Clothing</td><td>Samsung</td><td>1247.15</td><td>null</td></tr><tr><td>P0010</td><td>Leader Then</td><td>Sports</td><td>Sony</td><td>975.53</td><td>null</td></tr></tbody></table></div>"
      ]
     },
     "metadata": {
      "application/vnd.databricks.v1+output": {
       "addedWidgets": {},
       "aggData": [],
       "aggError": "",
       "aggOverflow": false,
       "aggSchema": [],
       "aggSeriesLimitReached": false,
       "aggType": "",
       "arguments": {},
       "columnCustomDisplayInfos": {},
       "data": [
        [
         "P0001",
         "Clearly Its",
         "Beauty",
         "Nike",
         1868.54,
         null
        ],
        [
         "P0002",
         "Production Clear",
         "Beauty",
         "Apple",
         587.13,
         null
        ],
        [
         "P0003",
         "Culture Coach",
         "Home",
         "Revlon",
         1599.24,
         null
        ],
        [
         "P0004",
         "Movement Part",
         "Sports",
         "LG",
         651.71,
         null
        ],
        [
         "P0005",
         "Fact Name",
         "Clothing",
         "Samsung",
         1861.78,
         null
        ],
        [
         "P0006",
         "Usually Stop",
         "Toys",
         "Adidas",
         936.36,
         null
        ],
        [
         "P0007",
         "Reveal Current",
         "Sports",
         "Adidas",
         1954.02,
         null
        ],
        [
         "P0008",
         "Force Language",
         "Beauty",
         "Puma",
         1251.26,
         null
        ],
        [
         "P0009",
         "Stage Leg",
         "Clothing",
         "Samsung",
         1247.15,
         null
        ],
        [
         "P0010",
         "Leader Then",
         "Sports",
         "Sony",
         975.53,
         null
        ]
       ],
       "datasetInfos": [],
       "dbfsResultPath": null,
       "isJsonSchema": true,
       "metadata": {},
       "overflow": false,
       "plotOptions": {
        "customPlotOptions": {},
        "displayType": "table",
        "pivotAggregation": null,
        "pivotColumns": null,
        "xColumns": null,
        "yColumns": null
       },
       "removedWidgets": [],
       "schema": [
        {
         "metadata": "{}",
         "name": "product_id",
         "type": "\"string\""
        },
        {
         "metadata": "{}",
         "name": "product_name",
         "type": "\"string\""
        },
        {
         "metadata": "{}",
         "name": "category",
         "type": "\"string\""
        },
        {
         "metadata": "{}",
         "name": "brand",
         "type": "\"string\""
        },
        {
         "metadata": "{}",
         "name": "price",
         "type": "\"double\""
        },
        {
         "metadata": "{}",
         "name": "_rescued_data",
         "type": "\"string\""
        }
       ],
       "type": "table"
      }
     },
     "output_type": "display_data"
    }
   ],
   "source": [
    "df.limit(10).display()"
   ]
  },
  {
   "cell_type": "code",
   "execution_count": 0,
   "metadata": {
    "application/vnd.databricks.v1+cell": {
     "cellMetadata": {
      "byteLimit": 2048000,
      "rowLimit": 10000
     },
     "inputWidgets": {},
     "nuid": "6b421c47-a38a-4ebc-9b5c-236db1ba0995",
     "showTitle": false,
     "tableResultSettingsMap": {},
     "title": ""
    }
   },
   "outputs": [],
   "source": [
    "df=df.drop(\"_rescued_data\")\n",
    "df.createOrReplaceTempView(\"products\")"
   ]
  },
  {
   "cell_type": "markdown",
   "metadata": {
    "application/vnd.databricks.v1+cell": {
     "cellMetadata": {
      "byteLimit": 2048000,
      "rowLimit": 10000
     },
     "inputWidgets": {},
     "nuid": "53c8babc-794c-474c-958e-6d0cdc5bae45",
     "showTitle": false,
     "tableResultSettingsMap": {},
     "title": ""
    }
   },
   "source": [
    "### **Functions**"
   ]
  },
  {
   "cell_type": "markdown",
   "metadata": {
    "application/vnd.databricks.v1+cell": {
     "cellMetadata": {
      "byteLimit": 2048000,
      "rowLimit": 10000
     },
     "inputWidgets": {},
     "nuid": "928e0762-87e2-4020-902c-ed6f9192e803",
     "showTitle": false,
     "tableResultSettingsMap": {},
     "title": ""
    }
   },
   "source": [
    "function using SQL"
   ]
  },
  {
   "cell_type": "code",
   "execution_count": 0,
   "metadata": {
    "application/vnd.databricks.v1+cell": {
     "cellMetadata": {
      "byteLimit": 2048000,
      "implicitDf": true,
      "rowLimit": 10000
     },
     "inputWidgets": {},
     "nuid": "f586acd9-e0be-4df8-8bae-871a74d5059b",
     "showTitle": false,
     "tableResultSettingsMap": {},
     "title": ""
    }
   },
   "outputs": [],
   "source": [
    "%sql\n",
    "CREATE or REPLACE FUNCTION databricks_cata.bronze.discount_func(p_price DOUBLE)\n",
    "RETURNS DOUBLE\n",
    "LANGUAGE SQL\n",
    "RETURN p_price*0.90"
   ]
  },
  {
   "cell_type": "code",
   "execution_count": 0,
   "metadata": {
    "application/vnd.databricks.v1+cell": {
     "cellMetadata": {
      "byteLimit": 2048000,
      "implicitDf": true,
      "rowLimit": 10000
     },
     "inputWidgets": {},
     "nuid": "72c4c536-978e-42ee-8c2b-100d481e85d4",
     "showTitle": false,
     "tableResultSettingsMap": {
      "0": {
       "dataGridStateBlob": "{\"version\":1,\"tableState\":{\"columnPinning\":{\"left\":[\"#row_number#\"],\"right\":[]},\"columnSizing\":{},\"columnVisibility\":{}},\"settings\":{\"columns\":{}},\"syncTimestamp\":1757274962585}",
       "filterBlob": null,
       "queryPlanFiltersBlob": null,
       "tableResultIndex": 0
      }
     },
     "title": ""
    }
   },
   "outputs": [
    {
     "output_type": "display_data",
     "data": {
      "text/html": [
       "<style scoped>\n",
       "  .table-result-container {\n",
       "    max-height: 300px;\n",
       "    overflow: auto;\n",
       "  }\n",
       "  table, th, td {\n",
       "    border: 1px solid black;\n",
       "    border-collapse: collapse;\n",
       "  }\n",
       "  th, td {\n",
       "    padding: 5px;\n",
       "  }\n",
       "  th {\n",
       "    text-align: left;\n",
       "  }\n",
       "</style><div class='table-result-container'><table class='table-result'><thead style='background-color: white'><tr><th>product_id</th><th>price</th><th>discounted_price</th></tr></thead><tbody><tr><td>P0001</td><td>1868.54</td><td>1681.69</td></tr><tr><td>P0002</td><td>587.13</td><td>528.42</td></tr><tr><td>P0003</td><td>1599.24</td><td>1439.32</td></tr><tr><td>P0004</td><td>651.71</td><td>586.54</td></tr><tr><td>P0005</td><td>1861.78</td><td>1675.6</td></tr><tr><td>P0006</td><td>936.36</td><td>842.72</td></tr><tr><td>P0007</td><td>1954.02</td><td>1758.62</td></tr><tr><td>P0008</td><td>1251.26</td><td>1126.13</td></tr><tr><td>P0009</td><td>1247.15</td><td>1122.44</td></tr><tr><td>P0010</td><td>975.53</td><td>877.98</td></tr></tbody></table></div>"
      ]
     },
     "metadata": {
      "application/vnd.databricks.v1+output": {
       "addedWidgets": {},
       "aggData": [],
       "aggError": "",
       "aggOverflow": false,
       "aggSchema": [],
       "aggSeriesLimitReached": false,
       "aggType": "",
       "arguments": {},
       "columnCustomDisplayInfos": {},
       "data": [
        [
         "P0001",
         1868.54,
         1681.69
        ],
        [
         "P0002",
         587.13,
         528.42
        ],
        [
         "P0003",
         1599.24,
         1439.32
        ],
        [
         "P0004",
         651.71,
         586.54
        ],
        [
         "P0005",
         1861.78,
         1675.6
        ],
        [
         "P0006",
         936.36,
         842.72
        ],
        [
         "P0007",
         1954.02,
         1758.62
        ],
        [
         "P0008",
         1251.26,
         1126.13
        ],
        [
         "P0009",
         1247.15,
         1122.44
        ],
        [
         "P0010",
         975.53,
         877.98
        ]
       ],
       "datasetInfos": [
        {
         "name": "_sqldf",
         "schema": {
          "fields": [
           {
            "metadata": {},
            "name": "product_id",
            "nullable": true,
            "type": "string"
           },
           {
            "metadata": {},
            "name": "price",
            "nullable": true,
            "type": "double"
           },
           {
            "metadata": {},
            "name": "discounted_price",
            "nullable": true,
            "type": "double"
           }
          ],
          "type": "struct"
         },
         "tableIdentifier": null,
         "typeStr": "pyspark.sql.connect.dataframe.DataFrame"
        }
       ],
       "dbfsResultPath": null,
       "isJsonSchema": true,
       "metadata": {
        "createTempViewForImplicitDf": true,
        "dataframeName": "_sqldf",
        "executionCount": 40
       },
       "overflow": false,
       "plotOptions": {
        "customPlotOptions": {},
        "displayType": "table",
        "pivotAggregation": null,
        "pivotColumns": null,
        "xColumns": null,
        "yColumns": null
       },
       "removedWidgets": [],
       "schema": [
        {
         "metadata": "{}",
         "name": "product_id",
         "type": "\"string\""
        },
        {
         "metadata": "{}",
         "name": "price",
         "type": "\"double\""
        },
        {
         "metadata": "{}",
         "name": "discounted_price",
         "type": "\"double\""
        }
       ],
       "type": "table"
      }
     },
     "output_type": "display_data"
    }
   ],
   "source": [
    "%sql\n",
    "select product_id, price, round(databricks_cata.bronze.discount_func(price),2) as discounted_price\n",
    "from products limit 10"
   ]
  },
  {
   "cell_type": "markdown",
   "metadata": {
    "application/vnd.databricks.v1+cell": {
     "cellMetadata": {
      "byteLimit": 2048000,
      "rowLimit": 10000
     },
     "inputWidgets": {},
     "nuid": "164df817-b935-45b2-978a-d456a578a9a1",
     "showTitle": false,
     "tableResultSettingsMap": {},
     "title": ""
    }
   },
   "source": [
    "**similarly if we want to use in dataframe directly**"
   ]
  },
  {
   "cell_type": "code",
   "execution_count": 0,
   "metadata": {
    "application/vnd.databricks.v1+cell": {
     "cellMetadata": {
      "byteLimit": 2048000,
      "rowLimit": 10000
     },
     "inputWidgets": {},
     "nuid": "b68e8dd6-e852-4446-b79b-1722e69ff616",
     "showTitle": false,
     "tableResultSettingsMap": {},
     "title": ""
    }
   },
   "outputs": [
    {
     "output_type": "display_data",
     "data": {
      "text/html": [
       "<style scoped>\n",
       "  .table-result-container {\n",
       "    max-height: 300px;\n",
       "    overflow: auto;\n",
       "  }\n",
       "  table, th, td {\n",
       "    border: 1px solid black;\n",
       "    border-collapse: collapse;\n",
       "  }\n",
       "  th, td {\n",
       "    padding: 5px;\n",
       "  }\n",
       "  th {\n",
       "    text-align: left;\n",
       "  }\n",
       "</style><div class='table-result-container'><table class='table-result'><thead style='background-color: white'><tr><th>product_id</th><th>product_name</th><th>category</th><th>brand</th><th>price</th><th>discounted_price</th></tr></thead><tbody><tr><td>P0001</td><td>Clearly Its</td><td>Beauty</td><td>Nike</td><td>1868.54</td><td>1681.686</td></tr><tr><td>P0002</td><td>Production Clear</td><td>Beauty</td><td>Apple</td><td>587.13</td><td>528.417</td></tr><tr><td>P0003</td><td>Culture Coach</td><td>Home</td><td>Revlon</td><td>1599.24</td><td>1439.316</td></tr><tr><td>P0004</td><td>Movement Part</td><td>Sports</td><td>LG</td><td>651.71</td><td>586.5390000000001</td></tr><tr><td>P0005</td><td>Fact Name</td><td>Clothing</td><td>Samsung</td><td>1861.78</td><td>1675.602</td></tr><tr><td>P0006</td><td>Usually Stop</td><td>Toys</td><td>Adidas</td><td>936.36</td><td>842.724</td></tr><tr><td>P0007</td><td>Reveal Current</td><td>Sports</td><td>Adidas</td><td>1954.02</td><td>1758.618</td></tr><tr><td>P0008</td><td>Force Language</td><td>Beauty</td><td>Puma</td><td>1251.26</td><td>1126.134</td></tr><tr><td>P0009</td><td>Stage Leg</td><td>Clothing</td><td>Samsung</td><td>1247.15</td><td>1122.4350000000002</td></tr><tr><td>P0010</td><td>Leader Then</td><td>Sports</td><td>Sony</td><td>975.53</td><td>877.977</td></tr></tbody></table></div>"
      ]
     },
     "metadata": {
      "application/vnd.databricks.v1+output": {
       "addedWidgets": {},
       "aggData": [],
       "aggError": "",
       "aggOverflow": false,
       "aggSchema": [],
       "aggSeriesLimitReached": false,
       "aggType": "",
       "arguments": {},
       "columnCustomDisplayInfos": {},
       "data": [
        [
         "P0001",
         "Clearly Its",
         "Beauty",
         "Nike",
         1868.54,
         1681.686
        ],
        [
         "P0002",
         "Production Clear",
         "Beauty",
         "Apple",
         587.13,
         528.417
        ],
        [
         "P0003",
         "Culture Coach",
         "Home",
         "Revlon",
         1599.24,
         1439.316
        ],
        [
         "P0004",
         "Movement Part",
         "Sports",
         "LG",
         651.71,
         586.5390000000001
        ],
        [
         "P0005",
         "Fact Name",
         "Clothing",
         "Samsung",
         1861.78,
         1675.602
        ],
        [
         "P0006",
         "Usually Stop",
         "Toys",
         "Adidas",
         936.36,
         842.724
        ],
        [
         "P0007",
         "Reveal Current",
         "Sports",
         "Adidas",
         1954.02,
         1758.618
        ],
        [
         "P0008",
         "Force Language",
         "Beauty",
         "Puma",
         1251.26,
         1126.134
        ],
        [
         "P0009",
         "Stage Leg",
         "Clothing",
         "Samsung",
         1247.15,
         1122.4350000000002
        ],
        [
         "P0010",
         "Leader Then",
         "Sports",
         "Sony",
         975.53,
         877.977
        ]
       ],
       "datasetInfos": [],
       "dbfsResultPath": null,
       "isJsonSchema": true,
       "metadata": {},
       "overflow": false,
       "plotOptions": {
        "customPlotOptions": {},
        "displayType": "table",
        "pivotAggregation": null,
        "pivotColumns": null,
        "xColumns": null,
        "yColumns": null
       },
       "removedWidgets": [],
       "schema": [
        {
         "metadata": "{}",
         "name": "product_id",
         "type": "\"string\""
        },
        {
         "metadata": "{}",
         "name": "product_name",
         "type": "\"string\""
        },
        {
         "metadata": "{}",
         "name": "category",
         "type": "\"string\""
        },
        {
         "metadata": "{}",
         "name": "brand",
         "type": "\"string\""
        },
        {
         "metadata": "{}",
         "name": "price",
         "type": "\"double\""
        },
        {
         "metadata": "{}",
         "name": "discounted_price",
         "type": "\"double\""
        }
       ],
       "type": "table"
      }
     },
     "output_type": "display_data"
    }
   ],
   "source": [
    "df=df.withColumn(\"discounted_price\",expr(\"databricks_cata.bronze.discount_func(price)\"))\n",
    "df.limit(10).display()"
   ]
  },
  {
   "cell_type": "markdown",
   "metadata": {
    "application/vnd.databricks.v1+cell": {
     "cellMetadata": {
      "byteLimit": 2048000,
      "rowLimit": 10000
     },
     "inputWidgets": {},
     "nuid": "1afa4e3f-fe6b-458c-b86f-78faf8ff8648",
     "showTitle": false,
     "tableResultSettingsMap": {},
     "title": ""
    }
   },
   "source": [
    "function using PYTHON"
   ]
  },
  {
   "cell_type": "code",
   "execution_count": 0,
   "metadata": {
    "application/vnd.databricks.v1+cell": {
     "cellMetadata": {
      "byteLimit": 2048000,
      "implicitDf": true,
      "rowLimit": 10000
     },
     "inputWidgets": {},
     "nuid": "37db3956-c825-4ca2-b761-028469d3dac5",
     "showTitle": false,
     "tableResultSettingsMap": {},
     "title": ""
    }
   },
   "outputs": [],
   "source": [
    "%sql\n",
    "CREATE or REPLACE FUNCTION databricks_cata.bronze.upper_func(p_brand STRING)\n",
    "RETURNS STRING\n",
    "LANGUAGE PYTHON\n",
    "AS\n",
    "$$\n",
    "  return p_brand.upper()\n",
    "$$"
   ]
  },
  {
   "cell_type": "code",
   "execution_count": 0,
   "metadata": {
    "application/vnd.databricks.v1+cell": {
     "cellMetadata": {
      "byteLimit": 2048000,
      "implicitDf": true,
      "rowLimit": 10000
     },
     "inputWidgets": {},
     "nuid": "e276ef8a-64bd-4905-8fc9-dd6d2e4f2db2",
     "showTitle": false,
     "tableResultSettingsMap": {},
     "title": ""
    }
   },
   "outputs": [
    {
     "output_type": "display_data",
     "data": {
      "text/html": [
       "<style scoped>\n",
       "  .table-result-container {\n",
       "    max-height: 300px;\n",
       "    overflow: auto;\n",
       "  }\n",
       "  table, th, td {\n",
       "    border: 1px solid black;\n",
       "    border-collapse: collapse;\n",
       "  }\n",
       "  th, td {\n",
       "    padding: 5px;\n",
       "  }\n",
       "  th {\n",
       "    text-align: left;\n",
       "  }\n",
       "</style><div class='table-result-container'><table class='table-result'><thead style='background-color: white'><tr><th>product_id</th><th>brand</th><th>brand_upper</th></tr></thead><tbody><tr><td>P0001</td><td>Nike</td><td>NIKE</td></tr><tr><td>P0002</td><td>Apple</td><td>APPLE</td></tr><tr><td>P0003</td><td>Revlon</td><td>REVLON</td></tr><tr><td>P0004</td><td>LG</td><td>LG</td></tr><tr><td>P0005</td><td>Samsung</td><td>SAMSUNG</td></tr><tr><td>P0006</td><td>Adidas</td><td>ADIDAS</td></tr><tr><td>P0007</td><td>Adidas</td><td>ADIDAS</td></tr><tr><td>P0008</td><td>Puma</td><td>PUMA</td></tr><tr><td>P0009</td><td>Samsung</td><td>SAMSUNG</td></tr><tr><td>P0010</td><td>Sony</td><td>SONY</td></tr></tbody></table></div>"
      ]
     },
     "metadata": {
      "application/vnd.databricks.v1+output": {
       "addedWidgets": {},
       "aggData": [],
       "aggError": "",
       "aggOverflow": false,
       "aggSchema": [],
       "aggSeriesLimitReached": false,
       "aggType": "",
       "arguments": {},
       "columnCustomDisplayInfos": {},
       "data": [
        [
         "P0001",
         "Nike",
         "NIKE"
        ],
        [
         "P0002",
         "Apple",
         "APPLE"
        ],
        [
         "P0003",
         "Revlon",
         "REVLON"
        ],
        [
         "P0004",
         "LG",
         "LG"
        ],
        [
         "P0005",
         "Samsung",
         "SAMSUNG"
        ],
        [
         "P0006",
         "Adidas",
         "ADIDAS"
        ],
        [
         "P0007",
         "Adidas",
         "ADIDAS"
        ],
        [
         "P0008",
         "Puma",
         "PUMA"
        ],
        [
         "P0009",
         "Samsung",
         "SAMSUNG"
        ],
        [
         "P0010",
         "Sony",
         "SONY"
        ]
       ],
       "datasetInfos": [
        {
         "name": "_sqldf",
         "schema": {
          "fields": [
           {
            "metadata": {},
            "name": "product_id",
            "nullable": true,
            "type": "string"
           },
           {
            "metadata": {},
            "name": "brand",
            "nullable": true,
            "type": "string"
           },
           {
            "metadata": {},
            "name": "brand_upper",
            "nullable": true,
            "type": "string"
           }
          ],
          "type": "struct"
         },
         "tableIdentifier": null,
         "typeStr": "pyspark.sql.connect.dataframe.DataFrame"
        }
       ],
       "dbfsResultPath": null,
       "isJsonSchema": true,
       "metadata": {
        "createTempViewForImplicitDf": true,
        "dataframeName": "_sqldf",
        "executionCount": 43
       },
       "overflow": false,
       "plotOptions": {
        "customPlotOptions": {},
        "displayType": "table",
        "pivotAggregation": null,
        "pivotColumns": null,
        "xColumns": null,
        "yColumns": null
       },
       "removedWidgets": [],
       "schema": [
        {
         "metadata": "{}",
         "name": "product_id",
         "type": "\"string\""
        },
        {
         "metadata": "{}",
         "name": "brand",
         "type": "\"string\""
        },
        {
         "metadata": "{}",
         "name": "brand_upper",
         "type": "\"string\""
        }
       ],
       "type": "table"
      }
     },
     "output_type": "display_data"
    }
   ],
   "source": [
    "%sql\n",
    "select product_id, brand, databricks_cata.bronze.upper_func(brand) as brand_upper\n",
    "from products limit 10"
   ]
  },
  {
   "cell_type": "markdown",
   "metadata": {
    "application/vnd.databricks.v1+cell": {
     "cellMetadata": {
      "byteLimit": 2048000,
      "rowLimit": 10000
     },
     "inputWidgets": {},
     "nuid": "f613d762-3d7b-43e0-a4ad-83c7e77f937a",
     "showTitle": false,
     "tableResultSettingsMap": {},
     "title": ""
    }
   },
   "source": [
    "### **DATA WRITING**"
   ]
  },
  {
   "cell_type": "code",
   "execution_count": 0,
   "metadata": {
    "application/vnd.databricks.v1+cell": {
     "cellMetadata": {
      "byteLimit": 2048000,
      "rowLimit": 10000
     },
     "inputWidgets": {},
     "nuid": "c1fc786b-c6cd-4479-bad1-b8468027c6e7",
     "showTitle": false,
     "tableResultSettingsMap": {},
     "title": ""
    }
   },
   "outputs": [],
   "source": [
    "df.write.mode(\"overwrite\").format(\"delta\").save(\"abfss://silver@databricksaniete.dfs.core.windows.net/products\")"
   ]
  },
  {
   "cell_type": "code",
   "execution_count": 0,
   "metadata": {
    "application/vnd.databricks.v1+cell": {
     "cellMetadata": {
      "byteLimit": 2048000,
      "implicitDf": true,
      "rowLimit": 10000
     },
     "inputWidgets": {},
     "nuid": "b77174be-5c3e-4b20-b5d6-1a2d28255ceb",
     "showTitle": false,
     "tableResultSettingsMap": {},
     "title": ""
    }
   },
   "outputs": [],
   "source": [
    "%sql\n",
    "CREATE TABLE if not EXISTS databricks_cata.silver.products_silver\n",
    "USING DELTA\n",
    "LOCATION 'abfss://silver@databricksaniete.dfs.core.windows.net/products'"
   ]
  }
 ],
 "metadata": {
  "application/vnd.databricks.v1+notebook": {
   "computePreferences": {
    "hardware": {
     "accelerator": null,
     "gpuPoolId": null,
     "memory": null
    }
   },
   "dashboards": [],
   "environmentMetadata": {
    "base_environment": "",
    "environment_version": "3"
   },
   "inputWidgetPreferences": null,
   "language": "python",
   "notebookMetadata": {
    "mostRecentlyExecutedCommandWithImplicitDF": {
     "commandId": 5713322104548710,
     "dataframes": [
      "_sqldf"
     ]
    },
    "pythonIndentUnit": 4
   },
   "notebookName": "Silver_Products",
   "widgets": {}
  },
  "language_info": {
   "name": "python"
  }
 },
 "nbformat": 4,
 "nbformat_minor": 0
}