{
 "cells": [
  {
   "cell_type": "code",
   "execution_count": 0,
   "metadata": {
    "application/vnd.databricks.v1+cell": {
     "cellMetadata": {
      "byteLimit": 2048000,
      "rowLimit": 10000
     },
     "inputWidgets": {},
     "nuid": "bec301ff-9b3a-40b5-a1ba-cd4fb4011375",
     "showTitle": false,
     "tableResultSettingsMap": {},
     "title": ""
    }
   },
   "outputs": [],
   "source": [
    "from pyspark.sql.functions import *\n",
    "from pyspark.sql.types import *\n",
    "from pyspark.sql.window import Window\n",
    "import time"
   ]
  },
  {
   "cell_type": "markdown",
   "metadata": {
    "application/vnd.databricks.v1+cell": {
     "cellMetadata": {
      "byteLimit": 2048000,
      "rowLimit": 10000
     },
     "inputWidgets": {},
     "nuid": "b0fadc02-e831-4365-b1fc-b906e5842cba",
     "showTitle": false,
     "tableResultSettingsMap": {},
     "title": ""
    }
   },
   "source": [
    "### **Data Reading**"
   ]
  },
  {
   "cell_type": "code",
   "execution_count": 0,
   "metadata": {
    "application/vnd.databricks.v1+cell": {
     "cellMetadata": {
      "byteLimit": 2048000,
      "rowLimit": 10000
     },
     "inputWidgets": {},
     "nuid": "b3ed24b8-ed31-4c84-a1df-f796638708ed",
     "showTitle": false,
     "tableResultSettingsMap": {
      "0": {
       "dataGridStateBlob": "{\"version\":1,\"tableState\":{\"columnPinning\":{\"left\":[\"#row_number#\"],\"right\":[]},\"columnSizing\":{},\"columnVisibility\":{}},\"settings\":{\"columns\":{}},\"syncTimestamp\":1757227732253}",
       "filterBlob": null,
       "queryPlanFiltersBlob": null,
       "tableResultIndex": 0
      }
     },
     "title": ""
    }
   },
   "outputs": [
    {
     "output_type": "display_data",
     "data": {
      "text/html": [
       "<style scoped>\n",
       "  .table-result-container {\n",
       "    max-height: 300px;\n",
       "    overflow: auto;\n",
       "  }\n",
       "  table, th, td {\n",
       "    border: 1px solid black;\n",
       "    border-collapse: collapse;\n",
       "  }\n",
       "  th, td {\n",
       "    padding: 5px;\n",
       "  }\n",
       "  th {\n",
       "    text-align: left;\n",
       "  }\n",
       "</style><div class='table-result-container'><table class='table-result'><thead style='background-color: white'><tr><th>customer_id</th><th>first_name</th><th>last_name</th><th>email</th><th>city</th><th>state</th><th>_rescued_data</th></tr></thead><tbody><tr><td>C00001</td><td>Emily</td><td>Mooney</td><td>rushjeff@ryan.org</td><td>Johnsonmouth</td><td>MS</td><td>null</td></tr><tr><td>C00002</td><td>Andrea</td><td>Sellers</td><td>mccoykiara@kelly.com</td><td>Stephenfort</td><td>WY</td><td>null</td></tr><tr><td>C00003</td><td>Craig</td><td>Hayes</td><td>rebeccamiller@yahoo.com</td><td>South Stephenshire</td><td>LA</td><td>null</td></tr><tr><td>C00004</td><td>Bryan</td><td>Scott</td><td>lawrence05@campbell.info</td><td>Chrisland</td><td>ND</td><td>null</td></tr><tr><td>C00005</td><td>Sean</td><td>Vasquez</td><td>carrie45@yahoo.com</td><td>East Dennistown</td><td>RI</td><td>null</td></tr><tr><td>C00006</td><td>Kevin</td><td>Mccarthy</td><td>traceyramos@gmail.com</td><td>North Matthew</td><td>IN</td><td>null</td></tr><tr><td>C00007</td><td>Amanda</td><td>Doyle</td><td>scottallen@gmail.com</td><td>Joneshaven</td><td>VA</td><td>null</td></tr><tr><td>C00008</td><td>Paul</td><td>Campos</td><td>sullivanjeremy@horton-adams.com</td><td>South Nathanfurt</td><td>CT</td><td>null</td></tr><tr><td>C00009</td><td>Mary</td><td>Green</td><td>dennis03@yahoo.com</td><td>Kimberlyview</td><td>MD</td><td>null</td></tr><tr><td>C00010</td><td>James</td><td>Myers</td><td>charles58@murillo.net</td><td>West Hector</td><td>OK</td><td>null</td></tr></tbody></table></div>"
      ]
     },
     "metadata": {
      "application/vnd.databricks.v1+output": {
       "addedWidgets": {},
       "aggData": [],
       "aggError": "",
       "aggOverflow": false,
       "aggSchema": [],
       "aggSeriesLimitReached": false,
       "aggType": "",
       "arguments": {},
       "columnCustomDisplayInfos": {},
       "data": [
        [
         "C00001",
         "Emily",
         "Mooney",
         "rushjeff@ryan.org",
         "Johnsonmouth",
         "MS",
         null
        ],
        [
         "C00002",
         "Andrea",
         "Sellers",
         "mccoykiara@kelly.com",
         "Stephenfort",
         "WY",
         null
        ],
        [
         "C00003",
         "Craig",
         "Hayes",
         "rebeccamiller@yahoo.com",
         "South Stephenshire",
         "LA",
         null
        ],
        [
         "C00004",
         "Bryan",
         "Scott",
         "lawrence05@campbell.info",
         "Chrisland",
         "ND",
         null
        ],
        [
         "C00005",
         "Sean",
         "Vasquez",
         "carrie45@yahoo.com",
         "East Dennistown",
         "RI",
         null
        ],
        [
         "C00006",
         "Kevin",
         "Mccarthy",
         "traceyramos@gmail.com",
         "North Matthew",
         "IN",
         null
        ],
        [
         "C00007",
         "Amanda",
         "Doyle",
         "scottallen@gmail.com",
         "Joneshaven",
         "VA",
         null
        ],
        [
         "C00008",
         "Paul",
         "Campos",
         "sullivanjeremy@horton-adams.com",
         "South Nathanfurt",
         "CT",
         null
        ],
        [
         "C00009",
         "Mary",
         "Green",
         "dennis03@yahoo.com",
         "Kimberlyview",
         "MD",
         null
        ],
        [
         "C00010",
         "James",
         "Myers",
         "charles58@murillo.net",
         "West Hector",
         "OK",
         null
        ]
       ],
       "datasetInfos": [],
       "dbfsResultPath": null,
       "isJsonSchema": true,
       "metadata": {},
       "overflow": false,
       "plotOptions": {
        "customPlotOptions": {},
        "displayType": "table",
        "pivotAggregation": null,
        "pivotColumns": null,
        "xColumns": null,
        "yColumns": null
       },
       "removedWidgets": [],
       "schema": [
        {
         "metadata": "{}",
         "name": "customer_id",
         "type": "\"string\""
        },
        {
         "metadata": "{}",
         "name": "first_name",
         "type": "\"string\""
        },
        {
         "metadata": "{}",
         "name": "last_name",
         "type": "\"string\""
        },
        {
         "metadata": "{}",
         "name": "email",
         "type": "\"string\""
        },
        {
         "metadata": "{}",
         "name": "city",
         "type": "\"string\""
        },
        {
         "metadata": "{}",
         "name": "state",
         "type": "\"string\""
        },
        {
         "metadata": "{}",
         "name": "_rescued_data",
         "type": "\"string\""
        }
       ],
       "type": "table"
      }
     },
     "output_type": "display_data"
    },
    {
     "output_type": "execute_result",
     "data": {
      "text/plain": [
       "2000"
      ]
     },
     "execution_count": 8,
     "metadata": {},
     "output_type": "execute_result"
    }
   ],
   "source": [
    "df=spark.read.format(\"parquet\")\\\n",
    "    .load(\"abfss://bronze@databricksaniete.dfs.core.windows.net/customers\")\n",
    "df.limit(10).display()\n",
    "df.count()"
   ]
  },
  {
   "cell_type": "code",
   "execution_count": 0,
   "metadata": {
    "application/vnd.databricks.v1+cell": {
     "cellMetadata": {
      "byteLimit": 2048000,
      "rowLimit": 10000
     },
     "inputWidgets": {},
     "nuid": "f37b8ab1-a5a6-426f-894b-b62902adb594",
     "showTitle": false,
     "tableResultSettingsMap": {},
     "title": ""
    }
   },
   "outputs": [
    {
     "output_type": "display_data",
     "data": {
      "text/html": [
       "<style scoped>\n",
       "  .table-result-container {\n",
       "    max-height: 300px;\n",
       "    overflow: auto;\n",
       "  }\n",
       "  table, th, td {\n",
       "    border: 1px solid black;\n",
       "    border-collapse: collapse;\n",
       "  }\n",
       "  th, td {\n",
       "    padding: 5px;\n",
       "  }\n",
       "  th {\n",
       "    text-align: left;\n",
       "  }\n",
       "</style><div class='table-result-container'><table class='table-result'><thead style='background-color: white'><tr><th>customer_id</th><th>first_name</th><th>last_name</th><th>email</th><th>city</th><th>state</th></tr></thead><tbody><tr><td>C00001</td><td>Emily</td><td>Mooney</td><td>rushjeff@ryan.org</td><td>Johnsonmouth</td><td>MS</td></tr><tr><td>C00002</td><td>Andrea</td><td>Sellers</td><td>mccoykiara@kelly.com</td><td>Stephenfort</td><td>WY</td></tr><tr><td>C00003</td><td>Craig</td><td>Hayes</td><td>rebeccamiller@yahoo.com</td><td>South Stephenshire</td><td>LA</td></tr><tr><td>C00004</td><td>Bryan</td><td>Scott</td><td>lawrence05@campbell.info</td><td>Chrisland</td><td>ND</td></tr><tr><td>C00005</td><td>Sean</td><td>Vasquez</td><td>carrie45@yahoo.com</td><td>East Dennistown</td><td>RI</td></tr><tr><td>C00006</td><td>Kevin</td><td>Mccarthy</td><td>traceyramos@gmail.com</td><td>North Matthew</td><td>IN</td></tr><tr><td>C00007</td><td>Amanda</td><td>Doyle</td><td>scottallen@gmail.com</td><td>Joneshaven</td><td>VA</td></tr><tr><td>C00008</td><td>Paul</td><td>Campos</td><td>sullivanjeremy@horton-adams.com</td><td>South Nathanfurt</td><td>CT</td></tr><tr><td>C00009</td><td>Mary</td><td>Green</td><td>dennis03@yahoo.com</td><td>Kimberlyview</td><td>MD</td></tr><tr><td>C00010</td><td>James</td><td>Myers</td><td>charles58@murillo.net</td><td>West Hector</td><td>OK</td></tr></tbody></table></div>"
      ]
     },
     "metadata": {
      "application/vnd.databricks.v1+output": {
       "addedWidgets": {},
       "aggData": [],
       "aggError": "",
       "aggOverflow": false,
       "aggSchema": [],
       "aggSeriesLimitReached": false,
       "aggType": "",
       "arguments": {},
       "columnCustomDisplayInfos": {},
       "data": [
        [
         "C00001",
         "Emily",
         "Mooney",
         "rushjeff@ryan.org",
         "Johnsonmouth",
         "MS"
        ],
        [
         "C00002",
         "Andrea",
         "Sellers",
         "mccoykiara@kelly.com",
         "Stephenfort",
         "WY"
        ],
        [
         "C00003",
         "Craig",
         "Hayes",
         "rebeccamiller@yahoo.com",
         "South Stephenshire",
         "LA"
        ],
        [
         "C00004",
         "Bryan",
         "Scott",
         "lawrence05@campbell.info",
         "Chrisland",
         "ND"
        ],
        [
         "C00005",
         "Sean",
         "Vasquez",
         "carrie45@yahoo.com",
         "East Dennistown",
         "RI"
        ],
        [
         "C00006",
         "Kevin",
         "Mccarthy",
         "traceyramos@gmail.com",
         "North Matthew",
         "IN"
        ],
        [
         "C00007",
         "Amanda",
         "Doyle",
         "scottallen@gmail.com",
         "Joneshaven",
         "VA"
        ],
        [
         "C00008",
         "Paul",
         "Campos",
         "sullivanjeremy@horton-adams.com",
         "South Nathanfurt",
         "CT"
        ],
        [
         "C00009",
         "Mary",
         "Green",
         "dennis03@yahoo.com",
         "Kimberlyview",
         "MD"
        ],
        [
         "C00010",
         "James",
         "Myers",
         "charles58@murillo.net",
         "West Hector",
         "OK"
        ]
       ],
       "datasetInfos": [],
       "dbfsResultPath": null,
       "isJsonSchema": true,
       "metadata": {},
       "overflow": false,
       "plotOptions": {
        "customPlotOptions": {},
        "displayType": "table",
        "pivotAggregation": null,
        "pivotColumns": null,
        "xColumns": null,
        "yColumns": null
       },
       "removedWidgets": [],
       "schema": [
        {
         "metadata": "{}",
         "name": "customer_id",
         "type": "\"string\""
        },
        {
         "metadata": "{}",
         "name": "first_name",
         "type": "\"string\""
        },
        {
         "metadata": "{}",
         "name": "last_name",
         "type": "\"string\""
        },
        {
         "metadata": "{}",
         "name": "email",
         "type": "\"string\""
        },
        {
         "metadata": "{}",
         "name": "city",
         "type": "\"string\""
        },
        {
         "metadata": "{}",
         "name": "state",
         "type": "\"string\""
        }
       ],
       "type": "table"
      }
     },
     "output_type": "display_data"
    },
    {
     "output_type": "execute_result",
     "data": {
      "text/plain": [
       "2000"
      ]
     },
     "execution_count": 9,
     "metadata": {},
     "output_type": "execute_result"
    }
   ],
   "source": [
    "df=df.drop(\"_rescued_data\")\n",
    "df.limit(10).display()\n",
    "df.count()"
   ]
  },
  {
   "cell_type": "code",
   "execution_count": 0,
   "metadata": {
    "application/vnd.databricks.v1+cell": {
     "cellMetadata": {
      "byteLimit": 2048000,
      "rowLimit": 10000
     },
     "inputWidgets": {},
     "nuid": "f92ef9e1-9590-4da0-bee3-d66aeb6ad0c9",
     "showTitle": false,
     "tableResultSettingsMap": {},
     "title": ""
    }
   },
   "outputs": [
    {
     "output_type": "display_data",
     "data": {
      "text/html": [
       "<style scoped>\n",
       "  .table-result-container {\n",
       "    max-height: 300px;\n",
       "    overflow: auto;\n",
       "  }\n",
       "  table, th, td {\n",
       "    border: 1px solid black;\n",
       "    border-collapse: collapse;\n",
       "  }\n",
       "  th, td {\n",
       "    padding: 5px;\n",
       "  }\n",
       "  th {\n",
       "    text-align: left;\n",
       "  }\n",
       "</style><div class='table-result-container'><table class='table-result'><thead style='background-color: white'><tr><th>customer_id</th><th>first_name</th><th>last_name</th><th>email</th><th>city</th><th>state</th><th>domains</th></tr></thead><tbody><tr><td>C00001</td><td>Emily</td><td>Mooney</td><td>rushjeff@ryan.org</td><td>Johnsonmouth</td><td>MS</td><td>ryan.org</td></tr><tr><td>C00002</td><td>Andrea</td><td>Sellers</td><td>mccoykiara@kelly.com</td><td>Stephenfort</td><td>WY</td><td>kelly.com</td></tr><tr><td>C00003</td><td>Craig</td><td>Hayes</td><td>rebeccamiller@yahoo.com</td><td>South Stephenshire</td><td>LA</td><td>yahoo.com</td></tr><tr><td>C00004</td><td>Bryan</td><td>Scott</td><td>lawrence05@campbell.info</td><td>Chrisland</td><td>ND</td><td>campbell.info</td></tr><tr><td>C00005</td><td>Sean</td><td>Vasquez</td><td>carrie45@yahoo.com</td><td>East Dennistown</td><td>RI</td><td>yahoo.com</td></tr><tr><td>C00006</td><td>Kevin</td><td>Mccarthy</td><td>traceyramos@gmail.com</td><td>North Matthew</td><td>IN</td><td>gmail.com</td></tr><tr><td>C00007</td><td>Amanda</td><td>Doyle</td><td>scottallen@gmail.com</td><td>Joneshaven</td><td>VA</td><td>gmail.com</td></tr><tr><td>C00008</td><td>Paul</td><td>Campos</td><td>sullivanjeremy@horton-adams.com</td><td>South Nathanfurt</td><td>CT</td><td>horton-adams.com</td></tr><tr><td>C00009</td><td>Mary</td><td>Green</td><td>dennis03@yahoo.com</td><td>Kimberlyview</td><td>MD</td><td>yahoo.com</td></tr><tr><td>C00010</td><td>James</td><td>Myers</td><td>charles58@murillo.net</td><td>West Hector</td><td>OK</td><td>murillo.net</td></tr></tbody></table></div>"
      ]
     },
     "metadata": {
      "application/vnd.databricks.v1+output": {
       "addedWidgets": {},
       "aggData": [],
       "aggError": "",
       "aggOverflow": false,
       "aggSchema": [],
       "aggSeriesLimitReached": false,
       "aggType": "",
       "arguments": {},
       "columnCustomDisplayInfos": {},
       "data": [
        [
         "C00001",
         "Emily",
         "Mooney",
         "rushjeff@ryan.org",
         "Johnsonmouth",
         "MS",
         "ryan.org"
        ],
        [
         "C00002",
         "Andrea",
         "Sellers",
         "mccoykiara@kelly.com",
         "Stephenfort",
         "WY",
         "kelly.com"
        ],
        [
         "C00003",
         "Craig",
         "Hayes",
         "rebeccamiller@yahoo.com",
         "South Stephenshire",
         "LA",
         "yahoo.com"
        ],
        [
         "C00004",
         "Bryan",
         "Scott",
         "lawrence05@campbell.info",
         "Chrisland",
         "ND",
         "campbell.info"
        ],
        [
         "C00005",
         "Sean",
         "Vasquez",
         "carrie45@yahoo.com",
         "East Dennistown",
         "RI",
         "yahoo.com"
        ],
        [
         "C00006",
         "Kevin",
         "Mccarthy",
         "traceyramos@gmail.com",
         "North Matthew",
         "IN",
         "gmail.com"
        ],
        [
         "C00007",
         "Amanda",
         "Doyle",
         "scottallen@gmail.com",
         "Joneshaven",
         "VA",
         "gmail.com"
        ],
        [
         "C00008",
         "Paul",
         "Campos",
         "sullivanjeremy@horton-adams.com",
         "South Nathanfurt",
         "CT",
         "horton-adams.com"
        ],
        [
         "C00009",
         "Mary",
         "Green",
         "dennis03@yahoo.com",
         "Kimberlyview",
         "MD",
         "yahoo.com"
        ],
        [
         "C00010",
         "James",
         "Myers",
         "charles58@murillo.net",
         "West Hector",
         "OK",
         "murillo.net"
        ]
       ],
       "datasetInfos": [],
       "dbfsResultPath": null,
       "isJsonSchema": true,
       "metadata": {},
       "overflow": false,
       "plotOptions": {
        "customPlotOptions": {},
        "displayType": "table",
        "pivotAggregation": null,
        "pivotColumns": null,
        "xColumns": null,
        "yColumns": null
       },
       "removedWidgets": [],
       "schema": [
        {
         "metadata": "{}",
         "name": "customer_id",
         "type": "\"string\""
        },
        {
         "metadata": "{}",
         "name": "first_name",
         "type": "\"string\""
        },
        {
         "metadata": "{}",
         "name": "last_name",
         "type": "\"string\""
        },
        {
         "metadata": "{}",
         "name": "email",
         "type": "\"string\""
        },
        {
         "metadata": "{}",
         "name": "city",
         "type": "\"string\""
        },
        {
         "metadata": "{}",
         "name": "state",
         "type": "\"string\""
        },
        {
         "metadata": "{}",
         "name": "domains",
         "type": "\"string\""
        }
       ],
       "type": "table"
      }
     },
     "output_type": "display_data"
    },
    {
     "output_type": "execute_result",
     "data": {
      "text/plain": [
       "2000"
      ]
     },
     "execution_count": 10,
     "metadata": {},
     "output_type": "execute_result"
    }
   ],
   "source": [
    "df=df.withColumn('domains',split(col('email'),\"@\")[1])\n",
    "df.limit(10).display()\n",
    "df.count()"
   ]
  },
  {
   "cell_type": "code",
   "execution_count": 0,
   "metadata": {
    "application/vnd.databricks.v1+cell": {
     "cellMetadata": {
      "byteLimit": 2048000,
      "rowLimit": 10000
     },
     "inputWidgets": {},
     "nuid": "e2e8ba6c-949b-43f7-bb09-2d4929c73535",
     "showTitle": false,
     "tableResultSettingsMap": {},
     "title": ""
    }
   },
   "outputs": [
    {
     "output_type": "display_data",
     "data": {
      "text/html": [
       "<style scoped>\n",
       "  .table-result-container {\n",
       "    max-height: 300px;\n",
       "    overflow: auto;\n",
       "  }\n",
       "  table, th, td {\n",
       "    border: 1px solid black;\n",
       "    border-collapse: collapse;\n",
       "  }\n",
       "  th, td {\n",
       "    padding: 5px;\n",
       "  }\n",
       "  th {\n",
       "    text-align: left;\n",
       "  }\n",
       "</style><div class='table-result-container'><table class='table-result'><thead style='background-color: white'><tr><th>domains</th><th>total_customers</th></tr></thead><tbody><tr><td>gmail.com</td><td>374</td></tr><tr><td>hotmail.com</td><td>360</td></tr><tr><td>yahoo.com</td><td>331</td></tr><tr><td>davis.com</td><td>8</td></tr><tr><td>brown.com</td><td>8</td></tr><tr><td>smith.com</td><td>7</td></tr><tr><td>johnson.com</td><td>5</td></tr><tr><td>hernandez.com</td><td>5</td></tr><tr><td>white.com</td><td>4</td></tr><tr><td>miller.com</td><td>4</td></tr></tbody></table></div>"
      ]
     },
     "metadata": {
      "application/vnd.databricks.v1+output": {
       "addedWidgets": {},
       "aggData": [],
       "aggError": "",
       "aggOverflow": false,
       "aggSchema": [],
       "aggSeriesLimitReached": false,
       "aggType": "",
       "arguments": {},
       "columnCustomDisplayInfos": {},
       "data": [
        [
         "gmail.com",
         374
        ],
        [
         "hotmail.com",
         360
        ],
        [
         "yahoo.com",
         331
        ],
        [
         "davis.com",
         8
        ],
        [
         "brown.com",
         8
        ],
        [
         "smith.com",
         7
        ],
        [
         "johnson.com",
         5
        ],
        [
         "hernandez.com",
         5
        ],
        [
         "white.com",
         4
        ],
        [
         "miller.com",
         4
        ]
       ],
       "datasetInfos": [],
       "dbfsResultPath": null,
       "isJsonSchema": true,
       "metadata": {},
       "overflow": false,
       "plotOptions": {
        "customPlotOptions": {},
        "displayType": "table",
        "pivotAggregation": null,
        "pivotColumns": null,
        "xColumns": null,
        "yColumns": null
       },
       "removedWidgets": [],
       "schema": [
        {
         "metadata": "{}",
         "name": "domains",
         "type": "\"string\""
        },
        {
         "metadata": "{}",
         "name": "total_customers",
         "type": "\"long\""
        }
       ],
       "type": "table"
      }
     },
     "output_type": "display_data"
    }
   ],
   "source": [
    "df.groupBy(\"domains\").agg(count(\"customer_id\").alias(\"total_customers\")).orderBy(desc(\"total_customers\")).limit(10).display()"
   ]
  },
  {
   "cell_type": "code",
   "execution_count": 0,
   "metadata": {
    "application/vnd.databricks.v1+cell": {
     "cellMetadata": {
      "byteLimit": 2048000,
      "rowLimit": 10000
     },
     "inputWidgets": {},
     "nuid": "27386c39-70ba-416d-a6fb-de3225b72042",
     "showTitle": false,
     "tableResultSettingsMap": {
      "0": {
       "dataGridStateBlob": "{\"version\":1,\"tableState\":{\"columnPinning\":{\"left\":[\"#row_number#\"],\"right\":[]},\"columnSizing\":{},\"columnVisibility\":{}},\"settings\":{\"columns\":{}},\"syncTimestamp\":1757707485168}",
       "filterBlob": null,
       "queryPlanFiltersBlob": null,
       "tableResultIndex": 0
      }
     },
     "title": ""
    }
   },
   "outputs": [
    {
     "output_type": "display_data",
     "data": {
      "text/html": [
       "<style scoped>\n",
       "  .table-result-container {\n",
       "    max-height: 300px;\n",
       "    overflow: auto;\n",
       "  }\n",
       "  table, th, td {\n",
       "    border: 1px solid black;\n",
       "    border-collapse: collapse;\n",
       "  }\n",
       "  th, td {\n",
       "    padding: 5px;\n",
       "  }\n",
       "  th {\n",
       "    text-align: left;\n",
       "  }\n",
       "</style><div class='table-result-container'><table class='table-result'><thead style='background-color: white'><tr><th>customer_id</th><th>email</th><th>city</th><th>state</th><th>domains</th><th>full_name</th></tr></thead><tbody><tr><td>C00006</td><td>traceyramos@gmail.com</td><td>North Matthew</td><td>IN</td><td>gmail.com</td><td>Kevin Mccarthy</td></tr><tr><td>C00007</td><td>scottallen@gmail.com</td><td>Joneshaven</td><td>VA</td><td>gmail.com</td><td>Amanda Doyle</td></tr><tr><td>C00011</td><td>anita65@gmail.com</td><td>Houstonfurt</td><td>AR</td><td>gmail.com</td><td>Jacob Le</td></tr><tr><td>C00012</td><td>beardtravis@gmail.com</td><td>East Jenniferview</td><td>WI</td><td>gmail.com</td><td>Chad Banks</td></tr><tr><td>C00013</td><td>jwood@gmail.com</td><td>Lake Gregoryshire</td><td>OR</td><td>gmail.com</td><td>James Martin</td></tr><tr><td>C00017</td><td>rhondaferguson@gmail.com</td><td>West Loriborough</td><td>GA</td><td>gmail.com</td><td>Angela Carter</td></tr><tr><td>C00028</td><td>steven27@gmail.com</td><td>North Gregoryfurt</td><td>NM</td><td>gmail.com</td><td>Barry Baker</td></tr><tr><td>C00030</td><td>cfuller@gmail.com</td><td>Port Coltonton</td><td>AL</td><td>gmail.com</td><td>Holly Collins</td></tr><tr><td>C00032</td><td>egallegos@gmail.com</td><td>Samuelshire</td><td>KS</td><td>gmail.com</td><td>Alexandria Singleton</td></tr><tr><td>C00034</td><td>stacy78@gmail.com</td><td>Gregorybury</td><td>IA</td><td>gmail.com</td><td>Carol Matthews</td></tr></tbody></table></div>"
      ]
     },
     "metadata": {
      "application/vnd.databricks.v1+output": {
       "addedWidgets": {},
       "aggData": [],
       "aggError": "",
       "aggOverflow": false,
       "aggSchema": [],
       "aggSeriesLimitReached": false,
       "aggType": "",
       "arguments": {},
       "columnCustomDisplayInfos": {},
       "data": [
        [
         "C00006",
         "traceyramos@gmail.com",
         "North Matthew",
         "IN",
         "gmail.com",
         "Kevin Mccarthy"
        ],
        [
         "C00007",
         "scottallen@gmail.com",
         "Joneshaven",
         "VA",
         "gmail.com",
         "Amanda Doyle"
        ],
        [
         "C00011",
         "anita65@gmail.com",
         "Houstonfurt",
         "AR",
         "gmail.com",
         "Jacob Le"
        ],
        [
         "C00012",
         "beardtravis@gmail.com",
         "East Jenniferview",
         "WI",
         "gmail.com",
         "Chad Banks"
        ],
        [
         "C00013",
         "jwood@gmail.com",
         "Lake Gregoryshire",
         "OR",
         "gmail.com",
         "James Martin"
        ],
        [
         "C00017",
         "rhondaferguson@gmail.com",
         "West Loriborough",
         "GA",
         "gmail.com",
         "Angela Carter"
        ],
        [
         "C00028",
         "steven27@gmail.com",
         "North Gregoryfurt",
         "NM",
         "gmail.com",
         "Barry Baker"
        ],
        [
         "C00030",
         "cfuller@gmail.com",
         "Port Coltonton",
         "AL",
         "gmail.com",
         "Holly Collins"
        ],
        [
         "C00032",
         "egallegos@gmail.com",
         "Samuelshire",
         "KS",
         "gmail.com",
         "Alexandria Singleton"
        ],
        [
         "C00034",
         "stacy78@gmail.com",
         "Gregorybury",
         "IA",
         "gmail.com",
         "Carol Matthews"
        ]
       ],
       "datasetInfos": [],
       "dbfsResultPath": null,
       "isJsonSchema": true,
       "metadata": {},
       "overflow": false,
       "plotOptions": {
        "customPlotOptions": {},
        "displayType": "table",
        "pivotAggregation": null,
        "pivotColumns": null,
        "xColumns": null,
        "yColumns": null
       },
       "removedWidgets": [],
       "schema": [
        {
         "metadata": "{}",
         "name": "customer_id",
         "type": "\"string\""
        },
        {
         "metadata": "{}",
         "name": "email",
         "type": "\"string\""
        },
        {
         "metadata": "{}",
         "name": "city",
         "type": "\"string\""
        },
        {
         "metadata": "{}",
         "name": "state",
         "type": "\"string\""
        },
        {
         "metadata": "{}",
         "name": "domains",
         "type": "\"string\""
        },
        {
         "metadata": "{}",
         "name": "full_name",
         "type": "\"string\""
        }
       ],
       "type": "table"
      }
     },
     "output_type": "display_data"
    },
    {
     "output_type": "execute_result",
     "data": {
      "text/plain": [
       "374"
      ]
     },
     "execution_count": 17,
     "metadata": {},
     "output_type": "execute_result"
    }
   ],
   "source": [
    "df_gmail=df.filter(col(\"domains\")=='gmail.com')\n",
    "df_gmail.limit(10).display()\n",
    "df_gmail.count()"
   ]
  },
  {
   "cell_type": "code",
   "execution_count": 0,
   "metadata": {
    "application/vnd.databricks.v1+cell": {
     "cellMetadata": {
      "byteLimit": 2048000,
      "rowLimit": 10000
     },
     "inputWidgets": {},
     "nuid": "4eeb2fe8-c943-42e4-b79e-ff4618250091",
     "showTitle": false,
     "tableResultSettingsMap": {},
     "title": ""
    }
   },
   "outputs": [
    {
     "output_type": "display_data",
     "data": {
      "text/html": [
       "<style scoped>\n",
       "  .table-result-container {\n",
       "    max-height: 300px;\n",
       "    overflow: auto;\n",
       "  }\n",
       "  table, th, td {\n",
       "    border: 1px solid black;\n",
       "    border-collapse: collapse;\n",
       "  }\n",
       "  th, td {\n",
       "    padding: 5px;\n",
       "  }\n",
       "  th {\n",
       "    text-align: left;\n",
       "  }\n",
       "</style><div class='table-result-container'><table class='table-result'><thead style='background-color: white'><tr><th>customer_id</th><th>email</th><th>city</th><th>state</th><th>domains</th><th>full_name</th></tr></thead><tbody><tr><td>C00015</td><td>daniellowe@hotmail.com</td><td>South Courtney</td><td>SC</td><td>hotmail.com</td><td>Diane Harris</td></tr><tr><td>C00020</td><td>rojassandra@hotmail.com</td><td>South Oscar</td><td>NV</td><td>hotmail.com</td><td>Juan Collins</td></tr><tr><td>C00031</td><td>kramerkaylee@hotmail.com</td><td>Travisview</td><td>CT</td><td>hotmail.com</td><td>Jeanette Smith</td></tr><tr><td>C00033</td><td>lindasummers@hotmail.com</td><td>South Andrewchester</td><td>CO</td><td>hotmail.com</td><td>Carrie Wheeler</td></tr><tr><td>C00036</td><td>jesustaylor@hotmail.com</td><td>Port Nicoleborough</td><td>AR</td><td>hotmail.com</td><td>Jacob Mccoy</td></tr><tr><td>C00037</td><td>eric78@hotmail.com</td><td>Millerfurt</td><td>VT</td><td>hotmail.com</td><td>Holly Arnold</td></tr><tr><td>C00038</td><td>ythomas@hotmail.com</td><td>Port Michaelstad</td><td>MS</td><td>hotmail.com</td><td>Robert Haas</td></tr><tr><td>C00039</td><td>angela55@hotmail.com</td><td>Lake Michaelhaven</td><td>AL</td><td>hotmail.com</td><td>Teresa Ward</td></tr><tr><td>C00041</td><td>pbarnes@hotmail.com</td><td>Allisonhaven</td><td>AK</td><td>hotmail.com</td><td>James Brooks</td></tr><tr><td>C00043</td><td>ronnie19@hotmail.com</td><td>South Johnville</td><td>OK</td><td>hotmail.com</td><td>Margaret Sullivan</td></tr></tbody></table></div>"
      ]
     },
     "metadata": {
      "application/vnd.databricks.v1+output": {
       "addedWidgets": {},
       "aggData": [],
       "aggError": "",
       "aggOverflow": false,
       "aggSchema": [],
       "aggSeriesLimitReached": false,
       "aggType": "",
       "arguments": {},
       "columnCustomDisplayInfos": {},
       "data": [
        [
         "C00015",
         "daniellowe@hotmail.com",
         "South Courtney",
         "SC",
         "hotmail.com",
         "Diane Harris"
        ],
        [
         "C00020",
         "rojassandra@hotmail.com",
         "South Oscar",
         "NV",
         "hotmail.com",
         "Juan Collins"
        ],
        [
         "C00031",
         "kramerkaylee@hotmail.com",
         "Travisview",
         "CT",
         "hotmail.com",
         "Jeanette Smith"
        ],
        [
         "C00033",
         "lindasummers@hotmail.com",
         "South Andrewchester",
         "CO",
         "hotmail.com",
         "Carrie Wheeler"
        ],
        [
         "C00036",
         "jesustaylor@hotmail.com",
         "Port Nicoleborough",
         "AR",
         "hotmail.com",
         "Jacob Mccoy"
        ],
        [
         "C00037",
         "eric78@hotmail.com",
         "Millerfurt",
         "VT",
         "hotmail.com",
         "Holly Arnold"
        ],
        [
         "C00038",
         "ythomas@hotmail.com",
         "Port Michaelstad",
         "MS",
         "hotmail.com",
         "Robert Haas"
        ],
        [
         "C00039",
         "angela55@hotmail.com",
         "Lake Michaelhaven",
         "AL",
         "hotmail.com",
         "Teresa Ward"
        ],
        [
         "C00041",
         "pbarnes@hotmail.com",
         "Allisonhaven",
         "AK",
         "hotmail.com",
         "James Brooks"
        ],
        [
         "C00043",
         "ronnie19@hotmail.com",
         "South Johnville",
         "OK",
         "hotmail.com",
         "Margaret Sullivan"
        ]
       ],
       "datasetInfos": [],
       "dbfsResultPath": null,
       "isJsonSchema": true,
       "metadata": {},
       "overflow": false,
       "plotOptions": {
        "customPlotOptions": {},
        "displayType": "table",
        "pivotAggregation": null,
        "pivotColumns": null,
        "xColumns": null,
        "yColumns": null
       },
       "removedWidgets": [],
       "schema": [
        {
         "metadata": "{}",
         "name": "customer_id",
         "type": "\"string\""
        },
        {
         "metadata": "{}",
         "name": "email",
         "type": "\"string\""
        },
        {
         "metadata": "{}",
         "name": "city",
         "type": "\"string\""
        },
        {
         "metadata": "{}",
         "name": "state",
         "type": "\"string\""
        },
        {
         "metadata": "{}",
         "name": "domains",
         "type": "\"string\""
        },
        {
         "metadata": "{}",
         "name": "full_name",
         "type": "\"string\""
        }
       ],
       "type": "table"
      }
     },
     "output_type": "display_data"
    },
    {
     "output_type": "execute_result",
     "data": {
      "text/plain": [
       "360"
      ]
     },
     "execution_count": 18,
     "metadata": {},
     "output_type": "execute_result"
    }
   ],
   "source": [
    "df_hotmail=df.filter(col(\"domains\")=='hotmail.com')\n",
    "df_hotmail.limit(10).display()\n",
    "df_hotmail.count()"
   ]
  },
  {
   "cell_type": "code",
   "execution_count": 0,
   "metadata": {
    "application/vnd.databricks.v1+cell": {
     "cellMetadata": {
      "byteLimit": 2048000,
      "rowLimit": 10000
     },
     "inputWidgets": {},
     "nuid": "32780f7e-b6ed-4dd9-9adf-8d68935d0b19",
     "showTitle": false,
     "tableResultSettingsMap": {},
     "title": ""
    }
   },
   "outputs": [
    {
     "output_type": "display_data",
     "data": {
      "text/html": [
       "<style scoped>\n",
       "  .table-result-container {\n",
       "    max-height: 300px;\n",
       "    overflow: auto;\n",
       "  }\n",
       "  table, th, td {\n",
       "    border: 1px solid black;\n",
       "    border-collapse: collapse;\n",
       "  }\n",
       "  th, td {\n",
       "    padding: 5px;\n",
       "  }\n",
       "  th {\n",
       "    text-align: left;\n",
       "  }\n",
       "</style><div class='table-result-container'><table class='table-result'><thead style='background-color: white'><tr><th>customer_id</th><th>email</th><th>city</th><th>state</th><th>domains</th><th>full_name</th></tr></thead><tbody><tr><td>C00003</td><td>rebeccamiller@yahoo.com</td><td>South Stephenshire</td><td>LA</td><td>yahoo.com</td><td>Craig Hayes</td></tr><tr><td>C00005</td><td>carrie45@yahoo.com</td><td>East Dennistown</td><td>RI</td><td>yahoo.com</td><td>Sean Vasquez</td></tr><tr><td>C00009</td><td>dennis03@yahoo.com</td><td>Kimberlyview</td><td>MD</td><td>yahoo.com</td><td>Mary Green</td></tr><tr><td>C00014</td><td>lmoore@yahoo.com</td><td>East Tiffanybury</td><td>MS</td><td>yahoo.com</td><td>Thomas Hartman</td></tr><tr><td>C00024</td><td>andreawilliams@yahoo.com</td><td>Stewartport</td><td>NM</td><td>yahoo.com</td><td>Heather Owens</td></tr><tr><td>C00025</td><td>dawn65@yahoo.com</td><td>Port Juliebury</td><td>IN</td><td>yahoo.com</td><td>Christina Bennett</td></tr><tr><td>C00026</td><td>rebecca20@yahoo.com</td><td>Ortizshire</td><td>WY</td><td>yahoo.com</td><td>Mark Harris</td></tr><tr><td>C00042</td><td>hannasteven@yahoo.com</td><td>South Garrettton</td><td>IA</td><td>yahoo.com</td><td>Jenna Lewis</td></tr><tr><td>C00048</td><td>floresvanessa@yahoo.com</td><td>Lake Andrea</td><td>MO</td><td>yahoo.com</td><td>Natalie Gentry</td></tr><tr><td>C00051</td><td>millerjennifer@yahoo.com</td><td>Anthonymouth</td><td>CO</td><td>yahoo.com</td><td>Frank Phillips</td></tr></tbody></table></div>"
      ]
     },
     "metadata": {
      "application/vnd.databricks.v1+output": {
       "addedWidgets": {},
       "aggData": [],
       "aggError": "",
       "aggOverflow": false,
       "aggSchema": [],
       "aggSeriesLimitReached": false,
       "aggType": "",
       "arguments": {},
       "columnCustomDisplayInfos": {},
       "data": [
        [
         "C00003",
         "rebeccamiller@yahoo.com",
         "South Stephenshire",
         "LA",
         "yahoo.com",
         "Craig Hayes"
        ],
        [
         "C00005",
         "carrie45@yahoo.com",
         "East Dennistown",
         "RI",
         "yahoo.com",
         "Sean Vasquez"
        ],
        [
         "C00009",
         "dennis03@yahoo.com",
         "Kimberlyview",
         "MD",
         "yahoo.com",
         "Mary Green"
        ],
        [
         "C00014",
         "lmoore@yahoo.com",
         "East Tiffanybury",
         "MS",
         "yahoo.com",
         "Thomas Hartman"
        ],
        [
         "C00024",
         "andreawilliams@yahoo.com",
         "Stewartport",
         "NM",
         "yahoo.com",
         "Heather Owens"
        ],
        [
         "C00025",
         "dawn65@yahoo.com",
         "Port Juliebury",
         "IN",
         "yahoo.com",
         "Christina Bennett"
        ],
        [
         "C00026",
         "rebecca20@yahoo.com",
         "Ortizshire",
         "WY",
         "yahoo.com",
         "Mark Harris"
        ],
        [
         "C00042",
         "hannasteven@yahoo.com",
         "South Garrettton",
         "IA",
         "yahoo.com",
         "Jenna Lewis"
        ],
        [
         "C00048",
         "floresvanessa@yahoo.com",
         "Lake Andrea",
         "MO",
         "yahoo.com",
         "Natalie Gentry"
        ],
        [
         "C00051",
         "millerjennifer@yahoo.com",
         "Anthonymouth",
         "CO",
         "yahoo.com",
         "Frank Phillips"
        ]
       ],
       "datasetInfos": [],
       "dbfsResultPath": null,
       "isJsonSchema": true,
       "metadata": {},
       "overflow": false,
       "plotOptions": {
        "customPlotOptions": {},
        "displayType": "table",
        "pivotAggregation": null,
        "pivotColumns": null,
        "xColumns": null,
        "yColumns": null
       },
       "removedWidgets": [],
       "schema": [
        {
         "metadata": "{}",
         "name": "customer_id",
         "type": "\"string\""
        },
        {
         "metadata": "{}",
         "name": "email",
         "type": "\"string\""
        },
        {
         "metadata": "{}",
         "name": "city",
         "type": "\"string\""
        },
        {
         "metadata": "{}",
         "name": "state",
         "type": "\"string\""
        },
        {
         "metadata": "{}",
         "name": "domains",
         "type": "\"string\""
        },
        {
         "metadata": "{}",
         "name": "full_name",
         "type": "\"string\""
        }
       ],
       "type": "table"
      }
     },
     "output_type": "display_data"
    },
    {
     "output_type": "execute_result",
     "data": {
      "text/plain": [
       "331"
      ]
     },
     "execution_count": 19,
     "metadata": {},
     "output_type": "execute_result"
    }
   ],
   "source": [
    "df_yahoo=df.filter(col(\"domains\")=='yahoo.com')\n",
    "df_yahoo.limit(10).display()\n",
    "df_yahoo.count()"
   ]
  },
  {
   "cell_type": "code",
   "execution_count": 0,
   "metadata": {
    "application/vnd.databricks.v1+cell": {
     "cellMetadata": {
      "byteLimit": 2048000,
      "rowLimit": 10000
     },
     "inputWidgets": {},
     "nuid": "ac1f1f10-44c8-48dc-b3b9-2368c40f8f7b",
     "showTitle": false,
     "tableResultSettingsMap": {},
     "title": ""
    }
   },
   "outputs": [
    {
     "output_type": "display_data",
     "data": {
      "text/html": [
       "<style scoped>\n",
       "  .table-result-container {\n",
       "    max-height: 300px;\n",
       "    overflow: auto;\n",
       "  }\n",
       "  table, th, td {\n",
       "    border: 1px solid black;\n",
       "    border-collapse: collapse;\n",
       "  }\n",
       "  th, td {\n",
       "    padding: 5px;\n",
       "  }\n",
       "  th {\n",
       "    text-align: left;\n",
       "  }\n",
       "</style><div class='table-result-container'><table class='table-result'><thead style='background-color: white'><tr><th>customer_id</th><th>email</th><th>city</th><th>state</th><th>domains</th><th>full_name</th></tr></thead><tbody><tr><td>C00001</td><td>rushjeff@ryan.org</td><td>Johnsonmouth</td><td>MS</td><td>ryan.org</td><td>Emily Mooney</td></tr><tr><td>C00002</td><td>mccoykiara@kelly.com</td><td>Stephenfort</td><td>WY</td><td>kelly.com</td><td>Andrea Sellers</td></tr><tr><td>C00003</td><td>rebeccamiller@yahoo.com</td><td>South Stephenshire</td><td>LA</td><td>yahoo.com</td><td>Craig Hayes</td></tr><tr><td>C00004</td><td>lawrence05@campbell.info</td><td>Chrisland</td><td>ND</td><td>campbell.info</td><td>Bryan Scott</td></tr><tr><td>C00005</td><td>carrie45@yahoo.com</td><td>East Dennistown</td><td>RI</td><td>yahoo.com</td><td>Sean Vasquez</td></tr><tr><td>C00006</td><td>traceyramos@gmail.com</td><td>North Matthew</td><td>IN</td><td>gmail.com</td><td>Kevin Mccarthy</td></tr><tr><td>C00007</td><td>scottallen@gmail.com</td><td>Joneshaven</td><td>VA</td><td>gmail.com</td><td>Amanda Doyle</td></tr><tr><td>C00008</td><td>sullivanjeremy@horton-adams.com</td><td>South Nathanfurt</td><td>CT</td><td>horton-adams.com</td><td>Paul Campos</td></tr><tr><td>C00009</td><td>dennis03@yahoo.com</td><td>Kimberlyview</td><td>MD</td><td>yahoo.com</td><td>Mary Green</td></tr><tr><td>C00010</td><td>charles58@murillo.net</td><td>West Hector</td><td>OK</td><td>murillo.net</td><td>James Myers</td></tr></tbody></table></div>"
      ]
     },
     "metadata": {
      "application/vnd.databricks.v1+output": {
       "addedWidgets": {},
       "aggData": [],
       "aggError": "",
       "aggOverflow": false,
       "aggSchema": [],
       "aggSeriesLimitReached": false,
       "aggType": "",
       "arguments": {},
       "columnCustomDisplayInfos": {},
       "data": [
        [
         "C00001",
         "rushjeff@ryan.org",
         "Johnsonmouth",
         "MS",
         "ryan.org",
         "Emily Mooney"
        ],
        [
         "C00002",
         "mccoykiara@kelly.com",
         "Stephenfort",
         "WY",
         "kelly.com",
         "Andrea Sellers"
        ],
        [
         "C00003",
         "rebeccamiller@yahoo.com",
         "South Stephenshire",
         "LA",
         "yahoo.com",
         "Craig Hayes"
        ],
        [
         "C00004",
         "lawrence05@campbell.info",
         "Chrisland",
         "ND",
         "campbell.info",
         "Bryan Scott"
        ],
        [
         "C00005",
         "carrie45@yahoo.com",
         "East Dennistown",
         "RI",
         "yahoo.com",
         "Sean Vasquez"
        ],
        [
         "C00006",
         "traceyramos@gmail.com",
         "North Matthew",
         "IN",
         "gmail.com",
         "Kevin Mccarthy"
        ],
        [
         "C00007",
         "scottallen@gmail.com",
         "Joneshaven",
         "VA",
         "gmail.com",
         "Amanda Doyle"
        ],
        [
         "C00008",
         "sullivanjeremy@horton-adams.com",
         "South Nathanfurt",
         "CT",
         "horton-adams.com",
         "Paul Campos"
        ],
        [
         "C00009",
         "dennis03@yahoo.com",
         "Kimberlyview",
         "MD",
         "yahoo.com",
         "Mary Green"
        ],
        [
         "C00010",
         "charles58@murillo.net",
         "West Hector",
         "OK",
         "murillo.net",
         "James Myers"
        ]
       ],
       "datasetInfos": [],
       "dbfsResultPath": null,
       "isJsonSchema": true,
       "metadata": {},
       "overflow": false,
       "plotOptions": {
        "customPlotOptions": {},
        "displayType": "table",
        "pivotAggregation": null,
        "pivotColumns": null,
        "xColumns": null,
        "yColumns": null
       },
       "removedWidgets": [],
       "schema": [
        {
         "metadata": "{}",
         "name": "customer_id",
         "type": "\"string\""
        },
        {
         "metadata": "{}",
         "name": "email",
         "type": "\"string\""
        },
        {
         "metadata": "{}",
         "name": "city",
         "type": "\"string\""
        },
        {
         "metadata": "{}",
         "name": "state",
         "type": "\"string\""
        },
        {
         "metadata": "{}",
         "name": "domains",
         "type": "\"string\""
        },
        {
         "metadata": "{}",
         "name": "full_name",
         "type": "\"string\""
        }
       ],
       "type": "table"
      }
     },
     "output_type": "display_data"
    },
    {
     "output_type": "execute_result",
     "data": {
      "text/plain": [
       "2000"
      ]
     },
     "execution_count": 13,
     "metadata": {},
     "output_type": "execute_result"
    }
   ],
   "source": [
    "df=df.withColumn(\"full_name\",concat(col(\"first_name\"),lit(\" \"),col(\"last_name\")))\n",
    "df=df.drop(\"first_name\",\"last_name\")\n",
    "df.limit(10).display()\n",
    "df.count()"
   ]
  },
  {
   "cell_type": "markdown",
   "metadata": {
    "application/vnd.databricks.v1+cell": {
     "cellMetadata": {
      "byteLimit": 2048000,
      "rowLimit": 10000
     },
     "inputWidgets": {},
     "nuid": "166441c7-69da-4182-9b77-0ea339507861",
     "showTitle": false,
     "tableResultSettingsMap": {},
     "title": ""
    }
   },
   "source": [
    "### **Data Writing**"
   ]
  },
  {
   "cell_type": "code",
   "execution_count": 0,
   "metadata": {
    "application/vnd.databricks.v1+cell": {
     "cellMetadata": {
      "byteLimit": 2048000,
      "rowLimit": 10000
     },
     "inputWidgets": {},
     "nuid": "b8070d9e-81b3-480d-917d-5174b74adec7",
     "showTitle": false,
     "tableResultSettingsMap": {},
     "title": ""
    }
   },
   "outputs": [],
   "source": [
    "df.write.mode(\"overwrite\").format(\"delta\").save(\"abfss://silver@databricksaniete.dfs.core.windows.net/customers\")"
   ]
  },
  {
   "cell_type": "code",
   "execution_count": 0,
   "metadata": {
    "application/vnd.databricks.v1+cell": {
     "cellMetadata": {
      "byteLimit": 2048000,
      "implicitDf": true,
      "rowLimit": 10000
     },
     "inputWidgets": {},
     "nuid": "739ad509-efd3-4cad-a616-76e80afbaabc",
     "showTitle": false,
     "tableResultSettingsMap": {},
     "title": ""
    }
   },
   "outputs": [],
   "source": [
    "%sql\n",
    "CREATE SCHEMA IF NOT EXISTS databricks_cata.silver"
   ]
  },
  {
   "cell_type": "code",
   "execution_count": 0,
   "metadata": {
    "application/vnd.databricks.v1+cell": {
     "cellMetadata": {
      "byteLimit": 2048000,
      "implicitDf": true,
      "rowLimit": 10000
     },
     "inputWidgets": {},
     "nuid": "414b871a-d7bc-43fa-b41f-75c14a6bdd53",
     "showTitle": false,
     "tableResultSettingsMap": {},
     "title": ""
    }
   },
   "outputs": [],
   "source": [
    "%sql\n",
    "CREATE TABLE if not EXISTS databricks_cata.silver.customers_silver\n",
    "USING DELTA\n",
    "LOCATION 'abfss://silver@databricksaniete.dfs.core.windows.net/customers'"
   ]
  }
 ],
 "metadata": {
  "application/vnd.databricks.v1+notebook": {
   "computePreferences": {
    "hardware": {
     "accelerator": null,
     "gpuPoolId": null,
     "memory": null
    }
   },
   "dashboards": [],
   "environmentMetadata": {
    "base_environment": "",
    "environment_version": "3"
   },
   "inputWidgetPreferences": null,
   "language": "python",
   "notebookMetadata": {
    "mostRecentlyExecutedCommandWithImplicitDF": {
     "commandId": 5713322104548708,
     "dataframes": [
      "_sqldf"
     ]
    },
    "pythonIndentUnit": 4
   },
   "notebookName": "Silver_Customers",
   "widgets": {}
  },
  "language_info": {
   "name": "python"
  }
 },
 "nbformat": 4,
 "nbformat_minor": 0
}