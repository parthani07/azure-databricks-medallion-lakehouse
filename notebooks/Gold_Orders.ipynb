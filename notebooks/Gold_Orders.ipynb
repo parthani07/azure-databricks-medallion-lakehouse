{
 "cells": [
  {
   "cell_type": "markdown",
   "metadata": {
    "application/vnd.databricks.v1+cell": {
     "cellMetadata": {
      "byteLimit": 2048000,
      "rowLimit": 10000
     },
     "inputWidgets": {},
     "nuid": "86700577-40f6-4cd8-9bcf-9c1e78fad977",
     "showTitle": false,
     "tableResultSettingsMap": {},
     "title": ""
    }
   },
   "source": [
    "# **FACT ORDERS**"
   ]
  },
  {
   "cell_type": "markdown",
   "metadata": {
    "application/vnd.databricks.v1+cell": {
     "cellMetadata": {
      "byteLimit": 2048000,
      "rowLimit": 10000
     },
     "inputWidgets": {},
     "nuid": "36dbac01-01cb-40ff-9703-14a520f96e19",
     "showTitle": false,
     "tableResultSettingsMap": {},
     "title": ""
    }
   },
   "source": [
    "**Data Reading**"
   ]
  },
  {
   "cell_type": "code",
   "execution_count": 0,
   "metadata": {
    "application/vnd.databricks.v1+cell": {
     "cellMetadata": {
      "byteLimit": 2048000,
      "rowLimit": 10000
     },
     "inputWidgets": {},
     "nuid": "75b1cadf-0694-4313-a3c3-4618d960983a",
     "showTitle": false,
     "tableResultSettingsMap": {},
     "title": ""
    }
   },
   "outputs": [
    {
     "output_type": "display_data",
     "data": {
      "text/html": [
       "<style scoped>\n",
       "  .table-result-container {\n",
       "    max-height: 300px;\n",
       "    overflow: auto;\n",
       "  }\n",
       "  table, th, td {\n",
       "    border: 1px solid black;\n",
       "    border-collapse: collapse;\n",
       "  }\n",
       "  th, td {\n",
       "    padding: 5px;\n",
       "  }\n",
       "  th {\n",
       "    text-align: left;\n",
       "  }\n",
       "</style><div class='table-result-container'><table class='table-result'><thead style='background-color: white'><tr><th>order_id</th><th>customer_id</th><th>product_id</th><th>order_date</th><th>quantity</th><th>total_amount</th><th>year</th></tr></thead><tbody><tr><td>O09991</td><td>C01696</td><td>P0138</td><td>2024-07-10T00:00:00.000Z</td><td>1</td><td>452.81</td><td>2024</td></tr><tr><td>O09992</td><td>C00203</td><td>P0055</td><td>2024-11-14T00:00:00.000Z</td><td>3</td><td>2776.17</td><td>2024</td></tr><tr><td>O09993</td><td>C00568</td><td>P0008</td><td>2023-01-04T00:00:00.000Z</td><td>2</td><td>2502.52</td><td>2023</td></tr><tr><td>O09994</td><td>C01157</td><td>P0160</td><td>2023-04-10T00:00:00.000Z</td><td>2</td><td>3084.92</td><td>2023</td></tr><tr><td>O09995</td><td>C01824</td><td>P0036</td><td>2023-01-21T00:00:00.000Z</td><td>5</td><td>8901.85</td><td>2023</td></tr><tr><td>O09996</td><td>C01204</td><td>P0054</td><td>2024-07-26T00:00:00.000Z</td><td>4</td><td>5385.04</td><td>2024</td></tr><tr><td>O09997</td><td>C01459</td><td>P0493</td><td>2024-04-04T00:00:00.000Z</td><td>5</td><td>1478.5</td><td>2024</td></tr><tr><td>O09998</td><td>C00997</td><td>P0099</td><td>2023-01-03T00:00:00.000Z</td><td>1</td><td>1110.7</td><td>2023</td></tr><tr><td>O09999</td><td>C01108</td><td>P0185</td><td>2024-06-01T00:00:00.000Z</td><td>1</td><td>1595.17</td><td>2024</td></tr><tr><td>O10000</td><td>C00813</td><td>P0044</td><td>2024-09-07T00:00:00.000Z</td><td>2</td><td>1160.64</td><td>2024</td></tr></tbody></table></div>"
      ]
     },
     "metadata": {
      "application/vnd.databricks.v1+output": {
       "addedWidgets": {},
       "aggData": [],
       "aggError": "",
       "aggOverflow": false,
       "aggSchema": [],
       "aggSeriesLimitReached": false,
       "aggType": "",
       "arguments": {},
       "columnCustomDisplayInfos": {},
       "data": [
        [
         "O09991",
         "C01696",
         "P0138",
         "2024-07-10T00:00:00.000Z",
         1,
         452.81,
         2024
        ],
        [
         "O09992",
         "C00203",
         "P0055",
         "2024-11-14T00:00:00.000Z",
         3,
         2776.17,
         2024
        ],
        [
         "O09993",
         "C00568",
         "P0008",
         "2023-01-04T00:00:00.000Z",
         2,
         2502.52,
         2023
        ],
        [
         "O09994",
         "C01157",
         "P0160",
         "2023-04-10T00:00:00.000Z",
         2,
         3084.92,
         2023
        ],
        [
         "O09995",
         "C01824",
         "P0036",
         "2023-01-21T00:00:00.000Z",
         5,
         8901.85,
         2023
        ],
        [
         "O09996",
         "C01204",
         "P0054",
         "2024-07-26T00:00:00.000Z",
         4,
         5385.04,
         2024
        ],
        [
         "O09997",
         "C01459",
         "P0493",
         "2024-04-04T00:00:00.000Z",
         5,
         1478.5,
         2024
        ],
        [
         "O09998",
         "C00997",
         "P0099",
         "2023-01-03T00:00:00.000Z",
         1,
         1110.7,
         2023
        ],
        [
         "O09999",
         "C01108",
         "P0185",
         "2024-06-01T00:00:00.000Z",
         1,
         1595.17,
         2024
        ],
        [
         "O10000",
         "C00813",
         "P0044",
         "2024-09-07T00:00:00.000Z",
         2,
         1160.64,
         2024
        ]
       ],
       "datasetInfos": [],
       "dbfsResultPath": null,
       "isJsonSchema": true,
       "metadata": {},
       "overflow": false,
       "plotOptions": {
        "customPlotOptions": {},
        "displayType": "table",
        "pivotAggregation": null,
        "pivotColumns": null,
        "xColumns": null,
        "yColumns": null
       },
       "removedWidgets": [],
       "schema": [
        {
         "metadata": "{}",
         "name": "order_id",
         "type": "\"string\""
        },
        {
         "metadata": "{}",
         "name": "customer_id",
         "type": "\"string\""
        },
        {
         "metadata": "{}",
         "name": "product_id",
         "type": "\"string\""
        },
        {
         "metadata": "{}",
         "name": "order_date",
         "type": "\"timestamp\""
        },
        {
         "metadata": "{}",
         "name": "quantity",
         "type": "\"integer\""
        },
        {
         "metadata": "{}",
         "name": "total_amount",
         "type": "\"double\""
        },
        {
         "metadata": "{}",
         "name": "year",
         "type": "\"integer\""
        }
       ],
       "type": "table"
      }
     },
     "output_type": "display_data"
    },
    {
     "output_type": "execute_result",
     "data": {
      "text/plain": [
       "10000"
      ]
     },
     "execution_count": 97,
     "metadata": {},
     "output_type": "execute_result"
    }
   ],
   "source": [
    "df=spark.sql(\"select * from databricks_cata.silver.orders_silver\")\n",
    "df.limit(10).display()\n",
    "df.count()"
   ]
  },
  {
   "cell_type": "markdown",
   "metadata": {
    "application/vnd.databricks.v1+cell": {
     "cellMetadata": {
      "byteLimit": 2048000,
      "rowLimit": 10000
     },
     "inputWidgets": {},
     "nuid": "07d7d16b-0905-4728-94ba-48f90bfdba22",
     "showTitle": false,
     "tableResultSettingsMap": {},
     "title": ""
    }
   },
   "source": [
    "**Reading dimproducts and dimcustomers data**"
   ]
  },
  {
   "cell_type": "code",
   "execution_count": 0,
   "metadata": {
    "application/vnd.databricks.v1+cell": {
     "cellMetadata": {
      "byteLimit": 2048000,
      "rowLimit": 10000
     },
     "inputWidgets": {},
     "nuid": "e1536e2d-99d2-4a41-8a63-c6fac4383546",
     "showTitle": false,
     "tableResultSettingsMap": {},
     "title": ""
    }
   },
   "outputs": [],
   "source": [
    "df_dimcus=spark.sql(\"select dimcustomerkey, customer_id as dim_customer_id from databricks_cata.gold.dimcustomers\")\n",
    "df_dimpro=spark.sql(\"select product_id as dimproductkey, product_id as dim_product_id from databricks_cata.gold.dimproducts\")"
   ]
  },
  {
   "cell_type": "markdown",
   "metadata": {
    "application/vnd.databricks.v1+cell": {
     "cellMetadata": {
      "byteLimit": 2048000,
      "rowLimit": 10000
     },
     "inputWidgets": {},
     "nuid": "c2f217fd-9541-486d-a472-ee8b5beb0512",
     "showTitle": false,
     "tableResultSettingsMap": {},
     "title": ""
    }
   },
   "source": [
    "**Fact DataFrame**"
   ]
  },
  {
   "cell_type": "code",
   "execution_count": 0,
   "metadata": {
    "application/vnd.databricks.v1+cell": {
     "cellMetadata": {
      "byteLimit": 2048000,
      "rowLimit": 10000
     },
     "inputWidgets": {},
     "nuid": "ec51dc30-c2dd-4a85-b8d2-e023bb130df6",
     "showTitle": false,
     "tableResultSettingsMap": {},
     "title": ""
    }
   },
   "outputs": [],
   "source": [
    "df_fact=df.join(df_dimcus,df[\"customer_id\"]==df_dimcus[\"dim_customer_id\"],how=\"left\").join(df_dimpro,df[\"product_id\"]==df_dimpro[\"dim_product_id\"],how=\"left\")\n",
    "\n",
    "df_fact_new=df_fact.drop(\"dim_customer_id\",\"customer_id\",\"dim_product_id\",\"product_id\")"
   ]
  },
  {
   "cell_type": "code",
   "execution_count": 0,
   "metadata": {
    "application/vnd.databricks.v1+cell": {
     "cellMetadata": {
      "byteLimit": 2048000,
      "rowLimit": 10000
     },
     "inputWidgets": {},
     "nuid": "c2a41f34-5b49-43ff-afcb-c291889bc7f1",
     "showTitle": false,
     "tableResultSettingsMap": {
      "0": {
       "dataGridStateBlob": "{\"version\":1,\"tableState\":{\"columnPinning\":{\"left\":[\"#row_number#\"],\"right\":[]},\"columnSizing\":{},\"columnVisibility\":{}},\"settings\":{\"columns\":{}},\"syncTimestamp\":1757664897752}",
       "filterBlob": null,
       "queryPlanFiltersBlob": null,
       "tableResultIndex": 0
      }
     },
     "title": ""
    }
   },
   "outputs": [
    {
     "output_type": "display_data",
     "data": {
      "text/html": [
       "<style scoped>\n",
       "  .table-result-container {\n",
       "    max-height: 300px;\n",
       "    overflow: auto;\n",
       "  }\n",
       "  table, th, td {\n",
       "    border: 1px solid black;\n",
       "    border-collapse: collapse;\n",
       "  }\n",
       "  th, td {\n",
       "    padding: 5px;\n",
       "  }\n",
       "  th {\n",
       "    text-align: left;\n",
       "  }\n",
       "</style><div class='table-result-container'><table class='table-result'><thead style='background-color: white'><tr><th>order_id</th><th>order_date</th><th>quantity</th><th>total_amount</th><th>year</th><th>dimcustomerkey</th><th>dimproductkey</th></tr></thead><tbody><tr><td>O09991</td><td>2024-07-10T00:00:00.000Z</td><td>1</td><td>452.81</td><td>2024</td><td>393</td><td>P0138</td></tr><tr><td>O09992</td><td>2024-11-14T00:00:00.000Z</td><td>3</td><td>2776.17</td><td>2024</td><td>744</td><td>P0055</td></tr><tr><td>O09993</td><td>2023-01-04T00:00:00.000Z</td><td>2</td><td>2502.52</td><td>2023</td><td>147</td><td>P0008</td></tr><tr><td>O09994</td><td>2023-04-10T00:00:00.000Z</td><td>2</td><td>3084.92</td><td>2023</td><td>888</td><td>P0160</td></tr><tr><td>O09995</td><td>2023-01-21T00:00:00.000Z</td><td>5</td><td>8901.85</td><td>2023</td><td>982</td><td>P0036</td></tr><tr><td>O09996</td><td>2024-07-26T00:00:00.000Z</td><td>4</td><td>5385.04</td><td>2024</td><td>103</td><td>P0054</td></tr><tr><td>O09997</td><td>2024-04-04T00:00:00.000Z</td><td>5</td><td>1478.5</td><td>2024</td><td>1267</td><td>P0493</td></tr><tr><td>O09998</td><td>2023-01-03T00:00:00.000Z</td><td>1</td><td>1110.7</td><td>2023</td><td>1709</td><td>P0099</td></tr><tr><td>O09999</td><td>2024-06-01T00:00:00.000Z</td><td>1</td><td>1595.17</td><td>2024</td><td>176</td><td>P0185</td></tr><tr><td>O10000</td><td>2024-09-07T00:00:00.000Z</td><td>2</td><td>1160.64</td><td>2024</td><td>1799</td><td>P0044</td></tr></tbody></table></div>"
      ]
     },
     "metadata": {
      "application/vnd.databricks.v1+output": {
       "addedWidgets": {},
       "aggData": [],
       "aggError": "",
       "aggOverflow": false,
       "aggSchema": [],
       "aggSeriesLimitReached": false,
       "aggType": "",
       "arguments": {},
       "columnCustomDisplayInfos": {},
       "data": [
        [
         "O09991",
         "2024-07-10T00:00:00.000Z",
         1,
         452.81,
         2024,
         393,
         "P0138"
        ],
        [
         "O09992",
         "2024-11-14T00:00:00.000Z",
         3,
         2776.17,
         2024,
         744,
         "P0055"
        ],
        [
         "O09993",
         "2023-01-04T00:00:00.000Z",
         2,
         2502.52,
         2023,
         147,
         "P0008"
        ],
        [
         "O09994",
         "2023-04-10T00:00:00.000Z",
         2,
         3084.92,
         2023,
         888,
         "P0160"
        ],
        [
         "O09995",
         "2023-01-21T00:00:00.000Z",
         5,
         8901.85,
         2023,
         982,
         "P0036"
        ],
        [
         "O09996",
         "2024-07-26T00:00:00.000Z",
         4,
         5385.04,
         2024,
         103,
         "P0054"
        ],
        [
         "O09997",
         "2024-04-04T00:00:00.000Z",
         5,
         1478.5,
         2024,
         1267,
         "P0493"
        ],
        [
         "O09998",
         "2023-01-03T00:00:00.000Z",
         1,
         1110.7,
         2023,
         1709,
         "P0099"
        ],
        [
         "O09999",
         "2024-06-01T00:00:00.000Z",
         1,
         1595.17,
         2024,
         176,
         "P0185"
        ],
        [
         "O10000",
         "2024-09-07T00:00:00.000Z",
         2,
         1160.64,
         2024,
         1799,
         "P0044"
        ]
       ],
       "datasetInfos": [],
       "dbfsResultPath": null,
       "isJsonSchema": true,
       "metadata": {},
       "overflow": false,
       "plotOptions": {
        "customPlotOptions": {},
        "displayType": "table",
        "pivotAggregation": null,
        "pivotColumns": null,
        "xColumns": null,
        "yColumns": null
       },
       "removedWidgets": [],
       "schema": [
        {
         "metadata": "{}",
         "name": "order_id",
         "type": "\"string\""
        },
        {
         "metadata": "{}",
         "name": "order_date",
         "type": "\"timestamp\""
        },
        {
         "metadata": "{}",
         "name": "quantity",
         "type": "\"integer\""
        },
        {
         "metadata": "{}",
         "name": "total_amount",
         "type": "\"double\""
        },
        {
         "metadata": "{}",
         "name": "year",
         "type": "\"integer\""
        },
        {
         "metadata": "{}",
         "name": "dimcustomerkey",
         "type": "\"long\""
        },
        {
         "metadata": "{}",
         "name": "dimproductkey",
         "type": "\"string\""
        }
       ],
       "type": "table"
      }
     },
     "output_type": "display_data"
    },
    {
     "output_type": "execute_result",
     "data": {
      "text/plain": [
       "10000"
      ]
     },
     "execution_count": 100,
     "metadata": {},
     "output_type": "execute_result"
    }
   ],
   "source": [
    "df_fact_new.limit(10).display()\n",
    "df_fact_new.count()"
   ]
  },
  {
   "cell_type": "markdown",
   "metadata": {
    "application/vnd.databricks.v1+cell": {
     "cellMetadata": {
      "byteLimit": 2048000,
      "rowLimit": 10000
     },
     "inputWidgets": {},
     "nuid": "13af1f56-6994-43fc-8d59-6cb51fd10894",
     "showTitle": false,
     "tableResultSettingsMap": {},
     "title": ""
    }
   },
   "source": [
    "**Upsert on Fact Table**"
   ]
  },
  {
   "cell_type": "code",
   "execution_count": 0,
   "metadata": {
    "application/vnd.databricks.v1+cell": {
     "cellMetadata": {
      "byteLimit": 2048000,
      "rowLimit": 10000
     },
     "inputWidgets": {},
     "nuid": "8b504a66-41a2-46ed-83f7-071ec961e0ab",
     "showTitle": false,
     "tableResultSettingsMap": {},
     "title": ""
    }
   },
   "outputs": [],
   "source": [
    "from delta.tables import DeltaTable"
   ]
  },
  {
   "cell_type": "code",
   "execution_count": 0,
   "metadata": {
    "application/vnd.databricks.v1+cell": {
     "cellMetadata": {
      "byteLimit": 2048000,
      "rowLimit": 10000
     },
     "inputWidgets": {},
     "nuid": "43e92ce4-a554-4546-9990-471d8669a161",
     "showTitle": false,
     "tableResultSettingsMap": {},
     "title": ""
    }
   },
   "outputs": [],
   "source": [
    "if spark.catalog.tableExists(\"databricks_cata.gold.FactOrders\"):\n",
    "    dlt_obj=DeltaTable.forName(spark,\"databricks_cata.gold.FactOrders\")\n",
    "\n",
    "    dlt_obj.alias(\"trg\").merge(df_fact_new.alias(\"src\"),\"trg.order_id=src.order_id and trg.Dimcustomerkey=src.Dimcustomerkey and trg.Dimproductkey=src.Dimproductkey\")\\\n",
    "    .whenMatchedUpdateAll()\\\n",
    "    .whenNotMatchedInsertAll()\\\n",
    "    .execute()\n",
    "else:\n",
    "    df_fact_new.write.format(\"delta\")\\\n",
    "        .option(\"path\",\"abfss://gold@databricksaniete.dfs.core.windows.net/FactOrders\")\\\n",
    "        .saveAsTable(\"databricks_cata.gold.FactOrders\")"
   ]
  },
  {
   "cell_type": "code",
   "execution_count": 0,
   "metadata": {
    "application/vnd.databricks.v1+cell": {
     "cellMetadata": {
      "byteLimit": 2048000,
      "implicitDf": true,
      "rowLimit": 10000
     },
     "inputWidgets": {},
     "nuid": "7d724e81-4be7-467f-8bb6-399e1dd36b07",
     "showTitle": false,
     "tableResultSettingsMap": {},
     "title": ""
    }
   },
   "outputs": [
    {
     "output_type": "display_data",
     "data": {
      "text/html": [
       "<style scoped>\n",
       "  .table-result-container {\n",
       "    max-height: 300px;\n",
       "    overflow: auto;\n",
       "  }\n",
       "  table, th, td {\n",
       "    border: 1px solid black;\n",
       "    border-collapse: collapse;\n",
       "  }\n",
       "  th, td {\n",
       "    padding: 5px;\n",
       "  }\n",
       "  th {\n",
       "    text-align: left;\n",
       "  }\n",
       "</style><div class='table-result-container'><table class='table-result'><thead style='background-color: white'><tr><th>order_id</th><th>order_date</th><th>quantity</th><th>total_amount</th><th>year</th><th>dimcustomerkey</th><th>dimproductkey</th></tr></thead><tbody><tr><td>O09991</td><td>2024-07-10T00:00:00.000Z</td><td>1</td><td>452.81</td><td>2024</td><td>393</td><td>P0138</td></tr><tr><td>O09992</td><td>2024-11-14T00:00:00.000Z</td><td>3</td><td>2776.17</td><td>2024</td><td>744</td><td>P0055</td></tr><tr><td>O09993</td><td>2023-01-04T00:00:00.000Z</td><td>2</td><td>2502.52</td><td>2023</td><td>147</td><td>P0008</td></tr><tr><td>O09994</td><td>2023-04-10T00:00:00.000Z</td><td>2</td><td>3084.92</td><td>2023</td><td>888</td><td>P0160</td></tr><tr><td>O09995</td><td>2023-01-21T00:00:00.000Z</td><td>5</td><td>8901.85</td><td>2023</td><td>982</td><td>P0036</td></tr><tr><td>O09996</td><td>2024-07-26T00:00:00.000Z</td><td>4</td><td>5385.04</td><td>2024</td><td>103</td><td>P0054</td></tr><tr><td>O09997</td><td>2024-04-04T00:00:00.000Z</td><td>5</td><td>1478.5</td><td>2024</td><td>1267</td><td>P0493</td></tr><tr><td>O09998</td><td>2023-01-03T00:00:00.000Z</td><td>1</td><td>1110.7</td><td>2023</td><td>1709</td><td>P0099</td></tr><tr><td>O09999</td><td>2024-06-01T00:00:00.000Z</td><td>1</td><td>1595.17</td><td>2024</td><td>176</td><td>P0185</td></tr><tr><td>O10000</td><td>2024-09-07T00:00:00.000Z</td><td>2</td><td>1160.64</td><td>2024</td><td>1799</td><td>P0044</td></tr></tbody></table></div>"
      ]
     },
     "metadata": {
      "application/vnd.databricks.v1+output": {
       "addedWidgets": {},
       "aggData": [],
       "aggError": "",
       "aggOverflow": false,
       "aggSchema": [],
       "aggSeriesLimitReached": false,
       "aggType": "",
       "arguments": {},
       "columnCustomDisplayInfos": {},
       "data": [
        [
         "O09991",
         "2024-07-10T00:00:00.000Z",
         1,
         452.81,
         2024,
         393,
         "P0138"
        ],
        [
         "O09992",
         "2024-11-14T00:00:00.000Z",
         3,
         2776.17,
         2024,
         744,
         "P0055"
        ],
        [
         "O09993",
         "2023-01-04T00:00:00.000Z",
         2,
         2502.52,
         2023,
         147,
         "P0008"
        ],
        [
         "O09994",
         "2023-04-10T00:00:00.000Z",
         2,
         3084.92,
         2023,
         888,
         "P0160"
        ],
        [
         "O09995",
         "2023-01-21T00:00:00.000Z",
         5,
         8901.85,
         2023,
         982,
         "P0036"
        ],
        [
         "O09996",
         "2024-07-26T00:00:00.000Z",
         4,
         5385.04,
         2024,
         103,
         "P0054"
        ],
        [
         "O09997",
         "2024-04-04T00:00:00.000Z",
         5,
         1478.5,
         2024,
         1267,
         "P0493"
        ],
        [
         "O09998",
         "2023-01-03T00:00:00.000Z",
         1,
         1110.7,
         2023,
         1709,
         "P0099"
        ],
        [
         "O09999",
         "2024-06-01T00:00:00.000Z",
         1,
         1595.17,
         2024,
         176,
         "P0185"
        ],
        [
         "O10000",
         "2024-09-07T00:00:00.000Z",
         2,
         1160.64,
         2024,
         1799,
         "P0044"
        ]
       ],
       "datasetInfos": [
        {
         "name": "_sqldf",
         "schema": {
          "fields": [
           {
            "metadata": {},
            "name": "order_id",
            "nullable": true,
            "type": "string"
           },
           {
            "metadata": {},
            "name": "order_date",
            "nullable": true,
            "type": "timestamp"
           },
           {
            "metadata": {},
            "name": "quantity",
            "nullable": true,
            "type": "integer"
           },
           {
            "metadata": {},
            "name": "total_amount",
            "nullable": true,
            "type": "double"
           },
           {
            "metadata": {},
            "name": "year",
            "nullable": true,
            "type": "integer"
           },
           {
            "metadata": {},
            "name": "dimcustomerkey",
            "nullable": true,
            "type": "long"
           },
           {
            "metadata": {},
            "name": "dimproductkey",
            "nullable": true,
            "type": "string"
           }
          ],
          "type": "struct"
         },
         "tableIdentifier": null,
         "typeStr": "pyspark.sql.connect.dataframe.DataFrame"
        }
       ],
       "dbfsResultPath": null,
       "isJsonSchema": true,
       "metadata": {
        "createTempViewForImplicitDf": true,
        "dataframeName": "_sqldf",
        "executionCount": 103
       },
       "overflow": false,
       "plotOptions": {
        "customPlotOptions": {},
        "displayType": "table",
        "pivotAggregation": null,
        "pivotColumns": null,
        "xColumns": null,
        "yColumns": null
       },
       "removedWidgets": [],
       "schema": [
        {
         "metadata": "{}",
         "name": "order_id",
         "type": "\"string\""
        },
        {
         "metadata": "{}",
         "name": "order_date",
         "type": "\"timestamp\""
        },
        {
         "metadata": "{}",
         "name": "quantity",
         "type": "\"integer\""
        },
        {
         "metadata": "{}",
         "name": "total_amount",
         "type": "\"double\""
        },
        {
         "metadata": "{}",
         "name": "year",
         "type": "\"integer\""
        },
        {
         "metadata": "{}",
         "name": "dimcustomerkey",
         "type": "\"long\""
        },
        {
         "metadata": "{}",
         "name": "dimproductkey",
         "type": "\"string\""
        }
       ],
       "type": "table"
      }
     },
     "output_type": "display_data"
    }
   ],
   "source": [
    "%sql\n",
    "select * from databricks_cata.gold.factorders limit 10"
   ]
  },
  {
   "cell_type": "code",
   "execution_count": 0,
   "metadata": {
    "application/vnd.databricks.v1+cell": {
     "cellMetadata": {
      "byteLimit": 2048000,
      "implicitDf": true,
      "rowLimit": 10000
     },
     "inputWidgets": {},
     "nuid": "5eb20de4-3a6e-4639-a6ff-0f82ad401582",
     "showTitle": false,
     "tableResultSettingsMap": {},
     "title": ""
    }
   },
   "outputs": [
    {
     "output_type": "display_data",
     "data": {
      "text/html": [
       "<style scoped>\n",
       "  .table-result-container {\n",
       "    max-height: 300px;\n",
       "    overflow: auto;\n",
       "  }\n",
       "  table, th, td {\n",
       "    border: 1px solid black;\n",
       "    border-collapse: collapse;\n",
       "  }\n",
       "  th, td {\n",
       "    padding: 5px;\n",
       "  }\n",
       "  th {\n",
       "    text-align: left;\n",
       "  }\n",
       "</style><div class='table-result-container'><table class='table-result'><thead style='background-color: white'><tr><th>count(*)</th></tr></thead><tbody><tr><td>10000</td></tr></tbody></table></div>"
      ]
     },
     "metadata": {
      "application/vnd.databricks.v1+output": {
       "addedWidgets": {},
       "aggData": [],
       "aggError": "",
       "aggOverflow": false,
       "aggSchema": [],
       "aggSeriesLimitReached": false,
       "aggType": "",
       "arguments": {},
       "columnCustomDisplayInfos": {},
       "data": [
        [
         10000
        ]
       ],
       "datasetInfos": [
        {
         "name": "_sqldf",
         "schema": {
          "fields": [
           {
            "metadata": {},
            "name": "count(*)",
            "nullable": false,
            "type": "long"
           }
          ],
          "type": "struct"
         },
         "tableIdentifier": null,
         "typeStr": "pyspark.sql.connect.dataframe.DataFrame"
        }
       ],
       "dbfsResultPath": null,
       "isJsonSchema": true,
       "metadata": {
        "createTempViewForImplicitDf": true,
        "dataframeName": "_sqldf",
        "executionCount": 104
       },
       "overflow": false,
       "plotOptions": {
        "customPlotOptions": {},
        "displayType": "table",
        "pivotAggregation": null,
        "pivotColumns": null,
        "xColumns": null,
        "yColumns": null
       },
       "removedWidgets": [],
       "schema": [
        {
         "metadata": "{}",
         "name": "count(*)",
         "type": "\"long\""
        }
       ],
       "type": "table"
      }
     },
     "output_type": "display_data"
    }
   ],
   "source": [
    "%sql\n",
    "SELECT count(*) FROM databricks_cata.gold.factorders"
   ]
  }
 ],
 "metadata": {
  "application/vnd.databricks.v1+notebook": {
   "computePreferences": {
    "hardware": {
     "accelerator": null,
     "gpuPoolId": null,
     "memory": null
    }
   },
   "dashboards": [],
   "environmentMetadata": {
    "base_environment": "",
    "environment_version": "3"
   },
   "inputWidgetPreferences": null,
   "language": "python",
   "notebookMetadata": {
    "mostRecentlyExecutedCommandWithImplicitDF": {
     "commandId": 7136924453574661,
     "dataframes": [
      "_sqldf"
     ]
    },
    "pythonIndentUnit": 4
   },
   "notebookName": "Gold_Orders",
   "widgets": {}
  },
  "language_info": {
   "name": "python"
  }
 },
 "nbformat": 4,
 "nbformat_minor": 0
}