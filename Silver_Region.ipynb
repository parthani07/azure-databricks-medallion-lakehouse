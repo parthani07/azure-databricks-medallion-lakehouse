{
 "cells": [
  {
   "cell_type": "markdown",
   "metadata": {
    "application/vnd.databricks.v1+cell": {
     "cellMetadata": {
      "byteLimit": 2048000,
      "rowLimit": 10000
     },
     "inputWidgets": {},
     "nuid": "04d21559-6d50-43c0-9adb-14947cb02473",
     "showTitle": false,
     "tableResultSettingsMap": {},
     "title": ""
    }
   },
   "source": [
    "### **Read Data**"
   ]
  },
  {
   "cell_type": "code",
   "execution_count": 0,
   "metadata": {
    "application/vnd.databricks.v1+cell": {
     "cellMetadata": {
      "byteLimit": 2048000,
      "rowLimit": 10000
     },
     "inputWidgets": {},
     "nuid": "c1958ccb-63a2-4c58-81be-9a4f7767466a",
     "showTitle": false,
     "tableResultSettingsMap": {},
     "title": ""
    }
   },
   "outputs": [
    {
     "output_type": "display_data",
     "data": {
      "text/html": [
       "<style scoped>\n",
       "  .table-result-container {\n",
       "    max-height: 300px;\n",
       "    overflow: auto;\n",
       "  }\n",
       "  table, th, td {\n",
       "    border: 1px solid black;\n",
       "    border-collapse: collapse;\n",
       "  }\n",
       "  th, td {\n",
       "    padding: 5px;\n",
       "  }\n",
       "  th {\n",
       "    text-align: left;\n",
       "  }\n",
       "</style><div class='table-result-container'><table class='table-result'><thead style='background-color: white'><tr><th>region_id</th><th>region</th><th>_rescued_data</th></tr></thead><tbody><tr><td>R01</td><td>East</td><td>null</td></tr><tr><td>R02</td><td>West</td><td>null</td></tr><tr><td>R03</td><td>North</td><td>null</td></tr><tr><td>R04</td><td>South</td><td>null</td></tr></tbody></table></div>"
      ]
     },
     "metadata": {
      "application/vnd.databricks.v1+output": {
       "addedWidgets": {},
       "aggData": [],
       "aggError": "",
       "aggOverflow": false,
       "aggSchema": [],
       "aggSeriesLimitReached": false,
       "aggType": "",
       "arguments": {},
       "columnCustomDisplayInfos": {},
       "data": [
        [
         "R01",
         "East",
         null
        ],
        [
         "R02",
         "West",
         null
        ],
        [
         "R03",
         "North",
         null
        ],
        [
         "R04",
         "South",
         null
        ]
       ],
       "datasetInfos": [],
       "dbfsResultPath": null,
       "isJsonSchema": true,
       "metadata": {},
       "overflow": false,
       "plotOptions": {
        "customPlotOptions": {},
        "displayType": "table",
        "pivotAggregation": null,
        "pivotColumns": null,
        "xColumns": null,
        "yColumns": null
       },
       "removedWidgets": [],
       "schema": [
        {
         "metadata": "{}",
         "name": "region_id",
         "type": "\"string\""
        },
        {
         "metadata": "{}",
         "name": "region",
         "type": "\"string\""
        },
        {
         "metadata": "{}",
         "name": "_rescued_data",
         "type": "\"string\""
        }
       ],
       "type": "table"
      }
     },
     "output_type": "display_data"
    }
   ],
   "source": [
    "df=spark.read.table(\"databricks_cata.bronze.region\")\n",
    "df.display()"
   ]
  },
  {
   "cell_type": "code",
   "execution_count": 0,
   "metadata": {
    "application/vnd.databricks.v1+cell": {
     "cellMetadata": {
      "byteLimit": 2048000,
      "rowLimit": 10000
     },
     "inputWidgets": {},
     "nuid": "de829e7f-b5db-494b-9d9c-18634bbbd0c5",
     "showTitle": false,
     "tableResultSettingsMap": {},
     "title": ""
    }
   },
   "outputs": [
    {
     "output_type": "display_data",
     "data": {
      "text/html": [
       "<style scoped>\n",
       "  .table-result-container {\n",
       "    max-height: 300px;\n",
       "    overflow: auto;\n",
       "  }\n",
       "  table, th, td {\n",
       "    border: 1px solid black;\n",
       "    border-collapse: collapse;\n",
       "  }\n",
       "  th, td {\n",
       "    padding: 5px;\n",
       "  }\n",
       "  th {\n",
       "    text-align: left;\n",
       "  }\n",
       "</style><div class='table-result-container'><table class='table-result'><thead style='background-color: white'><tr><th>region_id</th><th>region</th></tr></thead><tbody><tr><td>R01</td><td>East</td></tr><tr><td>R02</td><td>West</td></tr><tr><td>R03</td><td>North</td></tr><tr><td>R04</td><td>South</td></tr></tbody></table></div>"
      ]
     },
     "metadata": {
      "application/vnd.databricks.v1+output": {
       "addedWidgets": {},
       "aggData": [],
       "aggError": "",
       "aggOverflow": false,
       "aggSchema": [],
       "aggSeriesLimitReached": false,
       "aggType": "",
       "arguments": {},
       "columnCustomDisplayInfos": {},
       "data": [
        [
         "R01",
         "East"
        ],
        [
         "R02",
         "West"
        ],
        [
         "R03",
         "North"
        ],
        [
         "R04",
         "South"
        ]
       ],
       "datasetInfos": [],
       "dbfsResultPath": null,
       "isJsonSchema": true,
       "metadata": {},
       "overflow": false,
       "plotOptions": {
        "customPlotOptions": {},
        "displayType": "table",
        "pivotAggregation": null,
        "pivotColumns": null,
        "xColumns": null,
        "yColumns": null
       },
       "removedWidgets": [],
       "schema": [
        {
         "metadata": "{}",
         "name": "region_id",
         "type": "\"string\""
        },
        {
         "metadata": "{}",
         "name": "region",
         "type": "\"string\""
        }
       ],
       "type": "table"
      }
     },
     "output_type": "display_data"
    }
   ],
   "source": [
    "df=df.drop(\"_rescued_data\")\n",
    "df.display()"
   ]
  },
  {
   "cell_type": "markdown",
   "metadata": {
    "application/vnd.databricks.v1+cell": {
     "cellMetadata": {
      "byteLimit": 2048000,
      "rowLimit": 10000
     },
     "inputWidgets": {},
     "nuid": "9d803bfd-d17a-4dbc-8630-f8c967750fc7",
     "showTitle": false,
     "tableResultSettingsMap": {},
     "title": ""
    }
   },
   "source": [
    "### **Write Data**"
   ]
  },
  {
   "cell_type": "code",
   "execution_count": 0,
   "metadata": {
    "application/vnd.databricks.v1+cell": {
     "cellMetadata": {
      "byteLimit": 2048000,
      "rowLimit": 10000
     },
     "inputWidgets": {},
     "nuid": "1fe9b346-50b4-4550-879a-18a6badcf683",
     "showTitle": false,
     "tableResultSettingsMap": {},
     "title": ""
    }
   },
   "outputs": [],
   "source": [
    "df.write.mode(\"overwrite\").format(\"delta\").save(\"abfss://silver@databricksaniete.dfs.core.windows.net/region\")"
   ]
  },
  {
   "cell_type": "markdown",
   "metadata": {
    "application/vnd.databricks.v1+cell": {
     "cellMetadata": {
      "byteLimit": 2048000,
      "rowLimit": 10000
     },
     "inputWidgets": {},
     "nuid": "8190e639-8be6-484e-b4bc-b8e7d85b3e0e",
     "showTitle": false,
     "tableResultSettingsMap": {},
     "title": ""
    }
   },
   "source": [
    "**Re-confirming if data is loaded correctly in silver layer**"
   ]
  },
  {
   "cell_type": "code",
   "execution_count": 0,
   "metadata": {
    "application/vnd.databricks.v1+cell": {
     "cellMetadata": {
      "byteLimit": 2048000,
      "rowLimit": 10000
     },
     "inputWidgets": {},
     "nuid": "7ae6aaf5-ccb7-4742-b2c3-215a26c82e9a",
     "showTitle": false,
     "tableResultSettingsMap": {
      "0": {
       "dataGridStateBlob": "{\"version\":1,\"tableState\":{\"columnPinning\":{\"left\":[\"#row_number#\"],\"right\":[]},\"columnSizing\":{},\"columnVisibility\":{}},\"settings\":{\"columns\":{}},\"syncTimestamp\":1757280239077}",
       "filterBlob": null,
       "queryPlanFiltersBlob": null,
       "tableResultIndex": 0
      }
     },
     "title": ""
    }
   },
   "outputs": [
    {
     "output_type": "display_data",
     "data": {
      "text/html": [
       "<style scoped>\n",
       "  .table-result-container {\n",
       "    max-height: 300px;\n",
       "    overflow: auto;\n",
       "  }\n",
       "  table, th, td {\n",
       "    border: 1px solid black;\n",
       "    border-collapse: collapse;\n",
       "  }\n",
       "  th, td {\n",
       "    padding: 5px;\n",
       "  }\n",
       "  th {\n",
       "    text-align: left;\n",
       "  }\n",
       "</style><div class='table-result-container'><table class='table-result'><thead style='background-color: white'><tr><th>order_id</th><th>customer_id</th><th>product_id</th><th>order_date</th><th>quantity</th><th>total_amount</th><th>year</th></tr></thead><tbody><tr><td>O00001</td><td>C00710</td><td>P0159</td><td>2023-03-22T00:00:00.000Z</td><td>3</td><td>2022.87</td><td>2023</td></tr><tr><td>O00002</td><td>C00954</td><td>P0036</td><td>2023-06-30T00:00:00.000Z</td><td>2</td><td>3560.74</td><td>2023</td></tr><tr><td>O00003</td><td>C01578</td><td>P0427</td><td>2023-11-06T00:00:00.000Z</td><td>3</td><td>5903.52</td><td>2023</td></tr><tr><td>O00004</td><td>C00962</td><td>P0332</td><td>2024-02-27T00:00:00.000Z</td><td>3</td><td>4107.99</td><td>2024</td></tr><tr><td>O00005</td><td>C00156</td><td>P0038</td><td>2024-10-13T00:00:00.000Z</td><td>5</td><td>5784.95</td><td>2024</td></tr><tr><td>O00006</td><td>C00521</td><td>P0174</td><td>2023-05-17T00:00:00.000Z</td><td>5</td><td>407.75</td><td>2023</td></tr><tr><td>O00007</td><td>C00982</td><td>P0352</td><td>2024-01-18T00:00:00.000Z</td><td>4</td><td>4907.64</td><td>2024</td></tr><tr><td>O00008</td><td>C00976</td><td>P0172</td><td>2023-01-10T00:00:00.000Z</td><td>4</td><td>7037.88</td><td>2023</td></tr><tr><td>O00009</td><td>C01001</td><td>P0238</td><td>2023-04-20T00:00:00.000Z</td><td>3</td><td>4076.97</td><td>2023</td></tr><tr><td>O00010</td><td>C00702</td><td>P0258</td><td>2023-07-07T00:00:00.000Z</td><td>4</td><td>5695.64</td><td>2023</td></tr></tbody></table></div>"
      ]
     },
     "metadata": {
      "application/vnd.databricks.v1+output": {
       "addedWidgets": {},
       "aggData": [],
       "aggError": "",
       "aggOverflow": false,
       "aggSchema": [],
       "aggSeriesLimitReached": false,
       "aggType": "",
       "arguments": {},
       "columnCustomDisplayInfos": {},
       "data": [
        [
         "O00001",
         "C00710",
         "P0159",
         "2023-03-22T00:00:00.000Z",
         3,
         2022.87,
         2023
        ],
        [
         "O00002",
         "C00954",
         "P0036",
         "2023-06-30T00:00:00.000Z",
         2,
         3560.74,
         2023
        ],
        [
         "O00003",
         "C01578",
         "P0427",
         "2023-11-06T00:00:00.000Z",
         3,
         5903.52,
         2023
        ],
        [
         "O00004",
         "C00962",
         "P0332",
         "2024-02-27T00:00:00.000Z",
         3,
         4107.99,
         2024
        ],
        [
         "O00005",
         "C00156",
         "P0038",
         "2024-10-13T00:00:00.000Z",
         5,
         5784.95,
         2024
        ],
        [
         "O00006",
         "C00521",
         "P0174",
         "2023-05-17T00:00:00.000Z",
         5,
         407.75,
         2023
        ],
        [
         "O00007",
         "C00982",
         "P0352",
         "2024-01-18T00:00:00.000Z",
         4,
         4907.64,
         2024
        ],
        [
         "O00008",
         "C00976",
         "P0172",
         "2023-01-10T00:00:00.000Z",
         4,
         7037.88,
         2023
        ],
        [
         "O00009",
         "C01001",
         "P0238",
         "2023-04-20T00:00:00.000Z",
         3,
         4076.97,
         2023
        ],
        [
         "O00010",
         "C00702",
         "P0258",
         "2023-07-07T00:00:00.000Z",
         4,
         5695.64,
         2023
        ]
       ],
       "datasetInfos": [],
       "dbfsResultPath": null,
       "isJsonSchema": true,
       "metadata": {},
       "overflow": false,
       "plotOptions": {
        "customPlotOptions": {},
        "displayType": "table",
        "pivotAggregation": null,
        "pivotColumns": null,
        "xColumns": null,
        "yColumns": null
       },
       "removedWidgets": [],
       "schema": [
        {
         "metadata": "{}",
         "name": "order_id",
         "type": "\"string\""
        },
        {
         "metadata": "{}",
         "name": "customer_id",
         "type": "\"string\""
        },
        {
         "metadata": "{}",
         "name": "product_id",
         "type": "\"string\""
        },
        {
         "metadata": "{}",
         "name": "order_date",
         "type": "\"timestamp\""
        },
        {
         "metadata": "{}",
         "name": "quantity",
         "type": "\"integer\""
        },
        {
         "metadata": "{}",
         "name": "total_amount",
         "type": "\"double\""
        },
        {
         "metadata": "{}",
         "name": "year",
         "type": "\"integer\""
        }
       ],
       "type": "table"
      }
     },
     "output_type": "display_data"
    }
   ],
   "source": [
    "df=spark.read.format(\"delta\").load(\"abfss://silver@databricksaniete.dfs.core.windows.net/orders\")\n",
    "df.limit(10).display()"
   ]
  },
  {
   "cell_type": "code",
   "execution_count": 0,
   "metadata": {
    "application/vnd.databricks.v1+cell": {
     "cellMetadata": {
      "byteLimit": 2048000,
      "implicitDf": true,
      "rowLimit": 10000
     },
     "inputWidgets": {},
     "nuid": "70edfac9-71b1-4811-8168-45a1f70962e3",
     "showTitle": false,
     "tableResultSettingsMap": {},
     "title": ""
    }
   },
   "outputs": [],
   "source": [
    "%sql\n",
    "CREATE TABLE if not EXISTS databricks_cata.silver.region_silver\n",
    "USING DELTA\n",
    "LOCATION 'abfss://silver@databricksaniete.dfs.core.windows.net/region'"
   ]
  }
 ],
 "metadata": {
  "application/vnd.databricks.v1+notebook": {
   "computePreferences": null,
   "dashboards": [],
   "environmentMetadata": {
    "base_environment": "",
    "environment_version": "3"
   },
   "inputWidgetPreferences": null,
   "language": "python",
   "notebookMetadata": {
    "mostRecentlyExecutedCommandWithImplicitDF": {
     "commandId": 5713322104548714,
     "dataframes": [
      "_sqldf"
     ]
    },
    "pythonIndentUnit": 4
   },
   "notebookName": "Silver_Region",
   "widgets": {}
  },
  "language_info": {
   "name": "python"
  }
 },
 "nbformat": 4,
 "nbformat_minor": 0
}