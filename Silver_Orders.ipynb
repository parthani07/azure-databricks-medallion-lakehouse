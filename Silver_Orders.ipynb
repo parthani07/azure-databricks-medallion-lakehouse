{
 "cells": [
  {
   "cell_type": "code",
   "execution_count": 0,
   "metadata": {
    "application/vnd.databricks.v1+cell": {
     "cellMetadata": {
      "byteLimit": 2048000,
      "rowLimit": 10000
     },
     "inputWidgets": {},
     "nuid": "abad4bbc-01c0-408f-a942-021b081497a4",
     "showTitle": false,
     "tableResultSettingsMap": {},
     "title": ""
    }
   },
   "outputs": [],
   "source": [
    "from pyspark.sql.functions import *\n",
    "from pyspark.sql.types import *\n",
    "from pyspark.sql.window import Window"
   ]
  },
  {
   "cell_type": "markdown",
   "metadata": {
    "application/vnd.databricks.v1+cell": {
     "cellMetadata": {
      "byteLimit": 2048000,
      "rowLimit": 10000
     },
     "inputWidgets": {},
     "nuid": "e99b6896-732d-4c95-adf4-4f113c6db9c0",
     "showTitle": false,
     "tableResultSettingsMap": {},
     "title": ""
    }
   },
   "source": [
    "### Data Reading"
   ]
  },
  {
   "cell_type": "code",
   "execution_count": 0,
   "metadata": {
    "application/vnd.databricks.v1+cell": {
     "cellMetadata": {
      "byteLimit": 2048000,
      "rowLimit": 10000
     },
     "inputWidgets": {},
     "nuid": "50615ce4-a262-406b-9ecc-d99ef85b2ba8",
     "showTitle": false,
     "tableResultSettingsMap": {},
     "title": ""
    }
   },
   "outputs": [
    {
     "output_type": "display_data",
     "data": {
      "text/html": [
       "<style scoped>\n",
       "  .table-result-container {\n",
       "    max-height: 300px;\n",
       "    overflow: auto;\n",
       "  }\n",
       "  table, th, td {\n",
       "    border: 1px solid black;\n",
       "    border-collapse: collapse;\n",
       "  }\n",
       "  th, td {\n",
       "    padding: 5px;\n",
       "  }\n",
       "  th {\n",
       "    text-align: left;\n",
       "  }\n",
       "</style><div class='table-result-container'><table class='table-result'><thead style='background-color: white'><tr><th>order_id</th><th>customer_id</th><th>product_id</th><th>order_date</th><th>quantity</th><th>total_amount</th><th>_rescued_data</th></tr></thead><tbody><tr><td>O00001</td><td>C00710</td><td>P0159</td><td>2023-03-22</td><td>3</td><td>2022.87</td><td>null</td></tr><tr><td>O00002</td><td>C00954</td><td>P0036</td><td>2023-06-30</td><td>2</td><td>3560.74</td><td>null</td></tr><tr><td>O00003</td><td>C01578</td><td>P0427</td><td>2023-11-06</td><td>3</td><td>5903.52</td><td>null</td></tr><tr><td>O00004</td><td>C00962</td><td>P0332</td><td>2024-02-27</td><td>3</td><td>4107.99</td><td>null</td></tr><tr><td>O00005</td><td>C00156</td><td>P0038</td><td>2024-10-13</td><td>5</td><td>5784.95</td><td>null</td></tr><tr><td>O00006</td><td>C00521</td><td>P0174</td><td>2023-05-17</td><td>5</td><td>407.75</td><td>null</td></tr><tr><td>O00007</td><td>C00982</td><td>P0352</td><td>2024-01-18</td><td>4</td><td>4907.64</td><td>null</td></tr><tr><td>O00008</td><td>C00976</td><td>P0172</td><td>2023-01-10</td><td>4</td><td>7037.88</td><td>null</td></tr><tr><td>O00009</td><td>C01001</td><td>P0238</td><td>2023-04-20</td><td>3</td><td>4076.97</td><td>null</td></tr><tr><td>O00010</td><td>C00702</td><td>P0258</td><td>2023-07-07</td><td>4</td><td>5695.64</td><td>null</td></tr></tbody></table></div>"
      ]
     },
     "metadata": {
      "application/vnd.databricks.v1+output": {
       "addedWidgets": {},
       "aggData": [],
       "aggError": "",
       "aggOverflow": false,
       "aggSchema": [],
       "aggSeriesLimitReached": false,
       "aggType": "",
       "arguments": {},
       "columnCustomDisplayInfos": {},
       "data": [
        [
         "O00001",
         "C00710",
         "P0159",
         "2023-03-22",
         3,
         2022.87,
         null
        ],
        [
         "O00002",
         "C00954",
         "P0036",
         "2023-06-30",
         2,
         3560.74,
         null
        ],
        [
         "O00003",
         "C01578",
         "P0427",
         "2023-11-06",
         3,
         5903.52,
         null
        ],
        [
         "O00004",
         "C00962",
         "P0332",
         "2024-02-27",
         3,
         4107.99,
         null
        ],
        [
         "O00005",
         "C00156",
         "P0038",
         "2024-10-13",
         5,
         5784.95,
         null
        ],
        [
         "O00006",
         "C00521",
         "P0174",
         "2023-05-17",
         5,
         407.75,
         null
        ],
        [
         "O00007",
         "C00982",
         "P0352",
         "2024-01-18",
         4,
         4907.64,
         null
        ],
        [
         "O00008",
         "C00976",
         "P0172",
         "2023-01-10",
         4,
         7037.88,
         null
        ],
        [
         "O00009",
         "C01001",
         "P0238",
         "2023-04-20",
         3,
         4076.97,
         null
        ],
        [
         "O00010",
         "C00702",
         "P0258",
         "2023-07-07",
         4,
         5695.64,
         null
        ]
       ],
       "datasetInfos": [],
       "dbfsResultPath": null,
       "isJsonSchema": true,
       "metadata": {},
       "overflow": false,
       "plotOptions": {
        "customPlotOptions": {},
        "displayType": "table",
        "pivotAggregation": null,
        "pivotColumns": null,
        "xColumns": null,
        "yColumns": null
       },
       "removedWidgets": [],
       "schema": [
        {
         "metadata": "{}",
         "name": "order_id",
         "type": "\"string\""
        },
        {
         "metadata": "{}",
         "name": "customer_id",
         "type": "\"string\""
        },
        {
         "metadata": "{}",
         "name": "product_id",
         "type": "\"string\""
        },
        {
         "metadata": "{\"__detected_date_formats\": \"yyyy-M-d\"}",
         "name": "order_date",
         "type": "\"date\""
        },
        {
         "metadata": "{}",
         "name": "quantity",
         "type": "\"integer\""
        },
        {
         "metadata": "{}",
         "name": "total_amount",
         "type": "\"double\""
        },
        {
         "metadata": "{}",
         "name": "_rescued_data",
         "type": "\"string\""
        }
       ],
       "type": "table"
      }
     },
     "output_type": "display_data"
    },
    {
     "output_type": "execute_result",
     "data": {
      "text/plain": [
       "10000"
      ]
     },
     "execution_count": 3,
     "metadata": {},
     "output_type": "execute_result"
    }
   ],
   "source": [
    "df=spark.read.format(\"parquet\").load(\"abfss://bronze@databricksaniete.dfs.core.windows.net/orders\")\n",
    "df.limit(10).display()\n",
    "df.count()"
   ]
  },
  {
   "cell_type": "code",
   "execution_count": 0,
   "metadata": {
    "application/vnd.databricks.v1+cell": {
     "cellMetadata": {
      "byteLimit": 2048000,
      "rowLimit": 10000
     },
     "inputWidgets": {},
     "nuid": "73ae4aba-dd0b-4001-bf31-2b689e9e7dd0",
     "showTitle": false,
     "tableResultSettingsMap": {},
     "title": ""
    }
   },
   "outputs": [
    {
     "output_type": "stream",
     "name": "stdout",
     "output_type": "stream",
     "text": [
      "root\n |-- order_id: string (nullable = true)\n |-- customer_id: string (nullable = true)\n |-- product_id: string (nullable = true)\n |-- order_date: date (nullable = true)\n |-- quantity: integer (nullable = true)\n |-- total_amount: double (nullable = true)\n |-- _rescued_data: string (nullable = true)\n\n"
     ]
    },
    {
     "output_type": "execute_result",
     "data": {
      "text/plain": [
       "10000"
      ]
     },
     "execution_count": 4,
     "metadata": {},
     "output_type": "execute_result"
    }
   ],
   "source": [
    "df.printSchema()\n",
    "df.count()"
   ]
  },
  {
   "cell_type": "code",
   "execution_count": 0,
   "metadata": {
    "application/vnd.databricks.v1+cell": {
     "cellMetadata": {
      "byteLimit": 2048000,
      "rowLimit": 10000
     },
     "inputWidgets": {},
     "nuid": "83f8a475-f3c8-4c84-a393-5205466e13da",
     "showTitle": false,
     "tableResultSettingsMap": {},
     "title": ""
    }
   },
   "outputs": [],
   "source": [
    "df=df.withColumnRenamed(\"_rescued_data\",\"rescued_data\")"
   ]
  },
  {
   "cell_type": "code",
   "execution_count": 0,
   "metadata": {
    "application/vnd.databricks.v1+cell": {
     "cellMetadata": {
      "byteLimit": 2048000,
      "rowLimit": 10000
     },
     "inputWidgets": {},
     "nuid": "3275594e-6bc8-4e6e-a6c4-158f4d566e72",
     "showTitle": false,
     "tableResultSettingsMap": {},
     "title": ""
    }
   },
   "outputs": [
    {
     "output_type": "display_data",
     "data": {
      "text/html": [
       "<style scoped>\n",
       "  .table-result-container {\n",
       "    max-height: 300px;\n",
       "    overflow: auto;\n",
       "  }\n",
       "  table, th, td {\n",
       "    border: 1px solid black;\n",
       "    border-collapse: collapse;\n",
       "  }\n",
       "  th, td {\n",
       "    padding: 5px;\n",
       "  }\n",
       "  th {\n",
       "    text-align: left;\n",
       "  }\n",
       "</style><div class='table-result-container'><table class='table-result'><thead style='background-color: white'><tr><th>order_id</th><th>customer_id</th><th>product_id</th><th>order_date</th><th>quantity</th><th>total_amount</th></tr></thead><tbody><tr><td>O00001</td><td>C00710</td><td>P0159</td><td>2023-03-22</td><td>3</td><td>2022.87</td></tr><tr><td>O00002</td><td>C00954</td><td>P0036</td><td>2023-06-30</td><td>2</td><td>3560.74</td></tr><tr><td>O00003</td><td>C01578</td><td>P0427</td><td>2023-11-06</td><td>3</td><td>5903.52</td></tr><tr><td>O00004</td><td>C00962</td><td>P0332</td><td>2024-02-27</td><td>3</td><td>4107.99</td></tr><tr><td>O00005</td><td>C00156</td><td>P0038</td><td>2024-10-13</td><td>5</td><td>5784.95</td></tr><tr><td>O00006</td><td>C00521</td><td>P0174</td><td>2023-05-17</td><td>5</td><td>407.75</td></tr><tr><td>O00007</td><td>C00982</td><td>P0352</td><td>2024-01-18</td><td>4</td><td>4907.64</td></tr><tr><td>O00008</td><td>C00976</td><td>P0172</td><td>2023-01-10</td><td>4</td><td>7037.88</td></tr><tr><td>O00009</td><td>C01001</td><td>P0238</td><td>2023-04-20</td><td>3</td><td>4076.97</td></tr><tr><td>O00010</td><td>C00702</td><td>P0258</td><td>2023-07-07</td><td>4</td><td>5695.64</td></tr></tbody></table></div>"
      ]
     },
     "metadata": {
      "application/vnd.databricks.v1+output": {
       "addedWidgets": {},
       "aggData": [],
       "aggError": "",
       "aggOverflow": false,
       "aggSchema": [],
       "aggSeriesLimitReached": false,
       "aggType": "",
       "arguments": {},
       "columnCustomDisplayInfos": {},
       "data": [
        [
         "O00001",
         "C00710",
         "P0159",
         "2023-03-22",
         3,
         2022.87
        ],
        [
         "O00002",
         "C00954",
         "P0036",
         "2023-06-30",
         2,
         3560.74
        ],
        [
         "O00003",
         "C01578",
         "P0427",
         "2023-11-06",
         3,
         5903.52
        ],
        [
         "O00004",
         "C00962",
         "P0332",
         "2024-02-27",
         3,
         4107.99
        ],
        [
         "O00005",
         "C00156",
         "P0038",
         "2024-10-13",
         5,
         5784.95
        ],
        [
         "O00006",
         "C00521",
         "P0174",
         "2023-05-17",
         5,
         407.75
        ],
        [
         "O00007",
         "C00982",
         "P0352",
         "2024-01-18",
         4,
         4907.64
        ],
        [
         "O00008",
         "C00976",
         "P0172",
         "2023-01-10",
         4,
         7037.88
        ],
        [
         "O00009",
         "C01001",
         "P0238",
         "2023-04-20",
         3,
         4076.97
        ],
        [
         "O00010",
         "C00702",
         "P0258",
         "2023-07-07",
         4,
         5695.64
        ]
       ],
       "datasetInfos": [],
       "dbfsResultPath": null,
       "isJsonSchema": true,
       "metadata": {},
       "overflow": false,
       "plotOptions": {
        "customPlotOptions": {},
        "displayType": "table",
        "pivotAggregation": null,
        "pivotColumns": null,
        "xColumns": null,
        "yColumns": null
       },
       "removedWidgets": [],
       "schema": [
        {
         "metadata": "{}",
         "name": "order_id",
         "type": "\"string\""
        },
        {
         "metadata": "{}",
         "name": "customer_id",
         "type": "\"string\""
        },
        {
         "metadata": "{}",
         "name": "product_id",
         "type": "\"string\""
        },
        {
         "metadata": "{\"__detected_date_formats\": \"yyyy-M-d\"}",
         "name": "order_date",
         "type": "\"date\""
        },
        {
         "metadata": "{}",
         "name": "quantity",
         "type": "\"integer\""
        },
        {
         "metadata": "{}",
         "name": "total_amount",
         "type": "\"double\""
        }
       ],
       "type": "table"
      }
     },
     "output_type": "display_data"
    },
    {
     "output_type": "execute_result",
     "data": {
      "text/plain": [
       "10000"
      ]
     },
     "execution_count": 6,
     "metadata": {},
     "output_type": "execute_result"
    }
   ],
   "source": [
    "df=df.drop(\"rescued_data\")\n",
    "df.limit(10).display()\n",
    "df.count()"
   ]
  },
  {
   "cell_type": "code",
   "execution_count": 0,
   "metadata": {
    "application/vnd.databricks.v1+cell": {
     "cellMetadata": {
      "byteLimit": 2048000,
      "rowLimit": 10000
     },
     "inputWidgets": {},
     "nuid": "848671ab-7185-4839-9211-531780a21b47",
     "showTitle": false,
     "tableResultSettingsMap": {},
     "title": ""
    }
   },
   "outputs": [
    {
     "output_type": "display_data",
     "data": {
      "text/html": [
       "<style scoped>\n",
       "  .table-result-container {\n",
       "    max-height: 300px;\n",
       "    overflow: auto;\n",
       "  }\n",
       "  table, th, td {\n",
       "    border: 1px solid black;\n",
       "    border-collapse: collapse;\n",
       "  }\n",
       "  th, td {\n",
       "    padding: 5px;\n",
       "  }\n",
       "  th {\n",
       "    text-align: left;\n",
       "  }\n",
       "</style><div class='table-result-container'><table class='table-result'><thead style='background-color: white'><tr><th>order_id</th><th>customer_id</th><th>product_id</th><th>order_date</th><th>quantity</th><th>total_amount</th></tr></thead><tbody><tr><td>O00001</td><td>C00710</td><td>P0159</td><td>2023-03-22T00:00:00.000Z</td><td>3</td><td>2022.87</td></tr><tr><td>O00002</td><td>C00954</td><td>P0036</td><td>2023-06-30T00:00:00.000Z</td><td>2</td><td>3560.74</td></tr><tr><td>O00003</td><td>C01578</td><td>P0427</td><td>2023-11-06T00:00:00.000Z</td><td>3</td><td>5903.52</td></tr><tr><td>O00004</td><td>C00962</td><td>P0332</td><td>2024-02-27T00:00:00.000Z</td><td>3</td><td>4107.99</td></tr><tr><td>O00005</td><td>C00156</td><td>P0038</td><td>2024-10-13T00:00:00.000Z</td><td>5</td><td>5784.95</td></tr><tr><td>O00006</td><td>C00521</td><td>P0174</td><td>2023-05-17T00:00:00.000Z</td><td>5</td><td>407.75</td></tr><tr><td>O00007</td><td>C00982</td><td>P0352</td><td>2024-01-18T00:00:00.000Z</td><td>4</td><td>4907.64</td></tr><tr><td>O00008</td><td>C00976</td><td>P0172</td><td>2023-01-10T00:00:00.000Z</td><td>4</td><td>7037.88</td></tr><tr><td>O00009</td><td>C01001</td><td>P0238</td><td>2023-04-20T00:00:00.000Z</td><td>3</td><td>4076.97</td></tr><tr><td>O00010</td><td>C00702</td><td>P0258</td><td>2023-07-07T00:00:00.000Z</td><td>4</td><td>5695.64</td></tr></tbody></table></div>"
      ]
     },
     "metadata": {
      "application/vnd.databricks.v1+output": {
       "addedWidgets": {},
       "aggData": [],
       "aggError": "",
       "aggOverflow": false,
       "aggSchema": [],
       "aggSeriesLimitReached": false,
       "aggType": "",
       "arguments": {},
       "columnCustomDisplayInfos": {},
       "data": [
        [
         "O00001",
         "C00710",
         "P0159",
         "2023-03-22T00:00:00.000Z",
         3,
         2022.87
        ],
        [
         "O00002",
         "C00954",
         "P0036",
         "2023-06-30T00:00:00.000Z",
         2,
         3560.74
        ],
        [
         "O00003",
         "C01578",
         "P0427",
         "2023-11-06T00:00:00.000Z",
         3,
         5903.52
        ],
        [
         "O00004",
         "C00962",
         "P0332",
         "2024-02-27T00:00:00.000Z",
         3,
         4107.99
        ],
        [
         "O00005",
         "C00156",
         "P0038",
         "2024-10-13T00:00:00.000Z",
         5,
         5784.95
        ],
        [
         "O00006",
         "C00521",
         "P0174",
         "2023-05-17T00:00:00.000Z",
         5,
         407.75
        ],
        [
         "O00007",
         "C00982",
         "P0352",
         "2024-01-18T00:00:00.000Z",
         4,
         4907.64
        ],
        [
         "O00008",
         "C00976",
         "P0172",
         "2023-01-10T00:00:00.000Z",
         4,
         7037.88
        ],
        [
         "O00009",
         "C01001",
         "P0238",
         "2023-04-20T00:00:00.000Z",
         3,
         4076.97
        ],
        [
         "O00010",
         "C00702",
         "P0258",
         "2023-07-07T00:00:00.000Z",
         4,
         5695.64
        ]
       ],
       "datasetInfos": [],
       "dbfsResultPath": null,
       "isJsonSchema": true,
       "metadata": {},
       "overflow": false,
       "plotOptions": {
        "customPlotOptions": {},
        "displayType": "table",
        "pivotAggregation": null,
        "pivotColumns": null,
        "xColumns": null,
        "yColumns": null
       },
       "removedWidgets": [],
       "schema": [
        {
         "metadata": "{}",
         "name": "order_id",
         "type": "\"string\""
        },
        {
         "metadata": "{}",
         "name": "customer_id",
         "type": "\"string\""
        },
        {
         "metadata": "{}",
         "name": "product_id",
         "type": "\"string\""
        },
        {
         "metadata": "{}",
         "name": "order_date",
         "type": "\"timestamp\""
        },
        {
         "metadata": "{}",
         "name": "quantity",
         "type": "\"integer\""
        },
        {
         "metadata": "{}",
         "name": "total_amount",
         "type": "\"double\""
        }
       ],
       "type": "table"
      }
     },
     "output_type": "display_data"
    },
    {
     "output_type": "execute_result",
     "data": {
      "text/plain": [
       "10000"
      ]
     },
     "execution_count": 7,
     "metadata": {},
     "output_type": "execute_result"
    }
   ],
   "source": [
    "df=df.withColumn('order_date',to_timestamp(col('order_date'),'MM-dd-yyyy'))\n",
    "df.limit(10).display()\n",
    "df.count()"
   ]
  },
  {
   "cell_type": "code",
   "execution_count": 0,
   "metadata": {
    "application/vnd.databricks.v1+cell": {
     "cellMetadata": {
      "byteLimit": 2048000,
      "rowLimit": 10000
     },
     "inputWidgets": {},
     "nuid": "31393378-b23e-41cd-9b41-8dce5aaa5046",
     "showTitle": false,
     "tableResultSettingsMap": {
      "0": {
       "dataGridStateBlob": "{\"version\":1,\"tableState\":{\"columnPinning\":{\"left\":[\"#row_number#\"],\"right\":[]},\"columnSizing\":{\"order_date\":207},\"columnVisibility\":{}},\"settings\":{\"columns\":{}},\"syncTimestamp\":1757225278948}",
       "filterBlob": null,
       "queryPlanFiltersBlob": null,
       "tableResultIndex": 0
      }
     },
     "title": ""
    }
   },
   "outputs": [
    {
     "output_type": "display_data",
     "data": {
      "text/html": [
       "<style scoped>\n",
       "  .table-result-container {\n",
       "    max-height: 300px;\n",
       "    overflow: auto;\n",
       "  }\n",
       "  table, th, td {\n",
       "    border: 1px solid black;\n",
       "    border-collapse: collapse;\n",
       "  }\n",
       "  th, td {\n",
       "    padding: 5px;\n",
       "  }\n",
       "  th {\n",
       "    text-align: left;\n",
       "  }\n",
       "</style><div class='table-result-container'><table class='table-result'><thead style='background-color: white'><tr><th>order_id</th><th>customer_id</th><th>product_id</th><th>order_date</th><th>quantity</th><th>total_amount</th><th>year</th></tr></thead><tbody><tr><td>O00001</td><td>C00710</td><td>P0159</td><td>2023-03-22T00:00:00.000Z</td><td>3</td><td>2022.87</td><td>2023</td></tr><tr><td>O00002</td><td>C00954</td><td>P0036</td><td>2023-06-30T00:00:00.000Z</td><td>2</td><td>3560.74</td><td>2023</td></tr><tr><td>O00003</td><td>C01578</td><td>P0427</td><td>2023-11-06T00:00:00.000Z</td><td>3</td><td>5903.52</td><td>2023</td></tr><tr><td>O00004</td><td>C00962</td><td>P0332</td><td>2024-02-27T00:00:00.000Z</td><td>3</td><td>4107.99</td><td>2024</td></tr><tr><td>O00005</td><td>C00156</td><td>P0038</td><td>2024-10-13T00:00:00.000Z</td><td>5</td><td>5784.95</td><td>2024</td></tr><tr><td>O00006</td><td>C00521</td><td>P0174</td><td>2023-05-17T00:00:00.000Z</td><td>5</td><td>407.75</td><td>2023</td></tr><tr><td>O00007</td><td>C00982</td><td>P0352</td><td>2024-01-18T00:00:00.000Z</td><td>4</td><td>4907.64</td><td>2024</td></tr><tr><td>O00008</td><td>C00976</td><td>P0172</td><td>2023-01-10T00:00:00.000Z</td><td>4</td><td>7037.88</td><td>2023</td></tr><tr><td>O00009</td><td>C01001</td><td>P0238</td><td>2023-04-20T00:00:00.000Z</td><td>3</td><td>4076.97</td><td>2023</td></tr><tr><td>O00010</td><td>C00702</td><td>P0258</td><td>2023-07-07T00:00:00.000Z</td><td>4</td><td>5695.64</td><td>2023</td></tr></tbody></table></div>"
      ]
     },
     "metadata": {
      "application/vnd.databricks.v1+output": {
       "addedWidgets": {},
       "aggData": [],
       "aggError": "",
       "aggOverflow": false,
       "aggSchema": [],
       "aggSeriesLimitReached": false,
       "aggType": "",
       "arguments": {},
       "columnCustomDisplayInfos": {},
       "data": [
        [
         "O00001",
         "C00710",
         "P0159",
         "2023-03-22T00:00:00.000Z",
         3,
         2022.87,
         2023
        ],
        [
         "O00002",
         "C00954",
         "P0036",
         "2023-06-30T00:00:00.000Z",
         2,
         3560.74,
         2023
        ],
        [
         "O00003",
         "C01578",
         "P0427",
         "2023-11-06T00:00:00.000Z",
         3,
         5903.52,
         2023
        ],
        [
         "O00004",
         "C00962",
         "P0332",
         "2024-02-27T00:00:00.000Z",
         3,
         4107.99,
         2024
        ],
        [
         "O00005",
         "C00156",
         "P0038",
         "2024-10-13T00:00:00.000Z",
         5,
         5784.95,
         2024
        ],
        [
         "O00006",
         "C00521",
         "P0174",
         "2023-05-17T00:00:00.000Z",
         5,
         407.75,
         2023
        ],
        [
         "O00007",
         "C00982",
         "P0352",
         "2024-01-18T00:00:00.000Z",
         4,
         4907.64,
         2024
        ],
        [
         "O00008",
         "C00976",
         "P0172",
         "2023-01-10T00:00:00.000Z",
         4,
         7037.88,
         2023
        ],
        [
         "O00009",
         "C01001",
         "P0238",
         "2023-04-20T00:00:00.000Z",
         3,
         4076.97,
         2023
        ],
        [
         "O00010",
         "C00702",
         "P0258",
         "2023-07-07T00:00:00.000Z",
         4,
         5695.64,
         2023
        ]
       ],
       "datasetInfos": [],
       "dbfsResultPath": null,
       "isJsonSchema": true,
       "metadata": {},
       "overflow": false,
       "plotOptions": {
        "customPlotOptions": {},
        "displayType": "table",
        "pivotAggregation": null,
        "pivotColumns": null,
        "xColumns": null,
        "yColumns": null
       },
       "removedWidgets": [],
       "schema": [
        {
         "metadata": "{}",
         "name": "order_id",
         "type": "\"string\""
        },
        {
         "metadata": "{}",
         "name": "customer_id",
         "type": "\"string\""
        },
        {
         "metadata": "{}",
         "name": "product_id",
         "type": "\"string\""
        },
        {
         "metadata": "{}",
         "name": "order_date",
         "type": "\"timestamp\""
        },
        {
         "metadata": "{}",
         "name": "quantity",
         "type": "\"integer\""
        },
        {
         "metadata": "{}",
         "name": "total_amount",
         "type": "\"double\""
        },
        {
         "metadata": "{}",
         "name": "year",
         "type": "\"integer\""
        }
       ],
       "type": "table"
      }
     },
     "output_type": "display_data"
    },
    {
     "output_type": "execute_result",
     "data": {
      "text/plain": [
       "10000"
      ]
     },
     "execution_count": 8,
     "metadata": {},
     "output_type": "execute_result"
    }
   ],
   "source": [
    "df=df.withColumn(\"year\",year(col(\"order_date\")))\n",
    "df.limit(10).display()\n",
    "df.count()"
   ]
  },
  {
   "cell_type": "code",
   "execution_count": 0,
   "metadata": {
    "application/vnd.databricks.v1+cell": {
     "cellMetadata": {
      "byteLimit": 2048000,
      "rowLimit": 10000
     },
     "inputWidgets": {},
     "nuid": "c4410a73-6535-43d1-9ba0-7252b26eb963",
     "showTitle": false,
     "tableResultSettingsMap": {},
     "title": ""
    }
   },
   "outputs": [
    {
     "output_type": "display_data",
     "data": {
      "text/html": [
       "<style scoped>\n",
       "  .table-result-container {\n",
       "    max-height: 300px;\n",
       "    overflow: auto;\n",
       "  }\n",
       "  table, th, td {\n",
       "    border: 1px solid black;\n",
       "    border-collapse: collapse;\n",
       "  }\n",
       "  th, td {\n",
       "    padding: 5px;\n",
       "  }\n",
       "  th {\n",
       "    text-align: left;\n",
       "  }\n",
       "</style><div class='table-result-container'><table class='table-result'><thead style='background-color: white'><tr><th>order_id</th><th>customer_id</th><th>product_id</th><th>order_date</th><th>quantity</th><th>total_amount</th><th>year</th><th>flag</th></tr></thead><tbody><tr><td>O00957</td><td>C01449</td><td>P0498</td><td>2023-10-05T00:00:00.000Z</td><td>5</td><td>9952.9</td><td>2023</td><td>1</td></tr><tr><td>O01765</td><td>C01515</td><td>P0498</td><td>2023-05-11T00:00:00.000Z</td><td>5</td><td>9952.9</td><td>2023</td><td>1</td></tr><tr><td>O03502</td><td>C00805</td><td>P0498</td><td>2023-09-24T00:00:00.000Z</td><td>5</td><td>9952.9</td><td>2023</td><td>1</td></tr><tr><td>O03660</td><td>C01001</td><td>P0498</td><td>2023-10-08T00:00:00.000Z</td><td>5</td><td>9952.9</td><td>2023</td><td>1</td></tr><tr><td>O06790</td><td>C01819</td><td>P0498</td><td>2023-02-27T00:00:00.000Z</td><td>5</td><td>9952.9</td><td>2023</td><td>1</td></tr><tr><td>O03989</td><td>C00631</td><td>P0440</td><td>2023-11-20T00:00:00.000Z</td><td>5</td><td>9916.25</td><td>2023</td><td>2</td></tr><tr><td>O07763</td><td>C00471</td><td>P0440</td><td>2023-04-12T00:00:00.000Z</td><td>5</td><td>9916.25</td><td>2023</td><td>2</td></tr><tr><td>O03272</td><td>C01879</td><td>P0165</td><td>2023-02-15T00:00:00.000Z</td><td>5</td><td>9858.85</td><td>2023</td><td>3</td></tr><tr><td>O03746</td><td>C01713</td><td>P0165</td><td>2023-10-26T00:00:00.000Z</td><td>5</td><td>9858.85</td><td>2023</td><td>3</td></tr><tr><td>O08261</td><td>C00988</td><td>P0165</td><td>2023-11-29T00:00:00.000Z</td><td>5</td><td>9858.85</td><td>2023</td><td>3</td></tr></tbody></table></div>"
      ]
     },
     "metadata": {
      "application/vnd.databricks.v1+output": {
       "addedWidgets": {},
       "aggData": [],
       "aggError": "",
       "aggOverflow": false,
       "aggSchema": [],
       "aggSeriesLimitReached": false,
       "aggType": "",
       "arguments": {},
       "columnCustomDisplayInfos": {},
       "data": [
        [
         "O00957",
         "C01449",
         "P0498",
         "2023-10-05T00:00:00.000Z",
         5,
         9952.9,
         2023,
         1
        ],
        [
         "O01765",
         "C01515",
         "P0498",
         "2023-05-11T00:00:00.000Z",
         5,
         9952.9,
         2023,
         1
        ],
        [
         "O03502",
         "C00805",
         "P0498",
         "2023-09-24T00:00:00.000Z",
         5,
         9952.9,
         2023,
         1
        ],
        [
         "O03660",
         "C01001",
         "P0498",
         "2023-10-08T00:00:00.000Z",
         5,
         9952.9,
         2023,
         1
        ],
        [
         "O06790",
         "C01819",
         "P0498",
         "2023-02-27T00:00:00.000Z",
         5,
         9952.9,
         2023,
         1
        ],
        [
         "O03989",
         "C00631",
         "P0440",
         "2023-11-20T00:00:00.000Z",
         5,
         9916.25,
         2023,
         2
        ],
        [
         "O07763",
         "C00471",
         "P0440",
         "2023-04-12T00:00:00.000Z",
         5,
         9916.25,
         2023,
         2
        ],
        [
         "O03272",
         "C01879",
         "P0165",
         "2023-02-15T00:00:00.000Z",
         5,
         9858.85,
         2023,
         3
        ],
        [
         "O03746",
         "C01713",
         "P0165",
         "2023-10-26T00:00:00.000Z",
         5,
         9858.85,
         2023,
         3
        ],
        [
         "O08261",
         "C00988",
         "P0165",
         "2023-11-29T00:00:00.000Z",
         5,
         9858.85,
         2023,
         3
        ]
       ],
       "datasetInfos": [],
       "dbfsResultPath": null,
       "isJsonSchema": true,
       "metadata": {},
       "overflow": false,
       "plotOptions": {
        "customPlotOptions": {},
        "displayType": "table",
        "pivotAggregation": null,
        "pivotColumns": null,
        "xColumns": null,
        "yColumns": null
       },
       "removedWidgets": [],
       "schema": [
        {
         "metadata": "{}",
         "name": "order_id",
         "type": "\"string\""
        },
        {
         "metadata": "{}",
         "name": "customer_id",
         "type": "\"string\""
        },
        {
         "metadata": "{}",
         "name": "product_id",
         "type": "\"string\""
        },
        {
         "metadata": "{}",
         "name": "order_date",
         "type": "\"timestamp\""
        },
        {
         "metadata": "{}",
         "name": "quantity",
         "type": "\"integer\""
        },
        {
         "metadata": "{}",
         "name": "total_amount",
         "type": "\"double\""
        },
        {
         "metadata": "{}",
         "name": "year",
         "type": "\"integer\""
        },
        {
         "metadata": "{}",
         "name": "flag",
         "type": "\"integer\""
        }
       ],
       "type": "table"
      }
     },
     "output_type": "display_data"
    },
    {
     "output_type": "execute_result",
     "data": {
      "text/plain": [
       "10000"
      ]
     },
     "execution_count": 9,
     "metadata": {},
     "output_type": "execute_result"
    }
   ],
   "source": [
    "df1=df.withColumn('flag',dense_rank().over(Window.partitionBy('year').orderBy(desc('total_amount'))))\n",
    "df1.limit(10).display()\n",
    "df1.count()"
   ]
  },
  {
   "cell_type": "code",
   "execution_count": 0,
   "metadata": {
    "application/vnd.databricks.v1+cell": {
     "cellMetadata": {
      "byteLimit": 2048000,
      "rowLimit": 10000
     },
     "inputWidgets": {},
     "nuid": "8ea2af03-3025-43ec-972c-cdba60b57a9d",
     "showTitle": false,
     "tableResultSettingsMap": {},
     "title": ""
    }
   },
   "outputs": [
    {
     "output_type": "display_data",
     "data": {
      "text/html": [
       "<style scoped>\n",
       "  .table-result-container {\n",
       "    max-height: 300px;\n",
       "    overflow: auto;\n",
       "  }\n",
       "  table, th, td {\n",
       "    border: 1px solid black;\n",
       "    border-collapse: collapse;\n",
       "  }\n",
       "  th, td {\n",
       "    padding: 5px;\n",
       "  }\n",
       "  th {\n",
       "    text-align: left;\n",
       "  }\n",
       "</style><div class='table-result-container'><table class='table-result'><thead style='background-color: white'><tr><th>order_id</th><th>customer_id</th><th>product_id</th><th>order_date</th><th>quantity</th><th>total_amount</th><th>year</th><th>flag</th><th>rank_flag</th></tr></thead><tbody><tr><td>O00957</td><td>C01449</td><td>P0498</td><td>2023-10-05T00:00:00.000Z</td><td>5</td><td>9952.9</td><td>2023</td><td>1</td><td>1</td></tr><tr><td>O01765</td><td>C01515</td><td>P0498</td><td>2023-05-11T00:00:00.000Z</td><td>5</td><td>9952.9</td><td>2023</td><td>1</td><td>1</td></tr><tr><td>O03502</td><td>C00805</td><td>P0498</td><td>2023-09-24T00:00:00.000Z</td><td>5</td><td>9952.9</td><td>2023</td><td>1</td><td>1</td></tr><tr><td>O03660</td><td>C01001</td><td>P0498</td><td>2023-10-08T00:00:00.000Z</td><td>5</td><td>9952.9</td><td>2023</td><td>1</td><td>1</td></tr><tr><td>O06790</td><td>C01819</td><td>P0498</td><td>2023-02-27T00:00:00.000Z</td><td>5</td><td>9952.9</td><td>2023</td><td>1</td><td>1</td></tr><tr><td>O03989</td><td>C00631</td><td>P0440</td><td>2023-11-20T00:00:00.000Z</td><td>5</td><td>9916.25</td><td>2023</td><td>2</td><td>6</td></tr><tr><td>O07763</td><td>C00471</td><td>P0440</td><td>2023-04-12T00:00:00.000Z</td><td>5</td><td>9916.25</td><td>2023</td><td>2</td><td>6</td></tr><tr><td>O03272</td><td>C01879</td><td>P0165</td><td>2023-02-15T00:00:00.000Z</td><td>5</td><td>9858.85</td><td>2023</td><td>3</td><td>8</td></tr><tr><td>O03746</td><td>C01713</td><td>P0165</td><td>2023-10-26T00:00:00.000Z</td><td>5</td><td>9858.85</td><td>2023</td><td>3</td><td>8</td></tr><tr><td>O08261</td><td>C00988</td><td>P0165</td><td>2023-11-29T00:00:00.000Z</td><td>5</td><td>9858.85</td><td>2023</td><td>3</td><td>8</td></tr></tbody></table></div>"
      ]
     },
     "metadata": {
      "application/vnd.databricks.v1+output": {
       "addedWidgets": {},
       "aggData": [],
       "aggError": "",
       "aggOverflow": false,
       "aggSchema": [],
       "aggSeriesLimitReached": false,
       "aggType": "",
       "arguments": {},
       "columnCustomDisplayInfos": {},
       "data": [
        [
         "O00957",
         "C01449",
         "P0498",
         "2023-10-05T00:00:00.000Z",
         5,
         9952.9,
         2023,
         1,
         1
        ],
        [
         "O01765",
         "C01515",
         "P0498",
         "2023-05-11T00:00:00.000Z",
         5,
         9952.9,
         2023,
         1,
         1
        ],
        [
         "O03502",
         "C00805",
         "P0498",
         "2023-09-24T00:00:00.000Z",
         5,
         9952.9,
         2023,
         1,
         1
        ],
        [
         "O03660",
         "C01001",
         "P0498",
         "2023-10-08T00:00:00.000Z",
         5,
         9952.9,
         2023,
         1,
         1
        ],
        [
         "O06790",
         "C01819",
         "P0498",
         "2023-02-27T00:00:00.000Z",
         5,
         9952.9,
         2023,
         1,
         1
        ],
        [
         "O03989",
         "C00631",
         "P0440",
         "2023-11-20T00:00:00.000Z",
         5,
         9916.25,
         2023,
         2,
         6
        ],
        [
         "O07763",
         "C00471",
         "P0440",
         "2023-04-12T00:00:00.000Z",
         5,
         9916.25,
         2023,
         2,
         6
        ],
        [
         "O03272",
         "C01879",
         "P0165",
         "2023-02-15T00:00:00.000Z",
         5,
         9858.85,
         2023,
         3,
         8
        ],
        [
         "O03746",
         "C01713",
         "P0165",
         "2023-10-26T00:00:00.000Z",
         5,
         9858.85,
         2023,
         3,
         8
        ],
        [
         "O08261",
         "C00988",
         "P0165",
         "2023-11-29T00:00:00.000Z",
         5,
         9858.85,
         2023,
         3,
         8
        ]
       ],
       "datasetInfos": [],
       "dbfsResultPath": null,
       "isJsonSchema": true,
       "metadata": {},
       "overflow": false,
       "plotOptions": {
        "customPlotOptions": {},
        "displayType": "table",
        "pivotAggregation": null,
        "pivotColumns": null,
        "xColumns": null,
        "yColumns": null
       },
       "removedWidgets": [],
       "schema": [
        {
         "metadata": "{}",
         "name": "order_id",
         "type": "\"string\""
        },
        {
         "metadata": "{}",
         "name": "customer_id",
         "type": "\"string\""
        },
        {
         "metadata": "{}",
         "name": "product_id",
         "type": "\"string\""
        },
        {
         "metadata": "{}",
         "name": "order_date",
         "type": "\"timestamp\""
        },
        {
         "metadata": "{}",
         "name": "quantity",
         "type": "\"integer\""
        },
        {
         "metadata": "{}",
         "name": "total_amount",
         "type": "\"double\""
        },
        {
         "metadata": "{}",
         "name": "year",
         "type": "\"integer\""
        },
        {
         "metadata": "{}",
         "name": "flag",
         "type": "\"integer\""
        },
        {
         "metadata": "{}",
         "name": "rank_flag",
         "type": "\"integer\""
        }
       ],
       "type": "table"
      }
     },
     "output_type": "display_data"
    },
    {
     "output_type": "execute_result",
     "data": {
      "text/plain": [
       "10000"
      ]
     },
     "execution_count": 10,
     "metadata": {},
     "output_type": "execute_result"
    }
   ],
   "source": [
    "df1=df1.withColumn('rank_flag',rank().over(Window.partitionBy('year').orderBy(desc('total_amount'))))\n",
    "df1.limit(10).display()\n",
    "df1.count()"
   ]
  },
  {
   "cell_type": "code",
   "execution_count": 0,
   "metadata": {
    "application/vnd.databricks.v1+cell": {
     "cellMetadata": {
      "byteLimit": 2048000,
      "rowLimit": 10000
     },
     "inputWidgets": {},
     "nuid": "104d320f-a317-4545-ba71-54424d5db08a",
     "showTitle": false,
     "tableResultSettingsMap": {},
     "title": ""
    }
   },
   "outputs": [
    {
     "output_type": "display_data",
     "data": {
      "text/html": [
       "<style scoped>\n",
       "  .table-result-container {\n",
       "    max-height: 300px;\n",
       "    overflow: auto;\n",
       "  }\n",
       "  table, th, td {\n",
       "    border: 1px solid black;\n",
       "    border-collapse: collapse;\n",
       "  }\n",
       "  th, td {\n",
       "    padding: 5px;\n",
       "  }\n",
       "  th {\n",
       "    text-align: left;\n",
       "  }\n",
       "</style><div class='table-result-container'><table class='table-result'><thead style='background-color: white'><tr><th>order_id</th><th>customer_id</th><th>product_id</th><th>order_date</th><th>quantity</th><th>total_amount</th><th>year</th><th>flag</th><th>rank_flag</th><th>row_flag</th></tr></thead><tbody><tr><td>O00957</td><td>C01449</td><td>P0498</td><td>2023-10-05T00:00:00.000Z</td><td>5</td><td>9952.9</td><td>2023</td><td>1</td><td>1</td><td>1</td></tr><tr><td>O01765</td><td>C01515</td><td>P0498</td><td>2023-05-11T00:00:00.000Z</td><td>5</td><td>9952.9</td><td>2023</td><td>1</td><td>1</td><td>2</td></tr><tr><td>O03502</td><td>C00805</td><td>P0498</td><td>2023-09-24T00:00:00.000Z</td><td>5</td><td>9952.9</td><td>2023</td><td>1</td><td>1</td><td>3</td></tr><tr><td>O03660</td><td>C01001</td><td>P0498</td><td>2023-10-08T00:00:00.000Z</td><td>5</td><td>9952.9</td><td>2023</td><td>1</td><td>1</td><td>4</td></tr><tr><td>O06790</td><td>C01819</td><td>P0498</td><td>2023-02-27T00:00:00.000Z</td><td>5</td><td>9952.9</td><td>2023</td><td>1</td><td>1</td><td>5</td></tr><tr><td>O03989</td><td>C00631</td><td>P0440</td><td>2023-11-20T00:00:00.000Z</td><td>5</td><td>9916.25</td><td>2023</td><td>2</td><td>6</td><td>6</td></tr><tr><td>O07763</td><td>C00471</td><td>P0440</td><td>2023-04-12T00:00:00.000Z</td><td>5</td><td>9916.25</td><td>2023</td><td>2</td><td>6</td><td>7</td></tr><tr><td>O03272</td><td>C01879</td><td>P0165</td><td>2023-02-15T00:00:00.000Z</td><td>5</td><td>9858.85</td><td>2023</td><td>3</td><td>8</td><td>8</td></tr><tr><td>O03746</td><td>C01713</td><td>P0165</td><td>2023-10-26T00:00:00.000Z</td><td>5</td><td>9858.85</td><td>2023</td><td>3</td><td>8</td><td>9</td></tr><tr><td>O08261</td><td>C00988</td><td>P0165</td><td>2023-11-29T00:00:00.000Z</td><td>5</td><td>9858.85</td><td>2023</td><td>3</td><td>8</td><td>10</td></tr></tbody></table></div>"
      ]
     },
     "metadata": {
      "application/vnd.databricks.v1+output": {
       "addedWidgets": {},
       "aggData": [],
       "aggError": "",
       "aggOverflow": false,
       "aggSchema": [],
       "aggSeriesLimitReached": false,
       "aggType": "",
       "arguments": {},
       "columnCustomDisplayInfos": {},
       "data": [
        [
         "O00957",
         "C01449",
         "P0498",
         "2023-10-05T00:00:00.000Z",
         5,
         9952.9,
         2023,
         1,
         1,
         1
        ],
        [
         "O01765",
         "C01515",
         "P0498",
         "2023-05-11T00:00:00.000Z",
         5,
         9952.9,
         2023,
         1,
         1,
         2
        ],
        [
         "O03502",
         "C00805",
         "P0498",
         "2023-09-24T00:00:00.000Z",
         5,
         9952.9,
         2023,
         1,
         1,
         3
        ],
        [
         "O03660",
         "C01001",
         "P0498",
         "2023-10-08T00:00:00.000Z",
         5,
         9952.9,
         2023,
         1,
         1,
         4
        ],
        [
         "O06790",
         "C01819",
         "P0498",
         "2023-02-27T00:00:00.000Z",
         5,
         9952.9,
         2023,
         1,
         1,
         5
        ],
        [
         "O03989",
         "C00631",
         "P0440",
         "2023-11-20T00:00:00.000Z",
         5,
         9916.25,
         2023,
         2,
         6,
         6
        ],
        [
         "O07763",
         "C00471",
         "P0440",
         "2023-04-12T00:00:00.000Z",
         5,
         9916.25,
         2023,
         2,
         6,
         7
        ],
        [
         "O03272",
         "C01879",
         "P0165",
         "2023-02-15T00:00:00.000Z",
         5,
         9858.85,
         2023,
         3,
         8,
         8
        ],
        [
         "O03746",
         "C01713",
         "P0165",
         "2023-10-26T00:00:00.000Z",
         5,
         9858.85,
         2023,
         3,
         8,
         9
        ],
        [
         "O08261",
         "C00988",
         "P0165",
         "2023-11-29T00:00:00.000Z",
         5,
         9858.85,
         2023,
         3,
         8,
         10
        ]
       ],
       "datasetInfos": [],
       "dbfsResultPath": null,
       "isJsonSchema": true,
       "metadata": {},
       "overflow": false,
       "plotOptions": {
        "customPlotOptions": {},
        "displayType": "table",
        "pivotAggregation": null,
        "pivotColumns": null,
        "xColumns": null,
        "yColumns": null
       },
       "removedWidgets": [],
       "schema": [
        {
         "metadata": "{}",
         "name": "order_id",
         "type": "\"string\""
        },
        {
         "metadata": "{}",
         "name": "customer_id",
         "type": "\"string\""
        },
        {
         "metadata": "{}",
         "name": "product_id",
         "type": "\"string\""
        },
        {
         "metadata": "{}",
         "name": "order_date",
         "type": "\"timestamp\""
        },
        {
         "metadata": "{}",
         "name": "quantity",
         "type": "\"integer\""
        },
        {
         "metadata": "{}",
         "name": "total_amount",
         "type": "\"double\""
        },
        {
         "metadata": "{}",
         "name": "year",
         "type": "\"integer\""
        },
        {
         "metadata": "{}",
         "name": "flag",
         "type": "\"integer\""
        },
        {
         "metadata": "{}",
         "name": "rank_flag",
         "type": "\"integer\""
        },
        {
         "metadata": "{}",
         "name": "row_flag",
         "type": "\"integer\""
        }
       ],
       "type": "table"
      }
     },
     "output_type": "display_data"
    },
    {
     "output_type": "execute_result",
     "data": {
      "text/plain": [
       "10000"
      ]
     },
     "execution_count": 11,
     "metadata": {},
     "output_type": "execute_result"
    }
   ],
   "source": [
    "df1=df1.withColumn('row_flag',row_number().over(Window.partitionBy('year').orderBy(desc('total_amount'))))\n",
    "df1.limit(10).display()\n",
    "df1.count()"
   ]
  },
  {
   "cell_type": "markdown",
   "metadata": {
    "application/vnd.databricks.v1+cell": {
     "cellMetadata": {
      "byteLimit": 2048000,
      "rowLimit": 10000
     },
     "inputWidgets": {},
     "nuid": "aab50d22-8aa4-4e61-ac4a-6f6a043cac9e",
     "showTitle": false,
     "tableResultSettingsMap": {},
     "title": ""
    }
   },
   "source": [
    "### **Classes - OOP**"
   ]
  },
  {
   "cell_type": "code",
   "execution_count": 0,
   "metadata": {
    "application/vnd.databricks.v1+cell": {
     "cellMetadata": {
      "byteLimit": 2048000,
      "rowLimit": 10000
     },
     "inputWidgets": {},
     "nuid": "43012108-fdd1-486d-95b4-01703b0f3ef0",
     "showTitle": false,
     "tableResultSettingsMap": {},
     "title": ""
    }
   },
   "outputs": [],
   "source": [
    "class windows:\n",
    "    def dense_rank(self,df):\n",
    "        df_dense_rank=df.withColumn(\"flag\",dense_rank().over(Window.partitionBy('year').orderBy(desc('total_amount'))))\n",
    "        return df_dense_rank\n",
    "    def rank(self,df):\n",
    "        df_rank=df.withColumn(\"rank_flag\",rank().over(Window.partitionBy('year').orderBy(desc('total_amount'))))\n",
    "        return df_rank\n",
    "    def row_number(self,df):\n",
    "        df_row_number=df.withColumn(\"row_flag\",row_number().over(Window.partitionBy('year').orderBy(desc('total_amount'))))\n",
    "        return df_row_number"
   ]
  },
  {
   "cell_type": "code",
   "execution_count": 0,
   "metadata": {
    "application/vnd.databricks.v1+cell": {
     "cellMetadata": {
      "byteLimit": 2048000,
      "rowLimit": 10000
     },
     "inputWidgets": {},
     "nuid": "865e20bc-1a64-4f88-94d4-048b0498c8ff",
     "showTitle": false,
     "tableResultSettingsMap": {
      "0": {
       "dataGridStateBlob": "{\"version\":1,\"tableState\":{\"columnPinning\":{\"left\":[\"#row_number#\"],\"right\":[]},\"columnSizing\":{},\"columnVisibility\":{}},\"settings\":{\"columns\":{}},\"syncTimestamp\":1757226997973}",
       "filterBlob": null,
       "queryPlanFiltersBlob": null,
       "tableResultIndex": 0
      }
     },
     "title": ""
    }
   },
   "outputs": [
    {
     "output_type": "display_data",
     "data": {
      "text/html": [
       "<style scoped>\n",
       "  .table-result-container {\n",
       "    max-height: 300px;\n",
       "    overflow: auto;\n",
       "  }\n",
       "  table, th, td {\n",
       "    border: 1px solid black;\n",
       "    border-collapse: collapse;\n",
       "  }\n",
       "  th, td {\n",
       "    padding: 5px;\n",
       "  }\n",
       "  th {\n",
       "    text-align: left;\n",
       "  }\n",
       "</style><div class='table-result-container'><table class='table-result'><thead style='background-color: white'><tr><th>order_id</th><th>customer_id</th><th>product_id</th><th>order_date</th><th>quantity</th><th>total_amount</th><th>year</th><th>flag</th></tr></thead><tbody><tr><td>O00957</td><td>C01449</td><td>P0498</td><td>2023-10-05T00:00:00.000Z</td><td>5</td><td>9952.9</td><td>2023</td><td>1</td></tr><tr><td>O01765</td><td>C01515</td><td>P0498</td><td>2023-05-11T00:00:00.000Z</td><td>5</td><td>9952.9</td><td>2023</td><td>1</td></tr><tr><td>O03502</td><td>C00805</td><td>P0498</td><td>2023-09-24T00:00:00.000Z</td><td>5</td><td>9952.9</td><td>2023</td><td>1</td></tr><tr><td>O03660</td><td>C01001</td><td>P0498</td><td>2023-10-08T00:00:00.000Z</td><td>5</td><td>9952.9</td><td>2023</td><td>1</td></tr><tr><td>O06790</td><td>C01819</td><td>P0498</td><td>2023-02-27T00:00:00.000Z</td><td>5</td><td>9952.9</td><td>2023</td><td>1</td></tr><tr><td>O03989</td><td>C00631</td><td>P0440</td><td>2023-11-20T00:00:00.000Z</td><td>5</td><td>9916.25</td><td>2023</td><td>2</td></tr><tr><td>O07763</td><td>C00471</td><td>P0440</td><td>2023-04-12T00:00:00.000Z</td><td>5</td><td>9916.25</td><td>2023</td><td>2</td></tr><tr><td>O03272</td><td>C01879</td><td>P0165</td><td>2023-02-15T00:00:00.000Z</td><td>5</td><td>9858.85</td><td>2023</td><td>3</td></tr><tr><td>O03746</td><td>C01713</td><td>P0165</td><td>2023-10-26T00:00:00.000Z</td><td>5</td><td>9858.85</td><td>2023</td><td>3</td></tr><tr><td>O08261</td><td>C00988</td><td>P0165</td><td>2023-11-29T00:00:00.000Z</td><td>5</td><td>9858.85</td><td>2023</td><td>3</td></tr></tbody></table></div>"
      ]
     },
     "metadata": {
      "application/vnd.databricks.v1+output": {
       "addedWidgets": {},
       "aggData": [],
       "aggError": "",
       "aggOverflow": false,
       "aggSchema": [],
       "aggSeriesLimitReached": false,
       "aggType": "",
       "arguments": {},
       "columnCustomDisplayInfos": {},
       "data": [
        [
         "O00957",
         "C01449",
         "P0498",
         "2023-10-05T00:00:00.000Z",
         5,
         9952.9,
         2023,
         1
        ],
        [
         "O01765",
         "C01515",
         "P0498",
         "2023-05-11T00:00:00.000Z",
         5,
         9952.9,
         2023,
         1
        ],
        [
         "O03502",
         "C00805",
         "P0498",
         "2023-09-24T00:00:00.000Z",
         5,
         9952.9,
         2023,
         1
        ],
        [
         "O03660",
         "C01001",
         "P0498",
         "2023-10-08T00:00:00.000Z",
         5,
         9952.9,
         2023,
         1
        ],
        [
         "O06790",
         "C01819",
         "P0498",
         "2023-02-27T00:00:00.000Z",
         5,
         9952.9,
         2023,
         1
        ],
        [
         "O03989",
         "C00631",
         "P0440",
         "2023-11-20T00:00:00.000Z",
         5,
         9916.25,
         2023,
         2
        ],
        [
         "O07763",
         "C00471",
         "P0440",
         "2023-04-12T00:00:00.000Z",
         5,
         9916.25,
         2023,
         2
        ],
        [
         "O03272",
         "C01879",
         "P0165",
         "2023-02-15T00:00:00.000Z",
         5,
         9858.85,
         2023,
         3
        ],
        [
         "O03746",
         "C01713",
         "P0165",
         "2023-10-26T00:00:00.000Z",
         5,
         9858.85,
         2023,
         3
        ],
        [
         "O08261",
         "C00988",
         "P0165",
         "2023-11-29T00:00:00.000Z",
         5,
         9858.85,
         2023,
         3
        ]
       ],
       "datasetInfos": [],
       "dbfsResultPath": null,
       "isJsonSchema": true,
       "metadata": {},
       "overflow": false,
       "plotOptions": {
        "customPlotOptions": {},
        "displayType": "table",
        "pivotAggregation": null,
        "pivotColumns": null,
        "xColumns": null,
        "yColumns": null
       },
       "removedWidgets": [],
       "schema": [
        {
         "metadata": "{}",
         "name": "order_id",
         "type": "\"string\""
        },
        {
         "metadata": "{}",
         "name": "customer_id",
         "type": "\"string\""
        },
        {
         "metadata": "{}",
         "name": "product_id",
         "type": "\"string\""
        },
        {
         "metadata": "{}",
         "name": "order_date",
         "type": "\"timestamp\""
        },
        {
         "metadata": "{}",
         "name": "quantity",
         "type": "\"integer\""
        },
        {
         "metadata": "{}",
         "name": "total_amount",
         "type": "\"double\""
        },
        {
         "metadata": "{}",
         "name": "year",
         "type": "\"integer\""
        },
        {
         "metadata": "{}",
         "name": "flag",
         "type": "\"integer\""
        }
       ],
       "type": "table"
      }
     },
     "output_type": "display_data"
    }
   ],
   "source": [
    "df_new=df\n",
    "obj=windows()\n",
    "obj.dense_rank(df_new).limit(10).display()"
   ]
  },
  {
   "cell_type": "markdown",
   "metadata": {
    "application/vnd.databricks.v1+cell": {
     "cellMetadata": {
      "byteLimit": 2048000,
      "rowLimit": 10000
     },
     "inputWidgets": {},
     "nuid": "de568b5e-23e1-4638-b096-1237d9a7c8da",
     "showTitle": false,
     "tableResultSettingsMap": {},
     "title": ""
    }
   },
   "source": [
    "### **Data Writing**"
   ]
  },
  {
   "cell_type": "code",
   "execution_count": 0,
   "metadata": {
    "application/vnd.databricks.v1+cell": {
     "cellMetadata": {
      "byteLimit": 2048000,
      "rowLimit": 10000
     },
     "inputWidgets": {},
     "nuid": "9b8f8392-07b4-410c-9869-c5b928fd89db",
     "showTitle": false,
     "tableResultSettingsMap": {},
     "title": ""
    }
   },
   "outputs": [],
   "source": [
    "df.write.format(\"delta\").mode(\"overwrite\").save(\"abfss://silver@databricksaniete.dfs.core.windows.net/orders\")"
   ]
  },
  {
   "cell_type": "code",
   "execution_count": 0,
   "metadata": {
    "application/vnd.databricks.v1+cell": {
     "cellMetadata": {
      "byteLimit": 2048000,
      "implicitDf": true,
      "rowLimit": 10000
     },
     "inputWidgets": {},
     "nuid": "ca40406e-82c8-47a1-966a-87b6bb81f3e0",
     "showTitle": false,
     "tableResultSettingsMap": {},
     "title": ""
    }
   },
   "outputs": [],
   "source": [
    "%sql\n",
    "CREATE TABLE if not EXISTS databricks_cata.silver.orders_silver\n",
    "USING DELTA\n",
    "LOCATION 'abfss://silver@databricksaniete.dfs.core.windows.net/orders'"
   ]
  }
 ],
 "metadata": {
  "application/vnd.databricks.v1+notebook": {
   "computePreferences": {
    "hardware": {
     "accelerator": null,
     "gpuPoolId": null,
     "memory": null
    }
   },
   "dashboards": [],
   "environmentMetadata": {
    "base_environment": "",
    "environment_version": "3"
   },
   "inputWidgetPreferences": null,
   "language": "python",
   "notebookMetadata": {
    "mostRecentlyExecutedCommandWithImplicitDF": {
     "commandId": 5713322104548712,
     "dataframes": [
      "_sqldf"
     ]
    },
    "pythonIndentUnit": 4
   },
   "notebookName": "Silver_Orders",
   "widgets": {}
  },
  "language_info": {
   "name": "python"
  }
 },
 "nbformat": 4,
 "nbformat_minor": 0
}